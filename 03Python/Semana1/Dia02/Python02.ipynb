{
  "cells": [
    {
      "cell_type": "markdown",
      "metadata": {
        "id": "tcA9GUEHdfLJ"
      },
      "source": [
        "# Numbers"
      ]
    },
    {
      "cell_type": "code",
      "execution_count": 10,
      "metadata": {
        "colab": {
          "base_uri": "https://localhost:8080/"
        },
        "id": "OvDDCkrtdiRJ",
        "outputId": "d24a9c4d-944f-4f3f-d7b4-02f6b6e0a858"
      },
      "outputs": [
        {
          "name": "stdout",
          "output_type": "stream",
          "text": [
            "30 3.14 1500.5\n",
            "1000000.0 1e-06\n"
          ]
        }
      ],
      "source": [
        "edad = 30\n",
        "pi = 3.14\n",
        "salario = 1500.50\n",
        "print(edad, pi, salario)\n",
        "\n",
        "numero_grande = 1e6  # 1 millón\n",
        "numero_pequeno = 1e-6  # 0.000001\n",
        "print(numero_grande, numero_pequeno)"
      ]
    },
    {
      "cell_type": "markdown",
      "metadata": {
        "id": "ttYv4ZTydomx"
      },
      "source": [
        "# Type annotations for numbers"
      ]
    },
    {
      "cell_type": "code",
      "execution_count": 11,
      "metadata": {
        "colab": {
          "base_uri": "https://localhost:8080/"
        },
        "id": "IufIVAugeAmJ",
        "outputId": "19d5e0da-4680-4002-f27c-bbbdd4acfd58"
      },
      "outputs": [
        {
          "name": "stdout",
          "output_type": "stream",
          "text": [
            "30 3.14 1500.5\n"
          ]
        }
      ],
      "source": [
        "edad: int = 30\n",
        "pi: float = 3.14\n",
        "salario: float = 1500.50\n",
        "print(edad, pi, salario)"
      ]
    },
    {
      "cell_type": "markdown",
      "metadata": {
        "id": "go7o8ZOdeENS"
      },
      "source": [
        "# Strings"
      ]
    },
    {
      "cell_type": "code",
      "execution_count": 13,
      "metadata": {
        "colab": {
          "base_uri": "https://localhost:8080/"
        },
        "id": "VlmduvV_eGNC",
        "outputId": "4b824101-3fa7-425e-ab46-9eeb95587e3d"
      },
      "outputs": [
        {
          "name": "stdout",
          "output_type": "stream",
          "text": [
            "Sustantiva Academy\n"
          ]
        }
      ],
      "source": [
        "nombre = \"Sustantiva\"\n",
        "apellido = 'Academy'\n",
        "print(nombre, apellido)"
      ]
    },
    {
      "cell_type": "markdown",
      "metadata": {
        "id": "eOXVhm3XeMy6"
      },
      "source": [
        "# Type annotation for string"
      ]
    },
    {
      "cell_type": "code",
      "execution_count": 14,
      "metadata": {
        "colab": {
          "base_uri": "https://localhost:8080/"
        },
        "id": "Kz3gLCw9eOsS",
        "outputId": "6ac2dfbd-d116-4efd-d303-5e81a1c9ac25"
      },
      "outputs": [
        {
          "name": "stdout",
          "output_type": "stream",
          "text": [
            "Hola, ¿cómo estás?\n"
          ]
        }
      ],
      "source": [
        "mensaje: str = \"Hola, ¿cómo estás?\"\n",
        "print(mensaje)"
      ]
    },
    {
      "cell_type": "markdown",
      "metadata": {
        "id": "AdMnPqYCeReh"
      },
      "source": [
        "# String concatenation"
      ]
    },
    {
      "cell_type": "code",
      "execution_count": 15,
      "metadata": {
        "colab": {
          "base_uri": "https://localhost:8080/"
        },
        "id": "PRvtVujoeTdR",
        "outputId": "a69cdb4d-d486-4c0b-9f61-1116433f18fb"
      },
      "outputs": [
        {
          "name": "stdout",
          "output_type": "stream",
          "text": [
            "Hola, Sustantiva Academy!\n"
          ]
        }
      ],
      "source": [
        "saludo = \"Hola, \" + nombre + \" \" + apellido + \"!\"\n",
        "print(saludo)"
      ]
    },
    {
      "cell_type": "markdown",
      "metadata": {
        "id": "vO2pKOK3eV0h"
      },
      "source": [
        "# f-strings"
      ]
    },
    {
      "cell_type": "code",
      "execution_count": 16,
      "metadata": {
        "colab": {
          "base_uri": "https://localhost:8080/"
        },
        "id": "DaqaUaMkeZ9b",
        "outputId": "0a9e7f2e-8682-4335-d3f5-7fffcee747cf"
      },
      "outputs": [
        {
          "name": "stdout",
          "output_type": "stream",
          "text": [
            "Hola, Sustantiva Academy!\n"
          ]
        }
      ],
      "source": [
        "saludo_fstring = f\"Hola, {nombre} {apellido}!\"\n",
        "print(saludo_fstring)"
      ]
    },
    {
      "cell_type": "markdown",
      "metadata": {
        "id": "RKRbcmA8ebZx"
      },
      "source": [
        "# String methods"
      ]
    },
    {
      "cell_type": "code",
      "execution_count": 17,
      "metadata": {
        "colab": {
          "base_uri": "https://localhost:8080/"
        },
        "id": "xvWr9e7ledZK",
        "outputId": "644b9474-ca24-45d5-b9df-2ba23aa91af0"
      },
      "outputs": [
        {
          "name": "stdout",
          "output_type": "stream",
          "text": [
            "10\n",
            "SUSTANTIVA\n",
            "sustantiva\n",
            "['Sust', 'ntiv', '']\n"
          ]
        }
      ],
      "source": [
        "print(len(nombre))\n",
        "print(nombre.upper())\n",
        "print(nombre.lower())\n",
        "print(nombre.split('a'))"
      ]
    },
    {
      "cell_type": "markdown",
      "metadata": {
        "id": "EQLb0n6WehiK"
      },
      "source": [
        "# Dictionaries"
      ]
    },
    {
      "cell_type": "code",
      "execution_count": 20,
      "metadata": {
        "colab": {
          "base_uri": "https://localhost:8080/"
        },
        "id": "q7jf0ydKejpC",
        "outputId": "b49218cf-9485-4401-ceb6-ba3c2b2d700e"
      },
      "outputs": [
        {
          "name": "stdout",
          "output_type": "stream",
          "text": [
            "{'nombre': 'Fulanita', 'puntaje': 9567, 'cursoFavorito': {'nombre': 'Básico de Python', 'clases': 30, 'duracion': '2 horas'}}\n"
          ]
        }
      ],
      "source": [
        "persona = {\n",
        "    \"nombre\": \"Fulanita\",\n",
        "    \"puntaje\": 9567,\n",
        "    \"cursoFavorito\": {\n",
        "        \"nombre\": \"Básico de Python\",\n",
        "        \"clases\": 30,\n",
        "        \"duracion\": \"2 horas\"\n",
        "    }\n",
        "}\n",
        "print(persona)"
      ]
    },
    {
      "cell_type": "markdown",
      "metadata": {
        "id": "H-zYYDzkglIR"
      },
      "source": [
        "# Accessing dictionary elements"
      ]
    },
    {
      "cell_type": "code",
      "execution_count": 21,
      "metadata": {
        "colab": {
          "base_uri": "https://localhost:8080/"
        },
        "id": "rv5ukClqgn3S",
        "outputId": "68bc8a20-6f79-40c7-f9fa-e38b1396249c"
      },
      "outputs": [
        {
          "name": "stdout",
          "output_type": "stream",
          "text": [
            "Fulanita\n",
            "Básico de Python\n",
            "9567\n"
          ]
        }
      ],
      "source": [
        "print(persona[\"nombre\"])\n",
        "print(persona[\"cursoFavorito\"][\"nombre\"])\n",
        "print(persona[\"puntaje\"])"
      ]
    },
    {
      "cell_type": "markdown",
      "metadata": {
        "id": "M21weDLZgubS"
      },
      "source": [
        "# Booleans"
      ]
    },
    {
      "cell_type": "code",
      "execution_count": 22,
      "metadata": {
        "id": "ZNmLL1JEgwui"
      },
      "outputs": [],
      "source": [
        "curso_completado = True\n",
        "lectura_completada = False"
      ]
    },
    {
      "cell_type": "markdown",
      "metadata": {
        "id": "zx77kWNDg0AJ"
      },
      "source": [
        "# Checking data types"
      ]
    },
    {
      "cell_type": "code",
      "execution_count": 24,
      "metadata": {
        "colab": {
          "base_uri": "https://localhost:8080/"
        },
        "id": "iLsmcwiYg18x",
        "outputId": "58d913a7-ea19-4cf9-adfa-0b7cdbe33236"
      },
      "outputs": [
        {
          "name": "stdout",
          "output_type": "stream",
          "text": [
            "<class 'str'>\n",
            "<class 'int'>\n",
            "<class 'dict'>\n",
            "<class 'list'>\n"
          ]
        }
      ],
      "source": [
        "print(type(\"#SustantivaCursoPython\"))\n",
        "print(type(30))\n",
        "print(type({}))\n",
        "print(type([]))"
      ]
    }
  ],
  "metadata": {
    "colab": {
      "provenance": []
    },
    "kernelspec": {
      "display_name": "Python 3",
      "name": "python3"
    },
    "language_info": {
      "name": "python",
      "version": "3.11.8"
    }
  },
  "nbformat": 4,
  "nbformat_minor": 0
}
