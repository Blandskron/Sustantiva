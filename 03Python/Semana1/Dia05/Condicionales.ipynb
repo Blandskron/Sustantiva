{
  "nbformat": 4,
  "nbformat_minor": 0,
  "metadata": {
    "colab": {
      "provenance": []
    },
    "kernelspec": {
      "name": "python3",
      "display_name": "Python 3"
    },
    "language_info": {
      "name": "python"
    }
  },
  "cells": [
    {
      "cell_type": "markdown",
      "source": [
        "#Condicionales"
      ],
      "metadata": {
        "id": "UwpNNc78ZPcT"
      }
    },
    {
      "cell_type": "markdown",
      "source": [
        "La estructura de control “if” en Python sirve para tomar decisiones en función de si una determinada condición es verdadera o falsa. El código dentro de un bloque “if” sólo se ejecutará si la condición es verdadera, mientras que el código en un bloque “else” sólo se ejecutará si la condición es falsa."
      ],
      "metadata": {
        "id": "dGjtxcvTZSfz"
      }
    },
    {
      "cell_type": "markdown",
      "source": [
        "La sintaxis básica de una estructura “if” es la siguiente:"
      ],
      "metadata": {
        "id": "8tPkCtWYZVRz"
      }
    },
    {
      "cell_type": "code",
      "source": [
        "if condicion:\n",
        "  # código a ejecutar si la condición es verdadera\n",
        "else:\n",
        "  # código a ejecutar si la condición es falsa"
      ],
      "metadata": {
        "id": "oY4bby6JZb_q"
      },
      "execution_count": null,
      "outputs": []
    },
    {
      "cell_type": "markdown",
      "source": [
        "Una de las formas más comunes de utilizar una estructura “if” es comparando una variable con un valor específico. Por ejemplo:"
      ],
      "metadata": {
        "id": "EqtBnTBTZa4D"
      }
    },
    {
      "cell_type": "code",
      "source": [
        "edad = 25\n",
        "if edad >= 18:\n",
        "  print(\"Eres mayor de edad\")\n",
        "else:\n",
        "  print(\"Eres menor de edad\")"
      ],
      "metadata": {
        "id": "EC9ACK9hZlmF"
      },
      "execution_count": null,
      "outputs": []
    },
    {
      "cell_type": "markdown",
      "source": [
        "En este ejemplo, se establece una variable “edad” con un valor de 25. Luego, se utiliza una estructura “if” para comprobar si la edad es mayor o igual a 18. Si es verdadero, se imprimirá “Eres mayor de edad” en la consola, de lo contrario, se imprimirá “Eres menor de edad”."
      ],
      "metadata": {
        "id": "GVl_ckYOZkPj"
      }
    },
    {
      "cell_type": "markdown",
      "source": [
        "También es posible utilizar varias condiciones en una estructura “if” utilizando la palabra clave “elif”. Por ejemplo:"
      ],
      "metadata": {
        "id": "Uz1kyUPSZqAD"
      }
    },
    {
      "cell_type": "code",
      "source": [
        "calificacion = 75\n",
        "\n",
        "if calificacion >= 90:\n",
        "  print(\"Obtuviste una A\")\n",
        "elif calificacion >= 80:\n",
        "  print(\"Obtuviste una B\")\n",
        "elif calificacion >= 70:\n",
        "  print(\"Obtuviste una C\")\n",
        "else:\n",
        "  print(\"Obtuviste una calificación insuficiente\")"
      ],
      "metadata": {
        "id": "LCu2V7LSZw2r"
      },
      "execution_count": null,
      "outputs": []
    },
    {
      "cell_type": "markdown",
      "source": [
        "En este ejemplo, se establece una variable “calificacion” con un valor de 75. Luego, se utiliza una estructura “if-elif” para determinar en qué rango de calificación se encuentra. Si la calificación es mayor o igual a 90, se imprimirá “Obtuviste una A”, si es mayor o igual a 80, se imprimirá “Obtuviste una B”, y así sucesivamente.\n"
      ],
      "metadata": {
        "id": "BI_P2TWXZ1Ty"
      }
    }
  ]
}