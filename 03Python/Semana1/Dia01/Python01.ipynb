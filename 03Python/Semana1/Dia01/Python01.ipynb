{
  "nbformat": 4,
  "nbformat_minor": 0,
  "metadata": {
    "colab": {
      "provenance": []
    },
    "kernelspec": {
      "name": "python3",
      "display_name": "Python 3"
    },
    "language_info": {
      "name": "python"
    }
  },
  "cells": [
    {
      "cell_type": "markdown",
      "source": [
        "# Variables que pueden cambiar con el tiempo"
      ],
      "metadata": {
        "id": "tcA9GUEHdfLJ"
      }
    },
    {
      "cell_type": "code",
      "source": [
        "edad = 30\n",
        "hora = 12\n",
        "print(edad, hora)"
      ],
      "metadata": {
        "colab": {
          "base_uri": "https://localhost:8080/"
        },
        "id": "OvDDCkrtdiRJ",
        "outputId": "55deb6d9-6fdb-49aa-c7d2-6309feb349d8"
      },
      "execution_count": 2,
      "outputs": [
        {
          "output_type": "stream",
          "name": "stdout",
          "text": [
            "30 12\n"
          ]
        }
      ]
    },
    {
      "cell_type": "markdown",
      "source": [
        "# Modificamos las variables para demostrar que pueden cambiar"
      ],
      "metadata": {
        "id": "ttYv4ZTydomx"
      }
    },
    {
      "cell_type": "code",
      "source": [
        "edad = 31\n",
        "hora = 15\n",
        "print(edad, hora)"
      ],
      "metadata": {
        "colab": {
          "base_uri": "https://localhost:8080/"
        },
        "id": "IufIVAugeAmJ",
        "outputId": "d310059d-0e4d-48a2-a4b2-beadb8136765"
      },
      "execution_count": 3,
      "outputs": [
        {
          "output_type": "stream",
          "name": "stdout",
          "text": [
            "31 15\n"
          ]
        }
      ]
    },
    {
      "cell_type": "markdown",
      "source": [
        "# Funciones"
      ],
      "metadata": {
        "id": "go7o8ZOdeENS"
      }
    },
    {
      "cell_type": "code",
      "source": [
        "def mi_funcion(parametro1, parametro2):\n",
        "    # Código de la función\n",
        "    resultado = parametro1 + parametro2\n",
        "    return resultado"
      ],
      "metadata": {
        "id": "VlmduvV_eGNC"
      },
      "execution_count": 4,
      "outputs": []
    },
    {
      "cell_type": "markdown",
      "source": [
        "# Llamamos a la función"
      ],
      "metadata": {
        "id": "eOXVhm3XeMy6"
      }
    },
    {
      "cell_type": "code",
      "source": [
        "valor1 = 10\n",
        "valor2 = 20\n",
        "resultado = mi_funcion(valor1, valor2)\n",
        "print(\"Resultado de la función:\", resultado)"
      ],
      "metadata": {
        "colab": {
          "base_uri": "https://localhost:8080/"
        },
        "id": "Kz3gLCw9eOsS",
        "outputId": "52c9e864-5a01-4a24-e459-f831a6b42859"
      },
      "execution_count": 5,
      "outputs": [
        {
          "output_type": "stream",
          "name": "stdout",
          "text": [
            "Resultado de la función: 30\n"
          ]
        }
      ]
    },
    {
      "cell_type": "markdown",
      "source": [
        "# Funciones anónimas (lambda)"
      ],
      "metadata": {
        "id": "AdMnPqYCeReh"
      }
    },
    {
      "cell_type": "code",
      "source": [
        "saluda = lambda: print(\"Hola\")\n",
        "saluda()"
      ],
      "metadata": {
        "colab": {
          "base_uri": "https://localhost:8080/"
        },
        "id": "PRvtVujoeTdR",
        "outputId": "2117d0d8-ea9c-49f6-f78b-f086b4e9993e"
      },
      "execution_count": 6,
      "outputs": [
        {
          "output_type": "stream",
          "name": "stdout",
          "text": [
            "Hola\n"
          ]
        }
      ]
    },
    {
      "cell_type": "markdown",
      "source": [
        "# Sintaxis básica"
      ],
      "metadata": {
        "id": "vO2pKOK3eV0h"
      }
    },
    {
      "cell_type": "code",
      "source": [
        "condicion = True"
      ],
      "metadata": {
        "id": "DaqaUaMkeZ9b"
      },
      "execution_count": 7,
      "outputs": []
    },
    {
      "cell_type": "markdown",
      "source": [
        "# Ejemplo de estructura de control if-else"
      ],
      "metadata": {
        "id": "RKRbcmA8ebZx"
      }
    },
    {
      "cell_type": "code",
      "source": [
        "if condicion:\n",
        "    print(\"La condición es verdadera\")\n",
        "else:\n",
        "    print(\"La condición es falsa\")"
      ],
      "metadata": {
        "colab": {
          "base_uri": "https://localhost:8080/"
        },
        "id": "xvWr9e7ledZK",
        "outputId": "da2f2c43-3c2d-494c-ec02-ee766d836136"
      },
      "execution_count": 8,
      "outputs": [
        {
          "output_type": "stream",
          "name": "stdout",
          "text": [
            "La condición es verdadera\n"
          ]
        }
      ]
    },
    {
      "cell_type": "markdown",
      "source": [
        "# Comentarios\n",
        "# Esto es un comentario de una línea"
      ],
      "metadata": {
        "id": "EQLb0n6WehiK"
      }
    },
    {
      "cell_type": "code",
      "source": [
        "\"\"\"\n",
        "Esto es un comentario\n",
        "de varias líneas\n",
        "\"\"\""
      ],
      "metadata": {
        "id": "q7jf0ydKejpC"
      },
      "execution_count": null,
      "outputs": []
    }
  ]
}