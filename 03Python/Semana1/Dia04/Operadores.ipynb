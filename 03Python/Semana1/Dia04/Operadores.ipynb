{
  "nbformat": 4,
  "nbformat_minor": 0,
  "metadata": {
    "colab": {
      "provenance": []
    },
    "kernelspec": {
      "name": "python3",
      "display_name": "Python 3"
    },
    "language_info": {
      "name": "python"
    }
  },
  "cells": [
    {
      "cell_type": "markdown",
      "source": [
        "#Operadores aritméticos\n",
        "Los operadores aritméticos nos permiten realizar operaciones matemáticas básicas, como la suma, la resta, la multiplicación y la división."
      ],
      "metadata": {
        "id": "iCdkAQfoa6IB"
      }
    },
    {
      "cell_type": "code",
      "source": [
        "# Suma\n",
        "print(1 + 2) # 3\n",
        "\n",
        "# Resta\n",
        "print(5 - 2) # 3\n",
        "\n",
        "# Multiplicación\n",
        "print(3 * 4) # 12\n",
        "\n",
        "# División\n",
        "print(10 / 2) # 5.0\n",
        "\n",
        "# División entera\n",
        "print(10 // 3) # 3\n",
        "\n",
        "# Módulo (devuelve el resto de una división)\n",
        "print(10 % 3) # 1\n",
        "\n",
        "# Potencia\n",
        "print(2 ** 3) # 8"
      ],
      "metadata": {
        "colab": {
          "base_uri": "https://localhost:8080/"
        },
        "id": "SK2gbBTybBOU",
        "outputId": "5afa4d5f-018e-4d45-eff2-a6cabf87cb69"
      },
      "execution_count": 1,
      "outputs": [
        {
          "output_type": "stream",
          "name": "stdout",
          "text": [
            "3\n",
            "3\n",
            "12\n",
            "5.0\n",
            "3\n",
            "1\n",
            "8\n"
          ]
        }
      ]
    },
    {
      "cell_type": "markdown",
      "source": [
        "#Operadores de asignación\n",
        "Los operadores de asignación nos permiten asignar valores a variables."
      ],
      "metadata": {
        "id": "lj4e1Jiga-80"
      }
    },
    {
      "cell_type": "code",
      "source": [
        "x = 10\n",
        "x += 5 # x = x + 5\n",
        "print(x) # 15\n",
        "\n",
        "x -= 3 # x = x - 3\n",
        "print(x) # 12\n",
        "\n",
        "x *= 2 # x = x * 2\n",
        "print(x) # 24\n",
        "\n",
        "x /= 4 # x = x / 4\n",
        "print(x) # 6.0\n",
        "\n",
        "x //= 3 # x = x // 3\n",
        "print(x) # 2.0\n",
        "\n",
        "x %= 2 # x = x % 2\n",
        "print(x) # 0.0\n",
        "\n",
        "x **= 3 # x = x ** 3\n",
        "print(x) # 0.0"
      ],
      "metadata": {
        "colab": {
          "base_uri": "https://localhost:8080/"
        },
        "id": "ocjyij0rbHuk",
        "outputId": "900da9e6-26cc-43c3-a948-df580aaf76cb"
      },
      "execution_count": 2,
      "outputs": [
        {
          "output_type": "stream",
          "name": "stdout",
          "text": [
            "15\n",
            "12\n",
            "24\n",
            "6.0\n",
            "2.0\n",
            "0.0\n",
            "0.0\n"
          ]
        }
      ]
    },
    {
      "cell_type": "markdown",
      "source": [
        "#Operadores de comparación\n",
        "Los operadores de comparación nos permiten comparar valores y nos devuelven True o False según el resultado de la comparación."
      ],
      "metadata": {
        "id": "pXP-S7Z1gA_Z"
      }
    },
    {
      "cell_type": "code",
      "source": [
        "print(1 < 2) # True\n",
        "print(2 > 1) # True\n",
        "print(1 <= 2) # True\n",
        "print(2 >= 1) # True\n",
        "print(1 != 2) # True"
      ],
      "metadata": {
        "colab": {
          "base_uri": "https://localhost:8080/"
        },
        "id": "-nYKwRdjgF95",
        "outputId": "0af26002-4b32-4b30-e97f-6638b518f208"
      },
      "execution_count": 3,
      "outputs": [
        {
          "output_type": "stream",
          "name": "stdout",
          "text": [
            "True\n",
            "True\n",
            "True\n",
            "True\n",
            "True\n"
          ]
        }
      ]
    },
    {
      "cell_type": "markdown",
      "source": [
        "Entre estos existen 2 operadores de igualdad, los cuales son == y is."
      ],
      "metadata": {
        "id": "kWh96BwugIcD"
      }
    },
    {
      "cell_type": "code",
      "source": [
        "print(1 == \"1\") # False\n",
        "print(1 is \"1\") # False"
      ],
      "metadata": {
        "colab": {
          "base_uri": "https://localhost:8080/"
        },
        "id": "wXK527ZggLEx",
        "outputId": "48a4dd54-3cd6-4a3e-d98c-df1ad95fcf2b"
      },
      "execution_count": 4,
      "outputs": [
        {
          "output_type": "stream",
          "name": "stdout",
          "text": [
            "False\n",
            "False\n"
          ]
        },
        {
          "output_type": "stream",
          "name": "stderr",
          "text": [
            "<>:2: SyntaxWarning: \"is\" with a literal. Did you mean \"==\"?\n",
            "<>:2: SyntaxWarning: \"is\" with a literal. Did you mean \"==\"?\n",
            "<ipython-input-4-229623d53a6f>:2: SyntaxWarning: \"is\" with a literal. Did you mean \"==\"?\n",
            "  print(1 is \"1\") # False\n"
          ]
        }
      ]
    },
    {
      "cell_type": "markdown",
      "source": [
        "En el primer caso, 1 == \"1\" devuelve True ya que solo se está comparando el valor y no el tipo de dato. Sin embargo, en el segundo caso, 1 is \"1\" devuelve False ya que está comparando tanto el valor como el tipo de dato y, aunque ambos son iguales, uno es de tipo número y el otro de tipo string.\n",
        "\n",
        "#Operadores lógicos en Python\n",
        "También tenemos disponibles los operadores lógicos para realizar operaciones de comparación y evaluación."
      ],
      "metadata": {
        "id": "2YPAJtJjgQQQ"
      }
    },
    {
      "cell_type": "markdown",
      "source": [
        "AND (and): Este operador lógico evalúa si ambas expresiones son verdaderas. Si ambas expresiones son verdaderas, devuelve True, de lo contrario, devuelve False. Por ejemplo:"
      ],
      "metadata": {
        "id": "e_0ZT6hEgUmp"
      }
    },
    {
      "cell_type": "code",
      "source": [
        "edad = 25\n",
        "mayor_de_edad = edad >= 18\n",
        "\n",
        "if edad >= 18 and mayor_de_edad:\n",
        "    print(\"Eres mayor de edad\")\n",
        "else:\n",
        "    print(\"Aún eres menor de edad\")"
      ],
      "metadata": {
        "id": "T2vVZoCrgWtC"
      },
      "execution_count": null,
      "outputs": []
    },
    {
      "cell_type": "markdown",
      "source": [
        "OR (or): Este operador lógico evalúa si al menos una de las expresiones es verdadera. Si al menos una de las expresiones es verdadera, devuelve True, de lo contrario, devuelve False. Por ejemplo:"
      ],
      "metadata": {
        "id": "r9WOmRnQgZFx"
      }
    },
    {
      "cell_type": "code",
      "source": [
        "edad = 25\n",
        "tiene_identificacion = True\n",
        "\n",
        "if edad >= 18 or tiene_identificacion:\n",
        "    print(\"Puedes entrar al bar\")\n",
        "else:\n",
        "    print(\"No tienes la edad o la identificación suficiente para entrar al bar\")"
      ],
      "metadata": {
        "id": "zL7D3iqAgcap"
      },
      "execution_count": null,
      "outputs": []
    },
    {
      "cell_type": "markdown",
      "source": [
        "**NOT (not)**: Este operador lógico invierte el valor de la expresión. Si la expresión es verdadera, devuelve False, de lo contrario, devuelve True. Por ejemplo:"
      ],
      "metadata": {
        "id": "qDGtwzhegewy"
      }
    },
    {
      "cell_type": "code",
      "source": [
        "es_fin_de_semana = True\n",
        "\n",
        "if not es_fin_de_semana:\n",
        "    print(\"A trabajar\")\n",
        "else:\n",
        "    print(\"A disfrutar del fin de semana\")"
      ],
      "metadata": {
        "id": "Sdk5OPH6gg9p"
      },
      "execution_count": null,
      "outputs": []
    }
  ]
}