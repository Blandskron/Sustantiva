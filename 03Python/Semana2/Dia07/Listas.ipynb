{
  "nbformat": 4,
  "nbformat_minor": 0,
  "metadata": {
    "colab": {
      "provenance": []
    },
    "kernelspec": {
      "name": "python3",
      "display_name": "Python 3"
    },
    "language_info": {
      "name": "python"
    }
  },
  "cells": [
    {
      "cell_type": "markdown",
      "source": [
        "#Listas"
      ],
      "metadata": {
        "id": "WEQHTWr5dCPk"
      }
    },
    {
      "cell_type": "markdown",
      "source": [
        "Las listas son un tipo de objeto que permite almacenar una colección de valores. Estos valores pueden ser de cualquier tipo, como números, cadenas, objetos, incluso otras listas. Las listas son muy útiles para almacenar y manejar datos en una sola estructura."
      ],
      "metadata": {
        "id": "12wXKXQWdHjD"
      }
    },
    {
      "cell_type": "markdown",
      "source": [
        "La sintaxis para crear una lista en Python es la siguiente:"
      ],
      "metadata": {
        "id": "0i8cS55TdIuL"
      }
    },
    {
      "cell_type": "code",
      "source": [
        "mi_lista = [valor1, valor2, valor3]"
      ],
      "metadata": {
        "id": "DsXh67EqdPbr"
      },
      "execution_count": null,
      "outputs": []
    },
    {
      "cell_type": "markdown",
      "source": [
        "Por ejemplo, el siguiente código crea una lista llamada “colores” que contiene tres valores: “rojo”, “azul” y “verde”:"
      ],
      "metadata": {
        "id": "t1oA9raHdS_z"
      }
    },
    {
      "cell_type": "code",
      "source": [
        "colores = [\"rojo\", \"azul\", \"verde\"]"
      ],
      "metadata": {
        "id": "95Blh3WSdXdb"
      },
      "execution_count": 2,
      "outputs": []
    },
    {
      "cell_type": "markdown",
      "source": [
        "Las listas tienen un índice numérico que comienza en 0. Por lo tanto, el primer elemento de la lista tiene el índice 0, el segundo tiene el índice 1, y así sucesivamente. Por ejemplo, para acceder al primer elemento de la lista “colores”, se utilizaría la sintaxis colores[0]."
      ],
      "metadata": {
        "id": "pKH9kr_0db7k"
      }
    },
    {
      "cell_type": "code",
      "source": [
        "colores = [\"rojo\", \"azul\", \"verde\"]\n",
        "colores[0]\n",
        "# \"rojo\""
      ],
      "metadata": {
        "colab": {
          "base_uri": "https://localhost:8080/",
          "height": 35
        },
        "id": "oYJH75r7defU",
        "outputId": "cd9cbf54-0a80-43b3-b2a8-4239b252042b"
      },
      "execution_count": 3,
      "outputs": [
        {
          "output_type": "execute_result",
          "data": {
            "text/plain": [
              "'rojo'"
            ],
            "application/vnd.google.colaboratory.intrinsic+json": {
              "type": "string"
            }
          },
          "metadata": {},
          "execution_count": 3
        }
      ]
    },
    {
      "cell_type": "markdown",
      "source": [
        "Para actualizar un valor específico en una lista, se puede utilizar la sintaxis lista[indice] = nuevo_valor."
      ],
      "metadata": {
        "id": "lrFNN1xGdlXj"
      }
    },
    {
      "cell_type": "code",
      "source": [
        "numeros = [1, 2, 3, 4, 5]\n",
        "numeros[0] = -8\n",
        "print(numeros)\n",
        "# [-8, 2, 3, 4, 5]"
      ],
      "metadata": {
        "colab": {
          "base_uri": "https://localhost:8080/"
        },
        "id": "HS1_glGgdmpa",
        "outputId": "cb19a2c5-46a3-41ab-9f7d-121b6ee7250b"
      },
      "execution_count": 4,
      "outputs": [
        {
          "output_type": "stream",
          "name": "stdout",
          "text": [
            "[-8, 2, 3, 4, 5]\n"
          ]
        }
      ]
    },
    {
      "cell_type": "markdown",
      "source": [
        "#Métodos más usados en las listas"
      ],
      "metadata": {
        "id": "JdDE1uoTdqyT"
      }
    },
    {
      "cell_type": "markdown",
      "source": [
        "append(): Permite agregar un nuevo elemento al final de la lista."
      ],
      "metadata": {
        "id": "elPZG0nudtZL"
      }
    },
    {
      "cell_type": "code",
      "source": [
        "colores.append(\"amarillo\")\n",
        "print(colores) # [\"rojo\", \"azul\", \"verde\", \"amarillo\"]"
      ],
      "metadata": {
        "colab": {
          "base_uri": "https://localhost:8080/"
        },
        "id": "6tgH-uzedwHL",
        "outputId": "8b2820b3-e194-4154-95ba-b90d1cf19647"
      },
      "execution_count": 5,
      "outputs": [
        {
          "output_type": "stream",
          "name": "stdout",
          "text": [
            "['rojo', 'azul', 'verde', 'amarillo']\n"
          ]
        }
      ]
    },
    {
      "cell_type": "markdown",
      "source": [
        "pop(): Permite eliminar el último elemento de la lista."
      ],
      "metadata": {
        "id": "3gXA6xSkd1wr"
      }
    },
    {
      "cell_type": "code",
      "source": [
        "colores.pop()\n",
        "print(colores) # [\"rojo\", \"azul\", \"verde\"]"
      ],
      "metadata": {
        "colab": {
          "base_uri": "https://localhost:8080/"
        },
        "id": "klPXF8r8d4Vc",
        "outputId": "fce73dd5-0dc9-4499-8a95-8732c8ad00c9"
      },
      "execution_count": 6,
      "outputs": [
        {
          "output_type": "stream",
          "name": "stdout",
          "text": [
            "['rojo', 'azul', 'verde']\n"
          ]
        }
      ]
    },
    {
      "cell_type": "markdown",
      "source": [
        "count(elemento): Cuenta cuántas veces un elemento está en una lista."
      ],
      "metadata": {
        "id": "I46m5bi1d7sz"
      }
    },
    {
      "cell_type": "code",
      "source": [
        "numeros = [1, 2, 3, 2, 4, 2]\n",
        "print(numeros.count(2)) # 3"
      ],
      "metadata": {
        "colab": {
          "base_uri": "https://localhost:8080/"
        },
        "id": "CKNHU8Chd92z",
        "outputId": "3f4d978f-e6d5-4d1f-fc51-dea3a710efa3"
      },
      "execution_count": 7,
      "outputs": [
        {
          "output_type": "stream",
          "name": "stdout",
          "text": [
            "3\n"
          ]
        }
      ]
    },
    {
      "cell_type": "markdown",
      "source": [
        "extend(lista): Permite extender una lista agregándole los elementos de otra lista."
      ],
      "metadata": {
        "id": "ojtRTvqFeDQb"
      }
    },
    {
      "cell_type": "code",
      "source": [
        "lista1 = [1, 2, 3]\n",
        "lista2 = [4, 5, 6]\n",
        "lista1.extend(lista2)\n",
        "print(lista1) # [1, 2, 3, 4, 5, 6]"
      ],
      "metadata": {
        "colab": {
          "base_uri": "https://localhost:8080/"
        },
        "id": "54dm88IjeFvL",
        "outputId": "3a764800-bf79-4a7b-b6e2-4ec6de5e5edc"
      },
      "execution_count": 8,
      "outputs": [
        {
          "output_type": "stream",
          "name": "stdout",
          "text": [
            "[1, 2, 3, 4, 5, 6]\n"
          ]
        }
      ]
    },
    {
      "cell_type": "markdown",
      "source": [
        "reverse(): Revierte el orden de los elementos de la lista."
      ],
      "metadata": {
        "id": "YFpSpr7JeMfT"
      }
    },
    {
      "cell_type": "code",
      "source": [
        "numeros = [1, 2, 3, 4, 5]\n",
        "numeros.reverse()\n",
        "print(numeros) # [5, 4, 3, 2, 1]"
      ],
      "metadata": {
        "colab": {
          "base_uri": "https://localhost:8080/"
        },
        "id": "GX7FGLDAeNaL",
        "outputId": "f09bc2d9-0f28-4f17-b357-2b1f83e4395a"
      },
      "execution_count": 9,
      "outputs": [
        {
          "output_type": "stream",
          "name": "stdout",
          "text": [
            "[5, 4, 3, 2, 1]\n"
          ]
        }
      ]
    },
    {
      "cell_type": "markdown",
      "source": [
        "sort(): Ordena la lista de manera ascendente o descendente."
      ],
      "metadata": {
        "id": "P5hsigi2eRGD"
      }
    },
    {
      "cell_type": "code",
      "source": [
        "numeros = [3, 1, 4, 1, 5, 9, 2, 6, 5]\n",
        "numeros.sort()\n",
        "print(numeros) # [1, 1, 2, 3, 4, 5, 5, 6, 9]\n",
        "\n",
        "numeros.sort(reverse=True)\n",
        "print(numeros) # [9, 6, 5, 5, 4, 3, 2, 1, 1]"
      ],
      "metadata": {
        "colab": {
          "base_uri": "https://localhost:8080/"
        },
        "id": "ET8I-qtXeS90",
        "outputId": "4578fb1e-f713-42c0-b06a-b2528ceae7e0"
      },
      "execution_count": 10,
      "outputs": [
        {
          "output_type": "stream",
          "name": "stdout",
          "text": [
            "[1, 1, 2, 3, 4, 5, 5, 6, 9]\n",
            "[9, 6, 5, 5, 4, 3, 2, 1, 1]\n"
          ]
        }
      ]
    }
  ]
}