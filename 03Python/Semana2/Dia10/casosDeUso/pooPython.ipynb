{
  "nbformat": 4,
  "nbformat_minor": 0,
  "metadata": {
    "colab": {
      "provenance": []
    },
    "kernelspec": {
      "name": "python3",
      "display_name": "Python 3"
    },
    "language_info": {
      "name": "python"
    }
  },
  "cells": [
    {
      "cell_type": "markdown",
      "source": [
        "# POO Programacion Orientada a Objetos"
      ],
      "metadata": {
        "id": "WXe9y1mSsLs7"
      }
    },
    {
      "cell_type": "markdown",
      "source": [
        "## Ejemplo Basico"
      ],
      "metadata": {
        "id": "Km04PmdYsEnZ"
      }
    },
    {
      "cell_type": "code",
      "execution_count": null,
      "metadata": {
        "colab": {
          "base_uri": "https://localhost:8080/"
        },
        "id": "SE62_0HcsDRv",
        "outputId": "7debc76b-51f2-42f4-8c66-31c7bed19df0"
      },
      "outputs": [
        {
          "output_type": "stream",
          "name": "stdout",
          "text": [
            "Hola, mi nombre es Juan y tengo 30 años.\n",
            "Hola, mi nombre es María y tengo 25 años.\n"
          ]
        }
      ],
      "source": [
        "class Persona:\n",
        "    def __init__(self, nombre, edad):\n",
        "        self.nombre = nombre\n",
        "        self.edad = edad\n",
        "\n",
        "    def saludar(self):\n",
        "        print(f\"Hola, mi nombre es {self.nombre} y tengo {self.edad} años.\")\n",
        "\n",
        "# Crear objetos de la clase Persona\n",
        "persona1 = Persona(\"Juan\", 30)\n",
        "persona2 = Persona(\"María\", 25)\n",
        "\n",
        "# Llamar al método saludar de los objetos\n",
        "persona1.saludar()\n",
        "persona2.saludar()\n"
      ]
    },
    {
      "cell_type": "markdown",
      "source": [
        "## Ejemplo Medio"
      ],
      "metadata": {
        "id": "5YTYuBy7salt"
      }
    },
    {
      "cell_type": "code",
      "source": [
        "class Coche:\n",
        "    def __init__(self, marca, modelo):\n",
        "        self.marca = marca\n",
        "        self.modelo = modelo\n",
        "        self.velocidad = 0\n",
        "\n",
        "    def acelerar(self, incremento):\n",
        "        self.velocidad += incremento\n",
        "\n",
        "    def frenar(self, decremento):\n",
        "        self.velocidad -= decremento\n",
        "\n",
        "    def mostrar_info(self):\n",
        "        print(f\"Marca: {self.marca}, Modelo: {self.modelo}, Velocidad: {self.velocidad} km/h\")\n",
        "\n",
        "# Crear un objeto de la clase Coche\n",
        "mi_coche = Coche(\"Toyota\", \"Camry\")\n",
        "\n",
        "# Interactuar con el objeto\n",
        "mi_coche.acelerar(30)\n",
        "mi_coche.mostrar_info()\n",
        "mi_coche.frenar(10)\n",
        "mi_coche.mostrar_info()\n"
      ],
      "metadata": {
        "colab": {
          "base_uri": "https://localhost:8080/"
        },
        "id": "hKFZ0t5gseUr",
        "outputId": "d85c49c9-c6d3-4888-e2cb-74ae840deb9e"
      },
      "execution_count": null,
      "outputs": [
        {
          "output_type": "stream",
          "name": "stdout",
          "text": [
            "Marca: Toyota, Modelo: Camry, Velocidad: 30 km/h\n",
            "Marca: Toyota, Modelo: Camry, Velocidad: 20 km/h\n"
          ]
        }
      ]
    },
    {
      "cell_type": "markdown",
      "source": [
        "## Ejemplo Avanzado"
      ],
      "metadata": {
        "id": "vlzV1rSCskwS"
      }
    },
    {
      "cell_type": "code",
      "source": [
        "class Banco:\n",
        "    def __init__(self, nombre):\n",
        "        self.nombre = nombre\n",
        "        self.clientes = []\n",
        "\n",
        "    def agregar_cliente(self, cliente):\n",
        "        self.clientes.append(cliente)\n",
        "\n",
        "    def eliminar_cliente(self, cliente):\n",
        "        self.clientes.remove(cliente)\n",
        "\n",
        "    def mostrar_clientes(self):\n",
        "        print(f\"Clientes del banco {self.nombre}:\")\n",
        "        for cliente in self.clientes:\n",
        "            print(f\"Nombre: {cliente.nombre}, Saldo: {cliente.saldo}\")\n",
        "\n",
        "class Cliente:\n",
        "    def __init__(self, nombre, saldo):\n",
        "        self.nombre = nombre\n",
        "        self.saldo = saldo\n",
        "\n",
        "    def depositar(self, cantidad):\n",
        "        self.saldo += cantidad\n",
        "\n",
        "    def retirar(self, cantidad):\n",
        "        if cantidad <= self.saldo:\n",
        "            self.saldo -= cantidad\n",
        "        else:\n",
        "            print(\"Saldo insuficiente.\")\n",
        "\n",
        "# Crear objetos de la clase Cliente\n",
        "cliente1 = Cliente(\"Juan\", 5000)\n",
        "cliente2 = Cliente(\"María\", 3000)\n",
        "\n",
        "# Crear un objeto de la clase Banco\n",
        "banco = Banco(\"Mi Banco\")\n",
        "banco.agregar_cliente(cliente1)\n",
        "banco.agregar_cliente(cliente2)\n",
        "\n",
        "# Interactuar con los objetos\n",
        "cliente1.depositar(1000)\n",
        "cliente2.retirar(500)\n",
        "banco.mostrar_clientes()\n"
      ],
      "metadata": {
        "colab": {
          "base_uri": "https://localhost:8080/"
        },
        "id": "2YZAUNxrsoNi",
        "outputId": "ac3269d1-e18a-4109-de97-b53d21d7a712"
      },
      "execution_count": null,
      "outputs": [
        {
          "output_type": "stream",
          "name": "stdout",
          "text": [
            "Clientes del banco Mi Banco:\n",
            "Nombre: Juan, Saldo: 6000\n",
            "Nombre: María, Saldo: 2500\n"
          ]
        }
      ]
    }
  ]
}