{
  "nbformat": 4,
  "nbformat_minor": 0,
  "metadata": {
    "colab": {
      "provenance": []
    },
    "kernelspec": {
      "name": "python3",
      "display_name": "Python 3"
    },
    "language_info": {
      "name": "python"
    }
  },
  "cells": [
    {
      "cell_type": "markdown",
      "source": [
        "# **Conceptos Básicos:**"
      ],
      "metadata": {
        "id": "eAPI69nEkLML"
      }
    },
    {
      "cell_type": "markdown",
      "source": [
        "## Hola Mundo:"
      ],
      "metadata": {
        "id": "Kid4v6Z4kPUS"
      }
    },
    {
      "cell_type": "code",
      "execution_count": null,
      "metadata": {
        "colab": {
          "base_uri": "https://localhost:8080/"
        },
        "id": "zMiJEWyhkFGW",
        "outputId": "3d39de05-7172-41f8-c260-53334b6d918b"
      },
      "outputs": [
        {
          "output_type": "stream",
          "name": "stdout",
          "text": [
            "Hola, Mundo!\n"
          ]
        }
      ],
      "source": [
        "print(\"Hola, Mundo!\")"
      ]
    },
    {
      "cell_type": "markdown",
      "source": [
        "### Variables y Tipos de Datos:"
      ],
      "metadata": {
        "id": "HDF-L6YDkJpk"
      }
    },
    {
      "cell_type": "code",
      "source": [
        "# Enteros\n",
        "numero_entero = 42\n",
        "\n",
        "# Flotantes\n",
        "numero_flotante = 3.14\n",
        "\n",
        "# Cadenas de texto\n",
        "texto = \"Hola, Python!\"\n",
        "\n",
        "# Listas\n",
        "mi_lista = [1, 2, 3, 4]\n",
        "\n",
        "# Diccionarios\n",
        "mi_diccionario = {\"nombre\": \"Juan\", \"edad\": 30}"
      ],
      "metadata": {
        "id": "X2i07QPVkZX1"
      },
      "execution_count": null,
      "outputs": []
    },
    {
      "cell_type": "markdown",
      "source": [
        "### Operadores:"
      ],
      "metadata": {
        "id": "q7-B0Evukfty"
      }
    },
    {
      "cell_type": "code",
      "source": [
        "suma = 5 + 3\n",
        "resta = 10 - 2\n",
        "multiplicacion = 4 * 6\n",
        "division = 8 / 2\n",
        "modulo = 7 % 3"
      ],
      "metadata": {
        "id": "cFrJ789-kiOj"
      },
      "execution_count": null,
      "outputs": []
    },
    {
      "cell_type": "markdown",
      "source": [
        "## Estructuras de Control:"
      ],
      "metadata": {
        "id": "oLJdo5aZkkRa"
      }
    },
    {
      "cell_type": "markdown",
      "source": [
        "Condicionales (if-else):"
      ],
      "metadata": {
        "id": "lGC3n7sSkm0S"
      }
    },
    {
      "cell_type": "code",
      "source": [
        "edad = 18\n",
        "if edad >= 18:\n",
        "    print(\"Eres mayor de edad\")\n",
        "else:\n",
        "    print(\"Eres menor de edad\")"
      ],
      "metadata": {
        "colab": {
          "base_uri": "https://localhost:8080/"
        },
        "id": "5StnuaOmkoyb",
        "outputId": "929e5f38-9270-4590-df1a-2a78501d82df"
      },
      "execution_count": null,
      "outputs": [
        {
          "output_type": "stream",
          "name": "stdout",
          "text": [
            "Eres mayor de edad\n"
          ]
        }
      ]
    },
    {
      "cell_type": "markdown",
      "source": [
        "### Bucles (for y while):"
      ],
      "metadata": {
        "id": "9CNH6v9kksPb"
      }
    },
    {
      "cell_type": "code",
      "source": [
        "# Bucle for\n",
        "for i in range(5):\n",
        "    print(i)\n",
        "\n",
        "# Bucle while\n",
        "contador = 0\n",
        "while contador < 5:\n",
        "    print(contador)\n",
        "    contador += 1"
      ],
      "metadata": {
        "colab": {
          "base_uri": "https://localhost:8080/"
        },
        "id": "_M-PrqBJkuVT",
        "outputId": "6e61d20a-dd8f-4d20-c21a-f4eed0ff5371"
      },
      "execution_count": null,
      "outputs": [
        {
          "output_type": "stream",
          "name": "stdout",
          "text": [
            "0\n",
            "1\n",
            "2\n",
            "3\n",
            "4\n",
            "0\n",
            "1\n",
            "2\n",
            "3\n",
            "4\n"
          ]
        }
      ]
    },
    {
      "cell_type": "markdown",
      "source": [
        "# Funciones:"
      ],
      "metadata": {
        "id": "bf46oODIkyE7"
      }
    },
    {
      "cell_type": "markdown",
      "source": [
        "### Definición de Funciones:"
      ],
      "metadata": {
        "id": "RGSTWJ-xk0rT"
      }
    },
    {
      "cell_type": "code",
      "source": [
        "def saludar(nombre):\n",
        "    print(f\"Hola, {nombre}!\")\n",
        "\n",
        "saludar(\"Ana\")"
      ],
      "metadata": {
        "colab": {
          "base_uri": "https://localhost:8080/"
        },
        "id": "AB-XO7kck22j",
        "outputId": "a107ae79-bb2d-45fa-a7a5-f33d0a0cfb2d"
      },
      "execution_count": null,
      "outputs": [
        {
          "output_type": "stream",
          "name": "stdout",
          "text": [
            "Hola, Ana!\n"
          ]
        }
      ]
    },
    {
      "cell_type": "markdown",
      "source": [
        "### Funciones con Retorno:"
      ],
      "metadata": {
        "id": "-_mRiUqxk5x8"
      }
    },
    {
      "cell_type": "code",
      "source": [
        "def suma(a, b):\n",
        "    return a + b\n",
        "\n",
        "resultado = suma(3, 4)\n",
        "print(resultado)"
      ],
      "metadata": {
        "colab": {
          "base_uri": "https://localhost:8080/"
        },
        "id": "kxUIvXGMk8Yj",
        "outputId": "e65353b2-2c67-423e-9cff-15278c8e0303"
      },
      "execution_count": null,
      "outputs": [
        {
          "output_type": "stream",
          "name": "stdout",
          "text": [
            "7\n"
          ]
        }
      ]
    },
    {
      "cell_type": "markdown",
      "source": [
        "# Listas y Diccionarios:"
      ],
      "metadata": {
        "id": "l4IVv-PdlABK"
      }
    },
    {
      "cell_type": "markdown",
      "source": [
        "### Operaciones con Listas:"
      ],
      "metadata": {
        "id": "Bo38gVlklCyE"
      }
    },
    {
      "cell_type": "code",
      "source": [
        "mi_lista = [1, 2, 3, 4, 5]\n",
        "print(len(mi_lista))  # Longitud de la lista\n",
        "print(mi_lista[2])    # Acceso por índice\n",
        "mi_lista.append(6)    # Agregar elemento\n",
        "mi_lista.remove(3)    # Eliminar elemento"
      ],
      "metadata": {
        "colab": {
          "base_uri": "https://localhost:8080/"
        },
        "id": "zb4akwIUk-tD",
        "outputId": "b01edd81-8360-4d28-fbbe-c0ee82a3d021"
      },
      "execution_count": null,
      "outputs": [
        {
          "output_type": "stream",
          "name": "stdout",
          "text": [
            "5\n",
            "3\n"
          ]
        }
      ]
    },
    {
      "cell_type": "markdown",
      "source": [
        "### Operaciones con Diccionarios:"
      ],
      "metadata": {
        "id": "XN5w4yLalIVb"
      }
    },
    {
      "cell_type": "code",
      "source": [
        "mi_diccionario = {\"nombre\": \"Maria\", \"edad\": 25}\n",
        "print(mi_diccionario[\"nombre\"])  # Acceso por clave\n",
        "mi_diccionario[\"ciudad\"] = \"Madrid\"  # Agregar clave-valor\n",
        "del mi_diccionario[\"edad\"]  # Eliminar clave-valor"
      ],
      "metadata": {
        "colab": {
          "base_uri": "https://localhost:8080/"
        },
        "id": "4HVy3-I8lLQa",
        "outputId": "319e9f67-aad7-4100-dc01-97ad0b70c419"
      },
      "execution_count": null,
      "outputs": [
        {
          "output_type": "stream",
          "name": "stdout",
          "text": [
            "Maria\n"
          ]
        }
      ]
    },
    {
      "cell_type": "markdown",
      "source": [
        "# Programación Orientada a Objetos (POO):"
      ],
      "metadata": {
        "id": "Y5CwgaZwlSD6"
      }
    },
    {
      "cell_type": "markdown",
      "source": [
        "Clases y Objetos:"
      ],
      "metadata": {
        "id": "GzgMuP0JlUY6"
      }
    },
    {
      "cell_type": "code",
      "source": [
        "class Persona:\n",
        "    def __init__(self, nombre, edad):\n",
        "        self.nombre = nombre\n",
        "        self.edad = edad\n",
        "\n",
        "    def saludar(self):\n",
        "        print(f\"Hola, soy {self.nombre} y tengo {self.edad} años\")\n",
        "\n",
        "persona1 = Persona(\"Carlos\", 30)\n",
        "persona1.saludar()"
      ],
      "metadata": {
        "colab": {
          "base_uri": "https://localhost:8080/"
        },
        "id": "zppgI2tplWeS",
        "outputId": "c78ea887-ea78-40b0-a69a-b103787bd496"
      },
      "execution_count": null,
      "outputs": [
        {
          "output_type": "stream",
          "name": "stdout",
          "text": [
            "Hola, soy Carlos y tengo 30 años\n"
          ]
        }
      ]
    },
    {
      "cell_type": "markdown",
      "source": [
        "### Herencia:"
      ],
      "metadata": {
        "id": "y-DEq1K0lZ0b"
      }
    },
    {
      "cell_type": "code",
      "source": [
        "class Estudiante(Persona):\n",
        "    def __init__(self, nombre, edad, universidad):\n",
        "        super().__init__(nombre, edad)\n",
        "        self.universidad = universidad\n",
        "\n",
        "    def estudiar(self):\n",
        "        print(f\"{self.nombre} está estudiando en {self.universidad}\")\n",
        "\n",
        "estudiante1 = Estudiante(\"Laura\", 21, \"Universidad X\")\n",
        "estudiante1.saludar()\n",
        "estudiante1.estudiar()"
      ],
      "metadata": {
        "colab": {
          "base_uri": "https://localhost:8080/"
        },
        "id": "0l-Vwr2vlb9L",
        "outputId": "df8475d2-1faa-481e-8b17-27d511575428"
      },
      "execution_count": null,
      "outputs": [
        {
          "output_type": "stream",
          "name": "stdout",
          "text": [
            "Hola, soy Laura y tengo 21 años\n",
            "Laura está estudiando en Universidad X\n"
          ]
        }
      ]
    }
  ]
}