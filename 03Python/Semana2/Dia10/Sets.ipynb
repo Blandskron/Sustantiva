{
  "nbformat": 4,
  "nbformat_minor": 0,
  "metadata": {
    "colab": {
      "provenance": []
    },
    "kernelspec": {
      "name": "python3",
      "display_name": "Python 3"
    },
    "language_info": {
      "name": "python"
    }
  },
  "cells": [
    {
      "cell_type": "markdown",
      "source": [
        "#Sets"
      ],
      "metadata": {
        "id": "UZWTf-cfstzZ"
      }
    },
    {
      "cell_type": "markdown",
      "source": [
        "Los sets son estructuras de datos que permiten almacenar valores únicos. Los sets en Python no permiten duplicados, lo que los hace ideales cuando se necesita mantener una colección de elementos únicos."
      ],
      "metadata": {
        "id": "mwnc4-RzszIX"
      }
    },
    {
      "cell_type": "markdown",
      "source": [
        "Crear un set en Python es sencillo, puedes hacerlo de la siguiente manera:"
      ],
      "metadata": {
        "id": "L7XeAk0gs0G2"
      }
    },
    {
      "cell_type": "code",
      "source": [
        "my_set = set()"
      ],
      "metadata": {
        "id": "UcZZkPPws7uQ"
      },
      "execution_count": 1,
      "outputs": []
    },
    {
      "cell_type": "markdown",
      "source": [
        "También es posible crear un set a partir de una lista existente:"
      ],
      "metadata": {
        "id": "jbTR4jVps_22"
      }
    },
    {
      "cell_type": "code",
      "source": [
        "my_list = [1, 2, 3, 4, 5]\n",
        "my_set = set(my_list)"
      ],
      "metadata": {
        "id": "OcJjm0WQtCGv"
      },
      "execution_count": 2,
      "outputs": []
    },
    {
      "cell_type": "markdown",
      "source": [
        "Algunos de los métodos más utilizados en los sets de Python son:"
      ],
      "metadata": {
        "id": "8TIX3Xh6tFoQ"
      }
    },
    {
      "cell_type": "markdown",
      "source": [
        "add(value): este método agrega un valor único al set. Si se intenta agregar un valor que ya existe en el set, no ocurrirá ningún cambio.\n",
        "remove(value): este método elimina un valor específico del set. Si el valor no existe, se generará un error.\n",
        "discard(value): este método elimina un valor específico del set. Si el valor no existe, no se genera ningún error.\n",
        "pop(): este método elimina y devuelve un elemento aleatorio del set.\n",
        "clear(): este método vacía completamente el set.\n",
        "len(): esta función devuelve la cantidad de elementos que existen en el set."
      ],
      "metadata": {
        "id": "-b6evBoEtIF3"
      }
    },
    {
      "cell_type": "markdown",
      "source": [
        "Ejemplos de uso 👇"
      ],
      "metadata": {
        "id": "D23ZgfuktKlw"
      }
    },
    {
      "cell_type": "code",
      "source": [
        "my_set = set()\n",
        "\n",
        "# Agregar elementos al set\n",
        "my_set.add(1)\n",
        "my_set.add(2)\n",
        "my_set.add(3)\n",
        "\n",
        "# Imprimir el set\n",
        "print(my_set)  # Output: {1, 2, 3}\n",
        "\n",
        "# Verificar si un elemento existe en el set\n",
        "print(2 in my_set)  # Output: True\n",
        "\n",
        "# Eliminar un elemento del set\n",
        "my_set.remove(2)\n",
        "\n",
        "# Verificar si un elemento existe en el set después de ser eliminado\n",
        "print(2 in my_set)  # Output: False\n",
        "\n",
        "# Vaciar el set\n",
        "my_set.clear()\n",
        "\n",
        "# Verificar el tamaño del set después de ser vaciado\n",
        "print(len(my_set))  # Output: 0"
      ],
      "metadata": {
        "colab": {
          "base_uri": "https://localhost:8080/"
        },
        "id": "ye1ZapgUtYhH",
        "outputId": "79d578c2-cb7e-4071-99e5-a1bd8588c7e2"
      },
      "execution_count": 3,
      "outputs": [
        {
          "output_type": "stream",
          "name": "stdout",
          "text": [
            "{1, 2, 3}\n",
            "True\n",
            "False\n",
            "0\n"
          ]
        }
      ]
    },
    {
      "cell_type": "markdown",
      "source": [
        "#Iterar sobre sets"
      ],
      "metadata": {
        "id": "7DTDaYhStcGX"
      }
    },
    {
      "cell_type": "markdown",
      "source": [
        "Los sets en Python no son estructuras indexadas, por lo que no se puede acceder a sus elementos mediante índices como se hace en las listas o tuplas. Sin embargo, es posible iterar sobre los elementos de un set utilizando un ciclo for-in."
      ],
      "metadata": {
        "id": "L6tZd08nteCX"
      }
    },
    {
      "cell_type": "markdown",
      "source": [
        "Al iterar sobre un set, el ciclo for recorre automáticamente cada elemento del set en el orden en que fueron agregados."
      ],
      "metadata": {
        "id": "SXhSh3DKtgKI"
      }
    },
    {
      "cell_type": "markdown",
      "source": [
        "Aquí un ejemplo de como hacerlo 👇"
      ],
      "metadata": {
        "id": "lJNCiEc_tmUH"
      }
    },
    {
      "cell_type": "code",
      "source": [
        "my_set = {1, 2, 3, 4, 5}\n",
        "\n",
        "# Iterar sobre los elementos del set\n",
        "for element in my_set:\n",
        "    print(element)"
      ],
      "metadata": {
        "colab": {
          "base_uri": "https://localhost:8080/"
        },
        "id": "egnbjHGmtsVv",
        "outputId": "e9aeea53-2f2a-411a-a824-b6e06974e22b"
      },
      "execution_count": 4,
      "outputs": [
        {
          "output_type": "stream",
          "name": "stdout",
          "text": [
            "1\n",
            "2\n",
            "3\n",
            "4\n",
            "5\n"
          ]
        }
      ]
    },
    {
      "cell_type": "markdown",
      "source": [
        "En este ejemplo, se declara un set llamado my_set con algunos elementos. Luego, se utiliza el ciclo for-in para iterar sobre los elementos del set y se imprime cada elemento en la consola."
      ],
      "metadata": {
        "id": "inS2gggctukY"
      }
    },
    {
      "cell_type": "markdown",
      "source": [
        "##Usando slice syntax"
      ],
      "metadata": {
        "id": "IGCDcdkXtw-G"
      }
    },
    {
      "cell_type": "markdown",
      "source": [
        "También se puede utilizar la slice syntax([1:]) para iterar sobre un set a partir de un índice específico. Esta técnica permite omitir los primeros elementos del set durante la iteración."
      ],
      "metadata": {
        "id": "7h3rCk6st2R_"
      }
    },
    {
      "cell_type": "markdown",
      "source": [
        "Aquí un ejemplo de cómo utilizar esta sintaxis para iterar en un set a partir del segundo elemento:"
      ],
      "metadata": {
        "id": "XsnE0Kjzt5rf"
      }
    },
    {
      "cell_type": "code",
      "source": [
        "my_set = {1, 2, 3, 4, 5}\n",
        "\n",
        "# Iterar sobre los elementos del set a partir del segundo elemento\n",
        "for item in my_set[1:]:\n",
        "    print(item)"
      ],
      "metadata": {
        "id": "7AcPR36ovjNv"
      },
      "execution_count": null,
      "outputs": []
    },
    {
      "cell_type": "markdown",
      "source": [
        "El set my_set contiene los elementos del 1 al 5. Al utilizar la sintaxis [1:], se indica que se desea iterar sobre los elementos a partir del segundo elemento (índice 1). Esto significa que se omitirá el primer elemento del set durante la iteración."
      ],
      "metadata": {
        "id": "h0Gbqc8nvyz3"
      }
    },
    {
      "cell_type": "markdown",
      "source": [
        "El resultado de este código será:"
      ],
      "metadata": {
        "id": "lfEUPhamv1Mn"
      }
    },
    {
      "cell_type": "code",
      "source": [
        "2\n",
        "3\n",
        "4\n",
        "5"
      ],
      "metadata": {
        "id": "hSPiny4KwB3v"
      },
      "execution_count": null,
      "outputs": []
    },
    {
      "cell_type": "markdown",
      "source": [
        "Cabe destacar que, a diferencia de las listas, los sets en Python no están indexados y no tienen un orden específico. Por lo tanto, al utilizar la slice syntax [1:] en un set, no se garantiza que se omitirán los primeros elementos en el mismo orden en que fueron agregados al set."
      ],
      "metadata": {
        "id": "SEEvT2iUwFNR"
      }
    },
    {
      "cell_type": "markdown",
      "source": [
        "#Intersecciones"
      ],
      "metadata": {
        "id": "r-HSWlwMwH34"
      }
    },
    {
      "cell_type": "markdown",
      "source": [
        "Las intersecciones son una operación comúnmente utilizada en los sets para encontrar elementos que están presentes en dos o más sets al mismo tiempo. Puedes realizar la operación de intersección utilizando el método intersection() o el operador &."
      ],
      "metadata": {
        "id": "d_Oh3_BEwQUP"
      }
    },
    {
      "cell_type": "markdown",
      "source": [
        "Aquí tienes un ejemplo de cómo encontrar la intersección entre dos sets:"
      ],
      "metadata": {
        "id": "obvXzPu2wSRA"
      }
    },
    {
      "cell_type": "code",
      "source": [
        "set1 = {1, 2, 3, 4, 5}\n",
        "set2 = {4, 5, 6, 7, 8}\n",
        "\n",
        "# Usando el método intersection()\n",
        "intersection = set1.intersection(set2)\n",
        "print(intersection)  # Output: {4, 5}\n",
        "\n",
        "# Usando el operador &\n",
        "intersection = set1 & set2\n",
        "print(intersection)  # Output: {4, 5}"
      ],
      "metadata": {
        "colab": {
          "base_uri": "https://localhost:8080/"
        },
        "id": "z9dYd1tLwUhH",
        "outputId": "0d060715-d5f8-4c41-e1c1-1c5eb7d8212e"
      },
      "execution_count": 7,
      "outputs": [
        {
          "output_type": "stream",
          "name": "stdout",
          "text": [
            "{4, 5}\n",
            "{4, 5}\n"
          ]
        }
      ]
    },
    {
      "cell_type": "markdown",
      "source": [
        "En este ejemplo, tenemos dos sets: set1 y set2. Queremos encontrar los elementos que están presentes en ambos sets. Utilizando el método intersection() o el operador &, obtenemos un nuevo set llamado intersection que contiene la intersección de los dos sets originales."
      ],
      "metadata": {
        "id": "JZTNWj6Awr5_"
      }
    },
    {
      "cell_type": "markdown",
      "source": [
        "El resultado de la impresión será {4, 5}, ya que esos son los elementos que se encuentran en ambos sets."
      ],
      "metadata": {
        "id": "y0w7jNYGwt5H"
      }
    },
    {
      "cell_type": "markdown",
      "source": [
        "Es importante tener en cuenta que la operación de intersección devuelve un nuevo set que contiene los elementos comunes entre los sets originales. Si alguno de los sets no tiene elementos en común con los otros sets, la intersección resultante será un set vacío."
      ],
      "metadata": {
        "id": "MNUsW7Euw4N_"
      }
    },
    {
      "cell_type": "markdown",
      "source": [
        "Además, puedes realizar la intersección entre más de dos sets al mismo tiempo. Solo necesitas agregar los sets adicionales dentro de la función intersection() o utilizar el operador & entre ellos.\n"
      ],
      "metadata": {
        "id": "gVAHWdO2w-ob"
      }
    }
  ]
}