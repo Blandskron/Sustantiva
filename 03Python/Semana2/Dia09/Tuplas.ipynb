{
  "nbformat": 4,
  "nbformat_minor": 0,
  "metadata": {
    "colab": {
      "provenance": []
    },
    "kernelspec": {
      "name": "python3",
      "display_name": "Python 3"
    },
    "language_info": {
      "name": "python"
    }
  },
  "cells": [
    {
      "cell_type": "markdown",
      "source": [
        "#Tuplas"
      ],
      "metadata": {
        "id": "Mt-6GSD3qeNQ"
      }
    },
    {
      "cell_type": "markdown",
      "source": [
        "Las tuplas son otro tipo de objeto que permiten almacenar una colección de valores, pero a diferencia de las listas, son inmutables, es decir, no se pueden modificar una vez que se han creado. La sintaxis para crear una tupla es la siguiente:"
      ],
      "metadata": {
        "id": "NOWyUregqgwG"
      }
    },
    {
      "cell_type": "code",
      "source": [
        "mi_tupla = (valor1, valor2, valor3)"
      ],
      "metadata": {
        "id": "DfArxHkWqi1o"
      },
      "execution_count": null,
      "outputs": []
    },
    {
      "cell_type": "markdown",
      "source": [
        "Por ejemplo, el siguiente código crea una tupla llamada “puntos” que contiene tres valores: (1, 2), (3, 4) y (5, 6):"
      ],
      "metadata": {
        "id": "VrEwVqmJqoJ-"
      }
    },
    {
      "cell_type": "code",
      "execution_count": 2,
      "metadata": {
        "id": "DD2Z4YO3qcc0"
      },
      "outputs": [],
      "source": [
        "puntos = ((1, 2), (3, 4), (5, 6))"
      ]
    },
    {
      "cell_type": "markdown",
      "source": [
        "Las tuplas también tienen un índice numérico que comienza en 0. Por lo tanto, el primer elemento de la tupla tiene el índice 0, el segundo tiene el índice 1, y así sucesivamente. Por ejemplo, para acceder al primer elemento de la tupla “puntos”, se utilizaría la sintaxis puntos[0]."
      ],
      "metadata": {
        "id": "OTgsArf-q1pe"
      }
    },
    {
      "cell_type": "code",
      "source": [
        "puntos = ((1, 2), (3, 4), (5, 6))\n",
        "puntos[0]\n",
        "# (1, 2)"
      ],
      "metadata": {
        "colab": {
          "base_uri": "https://localhost:8080/"
        },
        "id": "VkblUKuEq3zm",
        "outputId": "c60a6e33-1dc1-45ff-9561-703cc72b571f"
      },
      "execution_count": 3,
      "outputs": [
        {
          "output_type": "execute_result",
          "data": {
            "text/plain": [
              "(1, 2)"
            ]
          },
          "metadata": {},
          "execution_count": 3
        }
      ]
    },
    {
      "cell_type": "markdown",
      "source": [
        "Como las tuplas son inmutables, no se pueden actualizar un valor específico en una tupla. Pero se puede crear una nueva tupla a partir de una existente, utilizando la sintaxis tupla = tupla[:indice] + (nuevo_valor,) + tupla[indice+1:]."
      ],
      "metadata": {
        "id": "m7cdEE8oq_2_"
      }
    },
    {
      "cell_type": "code",
      "source": [
        "puntos = ((1, 2), (3, 4), (5, 6))\n",
        "nuevo_punto = (7, 8)\n",
        "puntos = puntos[:1] + (nuevo_punto,) + puntos[2:]\n",
        "print(puntos)\n",
        "# ((1, 2), (7, 8), (5, 6))"
      ],
      "metadata": {
        "colab": {
          "base_uri": "https://localhost:8080/"
        },
        "id": "V0OJE24crB5W",
        "outputId": "9cabefc9-dba2-4865-a2ff-b6e4a5f08c9d"
      },
      "execution_count": 4,
      "outputs": [
        {
          "output_type": "stream",
          "name": "stdout",
          "text": [
            "((1, 2), (7, 8), (5, 6))\n"
          ]
        }
      ]
    },
    {
      "cell_type": "markdown",
      "source": [
        "#Métodos más usados en las tuplas"
      ],
      "metadata": {
        "id": "kW2HE6aarL02"
      }
    },
    {
      "cell_type": "markdown",
      "source": [
        "Aunque las tuplas son inmutables y no tienen métodos específicos como las listas, se pueden utilizar algunos métodos que aplican para cualquier objeto en Python."
      ],
      "metadata": {
        "id": "T9ludbEdrNaV"
      }
    },
    {
      "cell_type": "markdown",
      "source": [
        "index(elemento): Retorna el índice de la primera ocurrencia del elemento en la tupla."
      ],
      "metadata": {
        "id": "tPm4Bc6grPum"
      }
    },
    {
      "cell_type": "code",
      "source": [
        "puntos = ((1, 2), (3, 4), (5, 6))\n",
        "print(puntos.index((3, 4))) # 1"
      ],
      "metadata": {
        "colab": {
          "base_uri": "https://localhost:8080/"
        },
        "id": "HpinaT0irV2G",
        "outputId": "f5bc25d0-a422-44a7-db31-40121ffdc6db"
      },
      "execution_count": 5,
      "outputs": [
        {
          "output_type": "stream",
          "name": "stdout",
          "text": [
            "1\n"
          ]
        }
      ]
    },
    {
      "cell_type": "markdown",
      "source": [
        "count(elemento): Cuenta cuántas veces un elemento está en una tupla."
      ],
      "metadata": {
        "id": "o0ssoXScrcle"
      }
    },
    {
      "cell_type": "code",
      "source": [
        "numeros = (1, 2, 3, 2, 4, 2)\n",
        "print(numeros.count(2)) # 3"
      ],
      "metadata": {
        "colab": {
          "base_uri": "https://localhost:8080/"
        },
        "id": "0C-Gl9cUrfTe",
        "outputId": "1dc38b35-e329-4451-d79c-70de8a69a151"
      },
      "execution_count": 6,
      "outputs": [
        {
          "output_type": "stream",
          "name": "stdout",
          "text": [
            "3\n"
          ]
        }
      ]
    },
    {
      "cell_type": "markdown",
      "source": [
        "len(tupla): Retorna la cantidad de elementos de la tupla."
      ],
      "metadata": {
        "id": "rPTSaqSsrbgX"
      }
    },
    {
      "cell_type": "code",
      "source": [
        "puntos = ((1, 2), (3, 4), (5, 6))\n",
        "print(len(puntos)) # 3"
      ],
      "metadata": {
        "colab": {
          "base_uri": "https://localhost:8080/"
        },
        "id": "4zeMVcmirlyO",
        "outputId": "95db589b-47d8-4880-eeee-dc2ffb8d554a"
      },
      "execution_count": 7,
      "outputs": [
        {
          "output_type": "stream",
          "name": "stdout",
          "text": [
            "3\n"
          ]
        }
      ]
    }
  ]
}