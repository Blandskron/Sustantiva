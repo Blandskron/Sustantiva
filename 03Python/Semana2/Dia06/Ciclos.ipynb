{
  "nbformat": 4,
  "nbformat_minor": 0,
  "metadata": {
    "colab": {
      "provenance": []
    },
    "kernelspec": {
      "name": "python3",
      "display_name": "Python 3"
    },
    "language_info": {
      "name": "python"
    }
  },
  "cells": [
    {
      "cell_type": "markdown",
      "source": [
        "#Ciclos"
      ],
      "metadata": {
        "id": "pAFnuETcas1r"
      }
    },
    {
      "cell_type": "markdown",
      "source": [
        "Los ciclos son una herramienta esencial dentro de Python. Sirven para repetir un bloque de código varias veces, dependiendo de una condición específica. Los ciclos son fundamentales para la automatización de tareas y la eficiencia en el código."
      ],
      "metadata": {
        "id": "LYwKjdb-awNr"
      }
    },
    {
      "cell_type": "markdown",
      "source": [
        "Existen dos tipos de ciclos en Python: los ciclos “for” y los ciclos “while”. Ambos tienen una sintaxis similar, pero se utilizan en situaciones diferentes."
      ],
      "metadata": {
        "id": "IxsRVxV3a1WS"
      }
    },
    {
      "cell_type": "markdown",
      "source": [
        "#Ciclo For"
      ],
      "metadata": {
        "id": "XmHFknz8a4Ey"
      }
    },
    {
      "cell_type": "markdown",
      "source": [
        "El ciclo “for” es utilizado para repetir un bloque de código un número específico de veces. Su sintaxis básica es la siguiente:"
      ],
      "metadata": {
        "id": "BatV9ndWa7_K"
      }
    },
    {
      "cell_type": "code",
      "source": [
        "for variable in secuencia:\n",
        "  # código a ejecutar"
      ],
      "metadata": {
        "id": "X3vG5IuYasWD"
      },
      "execution_count": null,
      "outputs": []
    },
    {
      "cell_type": "markdown",
      "source": [
        "La variable se establece para recorrer los elementos en la secuencia especificada, y el código dentro del ciclo se ejecutará para cada elemento de la secuencia. Por ejemplo, el siguiente ciclo “for” imprimirá los números del 1 al 10 en la consola:"
      ],
      "metadata": {
        "id": "s28OC6VmbAvK"
      }
    },
    {
      "cell_type": "code",
      "source": [
        "for i in range(1, 11):\n",
        "  print(i)\n",
        "# 1\n",
        "# 2\n",
        "# 3\n",
        "# 4\n",
        "# 5\n",
        "# 6\n",
        "# 7\n",
        "# 8\n",
        "# 9\n",
        "# 10"
      ],
      "metadata": {
        "colab": {
          "base_uri": "https://localhost:8080/"
        },
        "id": "WwtZBEvtbIfU",
        "outputId": "b48eb13e-4e77-433a-9908-e53b5850383a"
      },
      "execution_count": 1,
      "outputs": [
        {
          "output_type": "stream",
          "name": "stdout",
          "text": [
            "1\n",
            "2\n",
            "3\n",
            "4\n",
            "5\n",
            "6\n",
            "7\n",
            "8\n",
            "9\n",
            "10\n"
          ]
        }
      ]
    },
    {
      "cell_type": "markdown",
      "source": [
        "También se utiliza para recorrer las propiedades de un diccionario y de colecciones como una lista."
      ],
      "metadata": {
        "id": "kItndWXubDh6"
      }
    },
    {
      "cell_type": "markdown",
      "source": [
        "El uso de un ciclo “for in” es la siguiente:"
      ],
      "metadata": {
        "id": "gOWFScfhbRd6"
      }
    },
    {
      "cell_type": "code",
      "source": [
        "user = {\n",
        "  \"name\": \"Pepito\",\n",
        "  \"age\": 20,\n",
        "  \"role\": \"Python developer\"\n",
        "}\n",
        "\n",
        "for prop in user:\n",
        "  print(user[prop])\n",
        "# \"Pepito\"\n",
        "# 20\n",
        "# \"Python developer\""
      ],
      "metadata": {
        "colab": {
          "base_uri": "https://localhost:8080/"
        },
        "id": "Pp34iBhebY86",
        "outputId": "65a621b4-148b-43e3-e1b5-545781756d12"
      },
      "execution_count": 2,
      "outputs": [
        {
          "output_type": "stream",
          "name": "stdout",
          "text": [
            "Pepito\n",
            "20\n",
            "Python developer\n"
          ]
        }
      ]
    },
    {
      "cell_type": "markdown",
      "source": [
        "En este ejemplo, se establece una variable “prop” que se utilizará para recorrer las propiedades del diccionario. El valor de cada propiedad se imprimirá en la consola."
      ],
      "metadata": {
        "id": "FS6PYtP4bU5N"
      }
    },
    {
      "cell_type": "markdown",
      "source": [
        "Por otro lado, la sintaxis de un ciclo for para recorrer una lista es la siguiente:"
      ],
      "metadata": {
        "id": "OWAwI3h0bf2S"
      }
    },
    {
      "cell_type": "code",
      "source": [
        "technologies = [\"py\", \"django\", \"webscraping\"]\n",
        "\n",
        "for element in technologies:\n",
        "  print(element)\n",
        "# \"py\"\n",
        "# \"django\"\n",
        "# \"webscraping\""
      ],
      "metadata": {
        "colab": {
          "base_uri": "https://localhost:8080/"
        },
        "id": "rBzoc3cKbpM0",
        "outputId": "dffea809-4a79-4f00-aa55-b7f4add4aee2"
      },
      "execution_count": 3,
      "outputs": [
        {
          "output_type": "stream",
          "name": "stdout",
          "text": [
            "py\n",
            "django\n",
            "webscraping\n"
          ]
        }
      ]
    },
    {
      "cell_type": "markdown",
      "source": [
        "En este ejemplo, se establece una variable “element” que se utilizará para recorrer cada elemento en la lista. Cada valor se imprimirá en la consola."
      ],
      "metadata": {
        "id": "xN7a1u-SbsD7"
      }
    },
    {
      "cell_type": "markdown",
      "source": [
        "#Ciclo While"
      ],
      "metadata": {
        "id": "GRoaan3Hbus6"
      }
    },
    {
      "cell_type": "markdown",
      "source": [
        "Por otro lado, el ciclo while se utiliza para repetir un bloque de código mientras se cumpla una determinada condición. Su sintaxis básica es la siguiente:"
      ],
      "metadata": {
        "id": "Q0brznxkby_k"
      }
    },
    {
      "cell_type": "code",
      "source": [
        "while condición:\n",
        "  # código a ejecutar"
      ],
      "metadata": {
        "id": "VxNoj4Job6B0"
      },
      "execution_count": null,
      "outputs": []
    },
    {
      "cell_type": "markdown",
      "source": [
        "La condición se evalúa antes de ejecutar el código dentro del ciclo y si la condición es verdadera, el código se ejecutará de nuevo. Por ejemplo, si quisiéramos hacer una implementación del ejemplo anterior con los números del 1 al 10, quedaría de la siguiente manera:"
      ],
      "metadata": {
        "id": "WKTMSD0Yb1Fj"
      }
    },
    {
      "cell_type": "code",
      "source": [
        "i = 1\n",
        "while i <= 10:\n",
        "  print(i)\n",
        "  i += 1"
      ],
      "metadata": {
        "colab": {
          "base_uri": "https://localhost:8080/"
        },
        "id": "TpZMmJ4kb9oz",
        "outputId": "37df6b4f-1aec-4ddc-9231-0659d9ff71c4"
      },
      "execution_count": 4,
      "outputs": [
        {
          "output_type": "stream",
          "name": "stdout",
          "text": [
            "1\n",
            "2\n",
            "3\n",
            "4\n",
            "5\n",
            "6\n",
            "7\n",
            "8\n",
            "9\n",
            "10\n"
          ]
        }
      ]
    },
    {
      "cell_type": "markdown",
      "source": [
        "En Python no existe una estructura de ciclo do-while como en otros lenguajes de programación, pero se puede lograr un comportamiento similar utilizando un ciclo while junto con una condición inicial que siempre se cumpla."
      ],
      "metadata": {
        "id": "JTubq_wFcEkK"
      }
    },
    {
      "cell_type": "markdown",
      "source": [
        "Por ejemplo, para imprimir los números del 1 al 10 utilizando un ciclo while con un comportamiento similar a un do-while, se puede hacer lo siguiente en Python:"
      ],
      "metadata": {
        "id": "lrtArRVQcG-q"
      }
    },
    {
      "cell_type": "code",
      "source": [
        "i = 1\n",
        "while True:\n",
        "    print(i)\n",
        "    i += 1\n",
        "    if i > 10:\n",
        "        break"
      ],
      "metadata": {
        "colab": {
          "base_uri": "https://localhost:8080/"
        },
        "id": "-2BSZRg5cNWi",
        "outputId": "670836c1-8eef-4ad4-aff1-cd3b1db39df5"
      },
      "execution_count": 5,
      "outputs": [
        {
          "output_type": "stream",
          "name": "stdout",
          "text": [
            "1\n",
            "2\n",
            "3\n",
            "4\n",
            "5\n",
            "6\n",
            "7\n",
            "8\n",
            "9\n",
            "10\n"
          ]
        }
      ]
    },
    {
      "cell_type": "markdown",
      "source": [
        "En este caso, la condición inicial es True, por lo que el ciclo se ejecutará al menos una vez. En cada iteración, se imprime el valor de la variable i y se incrementa en 1. Después de cada incremento, se evalúa la condición de que i sea mayor que 10. Si esto es cierto, se utiliza la instrucción break para salir del ciclo."
      ],
      "metadata": {
        "id": "HfS8i3macSb0"
      }
    },
    {
      "cell_type": "markdown",
      "source": [
        "Este código imprimirá los números del 1 al 10 en la consola de Python."
      ],
      "metadata": {
        "id": "vYIzVXx1cU8r"
      }
    }
  ]
}