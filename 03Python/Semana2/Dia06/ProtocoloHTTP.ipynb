{
  "nbformat": 4,
  "nbformat_minor": 0,
  "metadata": {
    "colab": {
      "provenance": []
    },
    "kernelspec": {
      "name": "python3",
      "display_name": "Python 3"
    },
    "language_info": {
      "name": "python"
    }
  },
  "cells": [
    {
      "cell_type": "markdown",
      "source": [
        "\n",
        "---\n",
        "\n",
        "# Grupos de Códigos de Estado HTTP\n",
        "\n",
        "Los códigos de estado HTTP son números de tres dígitos que indican el resultado de una solicitud HTTP. Están divididos en diferentes grupos, cada uno con su propio rango numérico y significado. A continuación, se presentan los grupos principales:\n",
        "\n",
        "## 1xx: Respuestas informativas\n",
        "Estos códigos indican que la solicitud del cliente ha sido recibida y se está procesando. No requieren acción adicional por parte del cliente.\n",
        "\n",
        "## 2xx: Respuestas exitosas\n",
        "Indican que la solicitud del cliente fue recibida, entendida y aceptada correctamente por el servidor. La operación fue exitosa.\n",
        "\n",
        "## 3xx: Redirecciones\n",
        "Indican que se necesita realizar una acción adicional por parte del cliente para completar la solicitud. Pueden implicar redireccionamientos a una nueva ubicación o recurso.\n",
        "\n",
        "## 4xx: Errores del cliente\n",
        "Indican que la solicitud del cliente contiene errores o no se puede completar debido a problemas en el lado del cliente. Suelen ser causados por una mala sintaxis en la solicitud o recursos no disponibles en el servidor.\n",
        "\n",
        "## 5xx: Errores del servidor\n",
        "Indican que ha ocurrido un error en el servidor al intentar completar la solicitud del cliente. Suelen ser causados por problemas en el servidor, como fallas en la aplicación o sobrecarga del servidor.\n",
        "\n",
        "Es importante comprender estos grupos y sus significados para interpretar adecuadamente las respuestas HTTP y diagnosticar problemas en las comunicaciones cliente-servidor.\n",
        "\n",
        "---\n"
      ],
      "metadata": {
        "id": "-BGXqLCepgjO"
      }
    },
    {
      "cell_type": "markdown",
      "source": [
        "\n",
        "---\n",
        "\n",
        "# Especificación del protocolo HTTP (RFC 7231)\n",
        "\n",
        "Los códigos de estado HTTP son códigos numéricos que indican el resultado de una solicitud HTTP. Están divididos en diferentes grupos según su primer dígito. A continuación se presentan los códigos de estado HTTP definidos en la especificación del protocolo HTTP (RFC 7231):\n",
        "\n",
        "## 1xx: Respuestas informativas\n",
        "\n",
        "- 100 Continue\n",
        "- 101 Switching Protocols\n",
        "- 102 Processing\n",
        "- 103 Early Hints\n",
        "\n",
        "## 2xx: Respuestas exitosas\n",
        "\n",
        "- 200 OK\n",
        "- 201 Created\n",
        "- 202 Accepted\n",
        "- 203 Non-Authoritative Information\n",
        "- 204 No Content\n",
        "- 205 Reset Content\n",
        "- 206 Partial Content\n",
        "- 207 Multi-Status\n",
        "- 208 Already Reported\n",
        "- 226 IM Used\n",
        "\n",
        "## 3xx: Redirecciones\n",
        "\n",
        "- 300 Multiple Choices\n",
        "- 301 Moved Permanently\n",
        "- 302 Found\n",
        "- 303 See Other\n",
        "- 304 Not Modified\n",
        "- 305 Use Proxy\n",
        "- 306 Unused\n",
        "- 307 Temporary Redirect\n",
        "- 308 Permanent Redirect\n",
        "\n",
        "## 4xx: Errores del cliente\n",
        "\n",
        "- 400 Bad Request\n",
        "- 401 Unauthorized\n",
        "- 402 Payment Required\n",
        "- 403 Forbidden\n",
        "- 404 Not Found\n",
        "- 405 Method Not Allowed\n",
        "- 406 Not Acceptable\n",
        "- 407 Proxy Authentication Required\n",
        "- 408 Request Timeout\n",
        "- 409 Conflict\n",
        "- 410 Gone\n",
        "- 411 Length Required\n",
        "- 412 Precondition Failed\n",
        "- 413 Payload Too Large\n",
        "- 414 URI Too Long\n",
        "- 415 Unsupported Media Type\n",
        "- 416 Range Not Satisfiable\n",
        "- 417 Expectation Failed\n",
        "- 418 I'm a teapot\n",
        "- 421 Misdirected Request\n",
        "- 422 Unprocessable Entity\n",
        "- 423 Locked\n",
        "- 424 Failed Dependency\n",
        "- 425 Too Early\n",
        "- 426 Upgrade Required\n",
        "- 428 Precondition Required\n",
        "- 429 Too Many Requests\n",
        "- 431 Request Header Fields Too Large\n",
        "- 451 Unavailable For Legal Reasons\n",
        "\n",
        "## 5xx: Errores del servidor\n",
        "\n",
        "- 500 Internal Server Error\n",
        "- 501 Not Implemented\n",
        "- 502 Bad Gateway\n",
        "- 503 Service Unavailable\n",
        "- 504 Gateway Timeout\n",
        "- 505 HTTP Version Not Supported\n",
        "- 506 Variant Also Negotiates\n",
        "- 507 Insufficient Storage\n",
        "- 508 Loop Detected\n",
        "- 510 Not Extended\n",
        "- 511 Network Authentication Required\n",
        "\n",
        "Estos códigos de estado son utilizados para comunicar el resultado de una solicitud HTTP entre el cliente y el servidor.\n",
        "\n",
        "---\n"
      ],
      "metadata": {
        "id": "7jNdNomTpnT8"
      }
    },
    {
      "cell_type": "markdown",
      "source": [
        "[HTTP con GATOS](https://http.cat/)"
      ],
      "metadata": {
        "id": "xb2AYeZaptfL"
      }
    }
  ]
}