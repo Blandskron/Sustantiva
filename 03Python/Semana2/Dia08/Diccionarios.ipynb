{
  "nbformat": 4,
  "nbformat_minor": 0,
  "metadata": {
    "colab": {
      "provenance": []
    },
    "kernelspec": {
      "name": "python3",
      "display_name": "Python 3"
    },
    "language_info": {
      "name": "python"
    }
  },
  "cells": [
    {
      "cell_type": "markdown",
      "source": [
        "#Diccionarios"
      ],
      "metadata": {
        "id": "wzHbqpninrhG"
      }
    },
    {
      "cell_type": "markdown",
      "source": [
        "Los diccionarios son una estructura de datos que permiten almacenar una colección de pares clave-valor. Las claves son strings y se utilizan para acceder a los valores correspondientes. La sintaxis para crear un diccionario es la siguiente:"
      ],
      "metadata": {
        "id": "ELRDFcU7nucX"
      }
    },
    {
      "cell_type": "code",
      "source": [
        "mi_diccionario = {\n",
        "    'clave1': 'valor1',\n",
        "    'clave2': 'valor2',\n",
        "    'clave3': 'valor3'\n",
        "}\n"
      ],
      "metadata": {
        "id": "hy23Tki-nwsX"
      },
      "execution_count": 4,
      "outputs": []
    },
    {
      "cell_type": "markdown",
      "source": [
        "Por ejemplo, el siguiente código crea un diccionario llamado “curso” que tiene cinco pares clave-valor: “nombre”, “duración”, “clases”, “detalles” y “comentarios”:"
      ],
      "metadata": {
        "id": "bXYSOz3loIzu"
      }
    },
    {
      "cell_type": "code",
      "source": [
        "curso = {\n",
        "    'nombre': '30 días de Python',\n",
        "    'duración': '20 horas',\n",
        "    'clases': 100,\n",
        "    'detalles': {\n",
        "        'tecnologias': ['Python', 'Flask', 'Django'],\n",
        "        'calificacion': 5,\n",
        "    },\n",
        "    'comentarios': ['¡Excelente curso!', 'Python es poderoso', 'Hola']\n",
        "}"
      ],
      "metadata": {
        "id": "wstcAynIoMDX"
      },
      "execution_count": 3,
      "outputs": []
    },
    {
      "cell_type": "markdown",
      "source": [
        "Para acceder a los valores de un diccionario, se utiliza la notación de corchetes y se especifica la clave. Por ejemplo, para acceder al nombre del curso anterior se utilizaría la siguiente sintaxis:"
      ],
      "metadata": {
        "id": "ouylNqywoY4H"
      }
    },
    {
      "cell_type": "code",
      "source": [
        "print(curso['nombre'])\n",
        "# \"30 días de Python\""
      ],
      "metadata": {
        "colab": {
          "base_uri": "https://localhost:8080/"
        },
        "id": "WE7QATeRobym",
        "outputId": "1d486d07-2bb1-481a-e0df-a95faae1d551"
      },
      "execution_count": 5,
      "outputs": [
        {
          "output_type": "stream",
          "name": "stdout",
          "text": [
            "30 días de Python\n"
          ]
        }
      ]
    },
    {
      "cell_type": "markdown",
      "source": [
        "Además de los valores, los diccionarios también pueden tener métodos, que son funciones asociadas a un diccionario. Por ejemplo, el siguiente código crea un diccionario “coche” con una clave “marca” y un método “encender”:"
      ],
      "metadata": {
        "id": "N_JjHvHEovXu"
      }
    },
    {
      "cell_type": "code",
      "source": [
        "coche = {\n",
        "    'marca': 'Toyota',\n",
        "    'encender': lambda: print('El coche ha sido encendido')\n",
        "}"
      ],
      "metadata": {
        "id": "C1H1tBw7ow--"
      },
      "execution_count": 6,
      "outputs": []
    },
    {
      "cell_type": "markdown",
      "source": [
        "Para llamar a un método de un diccionario, se utiliza la notación de corchetes y se especifica la clave. Por ejemplo:"
      ],
      "metadata": {
        "id": "YxheyYUvpALf"
      }
    },
    {
      "cell_type": "code",
      "source": [
        "coche['encender']() # \"El coche ha sido encendido\""
      ],
      "metadata": {
        "colab": {
          "base_uri": "https://localhost:8080/"
        },
        "id": "4H8kr1VPpBtV",
        "outputId": "2472112f-6e6d-4348-c5ac-96ad1eeaab85"
      },
      "execution_count": 7,
      "outputs": [
        {
          "output_type": "stream",
          "name": "stdout",
          "text": [
            "El coche ha sido encendido\n"
          ]
        }
      ]
    },
    {
      "cell_type": "markdown",
      "source": [
        "Python también tiene una característica llamada herencia, que permite crear nuevos diccionarios a partir de diccionarios existentes y heredar sus pares clave-valor. Esto permite a los desarrolladores crear nuevos objetos a partir de objetos existentes y agregar o modificar sus pares clave-valor, pero esto lo verás mucho más adelante, por el momento no tienes de que preocuparte."
      ],
      "metadata": {
        "id": "6aiCizzypI92"
      }
    }
  ]
}