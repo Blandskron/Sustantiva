{
  "nbformat": 4,
  "nbformat_minor": 0,
  "metadata": {
    "colab": {
      "provenance": []
    },
    "kernelspec": {
      "name": "python3",
      "display_name": "Python 3"
    },
    "language_info": {
      "name": "python"
    }
  },
  "cells": [
    {
      "cell_type": "markdown",
      "source": [
        "#Manejo de Errores y Excepciones"
      ],
      "metadata": {
        "id": "TcDS6Kzi8bFl"
      }
    },
    {
      "cell_type": "markdown",
      "source": [
        "El manejo de errores en Python es una parte fundamental de la programación para garantizar que nuestros programas sean robustos y puedan manejar situaciones inesperadas. Python proporciona diversas herramientas y técnicas para manejar y controlar errores."
      ],
      "metadata": {
        "id": "hlTfjT1e8gEE"
      }
    },
    {
      "cell_type": "markdown",
      "source": [
        "En Python, los errores se conocen como excepciones y se producen cuando ocurre una situación inesperada durante la ejecución de un programa. Algunos ejemplos comunes de excepciones son TypeError, NameError, ValueError, entre otros."
      ],
      "metadata": {
        "id": "w7EhjRYH8idw"
      }
    },
    {
      "cell_type": "markdown",
      "source": [
        "A continuación, se presenta una descripción detallada sobre el manejo de errores en Python:"
      ],
      "metadata": {
        "id": "i_deA7sm8r4w"
      }
    },
    {
      "cell_type": "markdown",
      "source": [
        "Bloques try-except: El bloque try-except se utiliza para capturar y manejar excepciones. El código sospechoso de causar una excepción se coloca dentro del bloque try, y si se produce alguna excepción, se ejecuta el bloque except correspondiente."
      ],
      "metadata": {
        "id": "UBTAZSvK8xjI"
      }
    },
    {
      "cell_type": "code",
      "execution_count": null,
      "metadata": {
        "id": "hC9YPkuB8XMj"
      },
      "outputs": [],
      "source": [
        "try:\n",
        "    # Código sospechoso\n",
        "except ExceptionType:\n",
        "    # Manejar la excepción"
      ]
    },
    {
      "cell_type": "markdown",
      "source": [
        "El bloque except puede manejar excepciones específicas o genéricas. Por ejemplo:"
      ],
      "metadata": {
        "id": "WOTg38xu87dg"
      }
    },
    {
      "cell_type": "code",
      "source": [
        "try:\n",
        "    # Código sospechoso\n",
        "except ValueError:\n",
        "    # Manejar la excepción ValueError\n",
        "except:\n",
        "    # Manejar cualquier otra excepción"
      ],
      "metadata": {
        "id": "x0V1fJL289fJ"
      },
      "execution_count": null,
      "outputs": []
    },
    {
      "cell_type": "markdown",
      "source": [
        "Bloque finally: El bloque finally se utiliza para ejecutar código que debe ejecutarse sin importar si se produjo una excepción o no. Este bloque se coloca después del bloque try-except."
      ],
      "metadata": {
        "id": "yUEGBMeV9BE4"
      }
    },
    {
      "cell_type": "code",
      "source": [
        "try:\n",
        "    # Código sospechoso\n",
        "except ExceptionType:\n",
        "    # Manejar la excepción\n",
        "finally:\n",
        "    # Código que se ejecuta siempre"
      ],
      "metadata": {
        "id": "H9omHBGs9MB4"
      },
      "execution_count": null,
      "outputs": []
    },
    {
      "cell_type": "markdown",
      "source": [
        "Cláusula raise: La cláusula raise se utiliza para generar manualmente una excepción en Python. Esto nos permite lanzar una excepción específica cuando ocurre una condición no deseada."
      ],
      "metadata": {
        "id": "YcMRTXFz9M6X"
      }
    },
    {
      "cell_type": "code",
      "source": [
        "if condition:\n",
        "    raise ExceptionType(\"Mensaje de error\")"
      ],
      "metadata": {
        "id": "kLcnC_m59Q_5"
      },
      "execution_count": null,
      "outputs": []
    },
    {
      "cell_type": "markdown",
      "source": [
        "Por ejemplo, para generar una excepción TypeError, se puede utilizar la siguiente línea de código:"
      ],
      "metadata": {
        "id": "5l08Ma6v9lZI"
      }
    },
    {
      "cell_type": "code",
      "source": [
        "raise TypeError(\"Se esperaba un tipo de dato diferente\")"
      ],
      "metadata": {
        "id": "7imDo_4S9onY"
      },
      "execution_count": null,
      "outputs": []
    },
    {
      "cell_type": "markdown",
      "source": [
        "Bloques try-except-else: También se puede utilizar un bloque else junto con try-except para especificar un código que se ejecutará si no se produce ninguna excepción."
      ],
      "metadata": {
        "id": "JdDvp5nt9tTo"
      }
    },
    {
      "cell_type": "code",
      "source": [
        "try:\n",
        "    # Código sospechoso\n",
        "except ExceptionType:\n",
        "    # Manejar la excepción\n",
        "else:\n",
        "    # Código que se ejecuta si no hay excepciones"
      ],
      "metadata": {
        "id": "Hxl4cYxE9wlQ"
      },
      "execution_count": null,
      "outputs": []
    },
    {
      "cell_type": "markdown",
      "source": [
        "Manejo de excepciones específicas: Además de capturar excepciones genéricas, también es posible manejar excepciones específicas y personalizadas. Esto permite un manejo más granular y adaptado a situaciones particulares."
      ],
      "metadata": {
        "id": "T7AorKZ_92HA"
      }
    },
    {
      "cell_type": "code",
      "source": [
        "try:\n",
        "    # Código sospechoso\n",
        "except ValueError as ve:\n",
        "    # Manejar excepción ValueError\n",
        "except TypeError as te:\n",
        "    # Manejar excepción TypeError"
      ],
      "metadata": {
        "id": "U8J4Zydk9-GR"
      },
      "execution_count": null,
      "outputs": []
    },
    {
      "cell_type": "markdown",
      "source": [
        "Estas son algunas de las técnicas más comunes para manejar excepciones en Python. Sin embargo, hay muchas más opciones y posibilidades para adaptarse a diferentes escenarios."
      ],
      "metadata": {
        "id": "z2Nnpj6m95qQ"
      }
    },
    {
      "cell_type": "markdown",
      "source": [
        "El manejo de errores adecuado es crucial para garantizar la robustez y confiabilidad de nuestros programas. Al anticipar y manejar las excepciones de manera adecuada, podemos evitar fallas inesperadas y proporcionar mensajes de error claros y útiles para los usuarios y desarrolladores."
      ],
      "metadata": {
        "id": "pl4ReBR6-FZR"
      }
    }
  ]
}