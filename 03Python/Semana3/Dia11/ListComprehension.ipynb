{
  "nbformat": 4,
  "nbformat_minor": 0,
  "metadata": {
    "colab": {
      "provenance": []
    },
    "kernelspec": {
      "name": "python3",
      "display_name": "Python 3"
    },
    "language_info": {
      "name": "python"
    }
  },
  "cells": [
    {
      "cell_type": "markdown",
      "source": [
        "#List Comprehension"
      ],
      "metadata": {
        "id": "9yx5riOtz3sY"
      }
    },
    {
      "cell_type": "markdown",
      "source": [
        "Las list comprehensions, son una característica poderosa de Python que nos permite crear listas de forma concisa y eficiente utilizando una sintaxis compacta. Las list comprehensions son una forma elegante de transformar o filtrar elementos de una lista existente para crear una nueva lista."
      ],
      "metadata": {
        "id": "moQ7g_26z7tX"
      }
    },
    {
      "cell_type": "markdown",
      "source": [
        "La sintaxis básica de una list comprehension es la siguiente:"
      ],
      "metadata": {
        "id": "0fekjCTnz9zv"
      }
    },
    {
      "cell_type": "code",
      "execution_count": null,
      "metadata": {
        "id": "U9Ef3CrTzRGv"
      },
      "outputs": [],
      "source": [
        "nueva_lista = [expresion for elemento in lista_original if condicion]"
      ]
    },
    {
      "cell_type": "markdown",
      "source": [
        "expresion es una expresión que define cómo se transformarán los elementos de la lista original para obtener los elementos de la nueva lista.\n",
        "elemento es una variable que representa cada elemento de la lista original mientras se recorre.\n",
        "lista_original es la lista de origen de la cual se obtendrán los elementos.\n",
        "condicion es una condición opcional que filtra los elementos de la lista original."
      ],
      "metadata": {
        "id": "3Vv228Jq0PWg"
      }
    },
    {
      "cell_type": "markdown",
      "source": [
        "Aquí hay un ejemplo acerca del uso de las list comprehensions:"
      ],
      "metadata": {
        "id": "1lzi43k60Ssn"
      }
    },
    {
      "cell_type": "code",
      "source": [
        "numeros = [1, 2, 3, 4, 5]\n",
        "\n",
        "# Crear una nueva lista con el cuadrado de los números pares de la lista original\n",
        "cuadrados_pares = [num ** 2 for num in numeros if num % 2 == 0]\n",
        "print(cuadrados_pares)  # Output: [4, 16]\n",
        "\n",
        "# Crear una nueva lista con los números impares multiplicados por 2 de la lista original\n",
        "impares_multiplicados = [num * 2 for num in numeros if num % 2 != 0]\n",
        "print(impares_multiplicados)  # Output: [2, 6, 10]"
      ],
      "metadata": {
        "colab": {
          "base_uri": "https://localhost:8080/"
        },
        "id": "HbZNo-pO0dwQ",
        "outputId": "54b51b05-00da-4ac7-ac65-3d023da77386"
      },
      "execution_count": 2,
      "outputs": [
        {
          "output_type": "stream",
          "name": "stdout",
          "text": [
            "[4, 16]\n",
            "[2, 6, 10]\n"
          ]
        }
      ]
    },
    {
      "cell_type": "markdown",
      "source": [
        "En el primer ejemplo, se crea una nueva lista llamada cuadrados_pares que contiene el cuadrado de los números pares de la lista original. La expresión num ** 2 eleva al cuadrado cada número y se agrega a la lista si cumple la condición num % 2 == 0."
      ],
      "metadata": {
        "id": "mvV8X_Wk0kMv"
      }
    },
    {
      "cell_type": "markdown",
      "source": [
        "En el segundo ejemplo, se crea una nueva lista llamada impares_multiplicados que contiene los números impares de la lista original multiplicados por 2. La expresión num * 2 multiplica cada número impar por 2 y se agrega a la lista si cumple la condición num % 2 != 0."
      ],
      "metadata": {
        "id": "08TUcKgr0mSo"
      }
    },
    {
      "cell_type": "markdown",
      "source": [
        "Las list comprehensions también pueden incluir cláusulas else para manejar casos en los que la condición no se cumple."
      ],
      "metadata": {
        "id": "C_3Bmc5l011H"
      }
    },
    {
      "cell_type": "code",
      "source": [
        "numeros = [1, 2, 3, 4, 5]\n",
        "\n",
        "# Crear una nueva lista con los números pares de la lista original, y 'No par' para los impares\n",
        "numeros_par_o_no_par = ['Par' if num % 2 == 0 else 'No par' for num in numeros]\n",
        "print(numeros_par_o_no_par)  # Output: ['No par', 'Par', 'No par', 'Par', 'No par']"
      ],
      "metadata": {
        "colab": {
          "base_uri": "https://localhost:8080/"
        },
        "id": "2aXIWJU70972",
        "outputId": "38781cf3-bc03-4ff5-d209-6fa519b7fdc4"
      },
      "execution_count": 3,
      "outputs": [
        {
          "output_type": "stream",
          "name": "stdout",
          "text": [
            "['No par', 'Par', 'No par', 'Par', 'No par']\n"
          ]
        }
      ]
    },
    {
      "cell_type": "markdown",
      "source": [
        "En este ejemplo, se crea una nueva lista llamada numeros_par_o_no_par que contiene la cadena 'Par' para los números pares y la cadena 'No par' para los números impares de la lista original."
      ],
      "metadata": {
        "id": "IXv5c4zf1IRH"
      }
    },
    {
      "cell_type": "markdown",
      "source": [
        "Las list comprehensions son una herramienta muy útil en Python que nos permite escribir código más limpio y legible al mismo tiempo que realizamos transformaciones y filtrados en las listas de manera eficiente."
      ],
      "metadata": {
        "id": "eFf9FNRy1Ka3"
      }
    }
  ]
}