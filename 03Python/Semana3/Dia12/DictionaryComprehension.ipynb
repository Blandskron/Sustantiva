{
  "nbformat": 4,
  "nbformat_minor": 0,
  "metadata": {
    "colab": {
      "provenance": []
    },
    "kernelspec": {
      "name": "python3",
      "display_name": "Python 3"
    },
    "language_info": {
      "name": "python"
    }
  },
  "cells": [
    {
      "cell_type": "markdown",
      "source": [
        "#Dictionary Comprehension"
      ],
      "metadata": {
        "id": "XUvk9gYo133o"
      }
    },
    {
      "cell_type": "markdown",
      "source": [
        "Las dictionary comprehensions, son una característica poderosa de Python que nos permite crear diccionarios de forma concisa y eficiente utilizando una sintaxis compacta. Son una forma elegante de transformar o filtrar elementos de una secuencia para crear un nuevo diccionario."
      ],
      "metadata": {
        "id": "bYH1tZl_18SO"
      }
    },
    {
      "cell_type": "markdown",
      "source": [
        "La sintaxis básica de una dictionary comprehension es la siguiente:"
      ],
      "metadata": {
        "id": "0R78nq2W1-RH"
      }
    },
    {
      "cell_type": "code",
      "execution_count": null,
      "metadata": {
        "id": "6atUSn1C1zlP"
      },
      "outputs": [],
      "source": [
        "nuevo_diccionario = {clave_expresion: valor_expresion for elemento in secuencia if condicion}"
      ]
    },
    {
      "cell_type": "markdown",
      "source": [
        "clave_expresion es una expresión que define cómo se generarán las claves del nuevo diccionario.\n",
        "valor_expresion es una expresión que define cómo se generarán los valores del nuevo diccionario.\n",
        "elemento es una variable que representa cada elemento de la secuencia mientras se recorre.\n",
        "secuencia es la secuencia de origen de la cual se obtendrán los elementos.\n",
        "condicion es una condición opcional que filtra los elementos de la secuencia."
      ],
      "metadata": {
        "id": "8dhA7Mkh2OGQ"
      }
    },
    {
      "cell_type": "markdown",
      "source": [
        "Aquí hay un ejemplo para uso de las dictionary comprehensions:"
      ],
      "metadata": {
        "id": "_RoP-5GB2PRo"
      }
    },
    {
      "cell_type": "code",
      "source": [
        "personas = [(\"Juan\", 25), (\"María\", 30), (\"Pedro\", 20)]\n",
        "\n",
        "# Crear un nuevo diccionario con el nombre como clave y la edad como valor, solo para personas mayores de 25 años\n",
        "personas_mayores = {nombre: edad for nombre, edad in personas if edad > 25}\n",
        "print(personas_mayores)  # Output: {'María': 30}\n",
        "\n",
        "# Crear un nuevo diccionario con el nombre como clave y la longitud del nombre como valor para todas las personas\n",
        "diccionario_longitudes = {nombre: len(nombre) for nombre, _ in personas}\n",
        "print(diccionario_longitudes)  # Output: {'Juan': 4, 'María': 5, 'Pedro': 5}"
      ],
      "metadata": {
        "colab": {
          "base_uri": "https://localhost:8080/"
        },
        "id": "8XxZhgI32bZA",
        "outputId": "042f6370-0ea6-4278-fa67-dc6af68c5c55"
      },
      "execution_count": 2,
      "outputs": [
        {
          "output_type": "stream",
          "name": "stdout",
          "text": [
            "{'María': 30}\n",
            "{'Juan': 4, 'María': 5, 'Pedro': 5}\n"
          ]
        }
      ]
    },
    {
      "cell_type": "markdown",
      "source": [
        "En el primer ejemplo, se crea un nuevo diccionario llamado personas_mayores que contiene solo a las personas mayores de 25 años del diccionario original. Las claves del nuevo diccionario son los nombres y los valores son las edades correspondientes. Esto se logra mediante la expresión nombre: edad en la dictionary comprehension, y se aplica la condición edad > 25."
      ],
      "metadata": {
        "id": "CvZscPu-2miI"
      }
    },
    {
      "cell_type": "markdown",
      "source": [
        "En el segundo ejemplo, se crea un nuevo diccionario llamado diccionario_longitudes que contiene la longitud de cada nombre del diccionario original. Las claves del nuevo diccionario son los nombres y los valores son las longitudes de los nombres correspondientes. Esto se logra mediante la expresión nombre: len(nombre) en la dictionary comprehension."
      ],
      "metadata": {
        "id": "OcQag7dS2oso"
      }
    }
  ]
}