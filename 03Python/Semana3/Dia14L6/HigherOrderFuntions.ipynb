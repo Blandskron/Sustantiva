{
  "nbformat": 4,
  "nbformat_minor": 0,
  "metadata": {
    "colab": {
      "provenance": []
    },
    "kernelspec": {
      "name": "python3",
      "display_name": "Python 3"
    },
    "language_info": {
      "name": "python"
    }
  },
  "cells": [
    {
      "cell_type": "markdown",
      "source": [
        "#Higher Order Functions"
      ],
      "metadata": {
        "id": "7-50_1wH42Nw"
      }
    },
    {
      "cell_type": "markdown",
      "source": [
        "Las High Order Functions son funciones que cumplen al menos uno de los siguientes criterios:"
      ],
      "metadata": {
        "id": "zrDvgCjE4673"
      }
    },
    {
      "cell_type": "markdown",
      "source": [
        "Toman una o más funciones como argumentos.\n",
        "Devuelven una función como resultado."
      ],
      "metadata": {
        "id": "GUmM_-rK49LH"
      }
    },
    {
      "cell_type": "markdown",
      "source": [
        "Estas funciones son fundamentales para la programación funcional y nos permiten trabajar con funciones de manera modular y flexible."
      ],
      "metadata": {
        "id": "-PiTm7qL5Ahn"
      }
    },
    {
      "cell_type": "markdown",
      "source": [
        "En Python, algunas de las High Order Functions incorporadas más comunes son:"
      ],
      "metadata": {
        "id": "6cC_FUGe5Ct4"
      }
    },
    {
      "cell_type": "markdown",
      "source": [
        "map(función, secuencia): Aplica la función a cada elemento de la secuencia y devuelve un iterador con los resultados.\n",
        "filter(función, secuencia): Filtra los elementos de la secuencia según la función dada y devuelve un iterador con los elementos que cumplan la condición.\n",
        "reduce(función, secuencia): Aplica la función a los elementos de la secuencia de manera acumulativa, reduciéndolos a un solo valor.\n",
        "sorted(secuencia, key=función): Ordena la secuencia según la función de clave dada y devuelve una nueva lista con los elementos ordenados."
      ],
      "metadata": {
        "id": "NCRb3BJC5IPI"
      }
    },
    {
      "cell_type": "markdown",
      "source": [
        "Estas funciones de orden superior nos permiten escribir código más limpio y expresivo al evitar la necesidad de bucles explícitos y operaciones repetitivas."
      ],
      "metadata": {
        "id": "mWif3t8m5NKJ"
      }
    },
    {
      "cell_type": "markdown",
      "source": [
        "Además, podemos crear nuestras propias High Order Functions en Python. Esto se logra utilizando la capacidad de Python para tratar las funciones como objetos de primera clase. Podemos pasar funciones como argumentos a otras funciones, devolver funciones desde funciones y almacenar funciones en variables."
      ],
      "metadata": {
        "id": "2NC33R2p5a34"
      }
    },
    {
      "cell_type": "markdown",
      "source": [
        "Aquí hay un ejemplo acerca del uso de las High Order Functions en Python:"
      ],
      "metadata": {
        "id": "htdCdH-C5fV4"
      }
    },
    {
      "cell_type": "code",
      "execution_count": 1,
      "metadata": {
        "colab": {
          "base_uri": "https://localhost:8080/"
        },
        "id": "TtAOSgS34w16",
        "outputId": "78eee45b-d12c-4558-97ff-2129eaba3129"
      },
      "outputs": [
        {
          "output_type": "stream",
          "name": "stdout",
          "text": [
            "8\n",
            "3\n"
          ]
        }
      ],
      "source": [
        "def aplicar_operacion(func, a, b):\n",
        "\treturn func(a, b)\n",
        "\n",
        "def suma(a, b):\n",
        "\treturn a + b\n",
        "\n",
        "def resta(a, b):\n",
        "\treturn a - b\n",
        "\n",
        "resultado = aplicar_operacion(suma, 5, 3)\n",
        "print(resultado)  # Output: 8\n",
        "\n",
        "resultado = aplicar_operacion(resta, 10, 7)\n",
        "print(resultado)  # Output: 3"
      ]
    },
    {
      "cell_type": "markdown",
      "source": [
        "En este ejemplo, tenemos una función aplicar_operacion que toma una función func y dos argumentos a y b. La función aplicar_operacion llama a func pasándole a y b como argumentos y devuelve el resultado."
      ],
      "metadata": {
        "id": "xuALQEZj5rcQ"
      }
    },
    {
      "cell_type": "markdown",
      "source": [
        "Luego, definimos las funciones suma y resta que realizan operaciones de suma y resta, respectivamente."
      ],
      "metadata": {
        "id": "YuxbSSil5sqH"
      }
    },
    {
      "cell_type": "markdown",
      "source": [
        "Finalmente, llamamos a aplicar_operacion pasando las funciones suma y resta junto con los argumentos necesarios. Dependiendo de la función que se pase, se realiza la operación correspondiente y se obtiene el resultado."
      ],
      "metadata": {
        "id": "SdO6Lgur50cQ"
      }
    }
  ]
}