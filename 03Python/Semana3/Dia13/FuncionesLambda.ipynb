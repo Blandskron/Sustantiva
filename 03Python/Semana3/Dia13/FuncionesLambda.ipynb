{
  "nbformat": 4,
  "nbformat_minor": 0,
  "metadata": {
    "colab": {
      "provenance": []
    },
    "kernelspec": {
      "name": "python3",
      "display_name": "Python 3"
    },
    "language_info": {
      "name": "python"
    }
  },
  "cells": [
    {
      "cell_type": "markdown",
      "source": [
        "#Funciones Lambda"
      ],
      "metadata": {
        "id": "HkHxNfC53Pio"
      }
    },
    {
      "cell_type": "markdown",
      "source": [
        "Las funciones lambda en Python son funciones anónimas que se pueden definir de manera concisa en una sola línea. A diferencia de las funciones regulares, las funciones lambda no requieren un nombre y se utilizan principalmente para realizar operaciones simples y rápidas."
      ],
      "metadata": {
        "id": "XMwxksv93Usx"
      }
    },
    {
      "cell_type": "markdown",
      "source": [
        "La sintaxis básica de una lambda es la siguiente:"
      ],
      "metadata": {
        "id": "m3Dni5rg3Wzg"
      }
    },
    {
      "cell_type": "code",
      "execution_count": null,
      "metadata": {
        "id": "oij0NmW53MYz"
      },
      "outputs": [],
      "source": [
        "lambda argumentos: expresion"
      ]
    },
    {
      "cell_type": "markdown",
      "source": [
        "argumentos son los parámetros de la función.\n",
        "expresion es la operación que se realizará y se devolverá como resultado."
      ],
      "metadata": {
        "id": "yMfoJbKy3jv4"
      }
    },
    {
      "cell_type": "markdown",
      "source": [
        "Las lambdas se utilizan comúnmente en combinación con otras funciones, como map(), filter() y reduce(), para realizar operaciones sobre secuencias de manera más concisa."
      ],
      "metadata": {
        "id": "RZd0wW-93mDg"
      }
    },
    {
      "cell_type": "markdown",
      "source": [
        "Aquí hay algunos ejemplos para ilustrar el uso de las lambdas:"
      ],
      "metadata": {
        "id": "T3-VQGTo3rrv"
      }
    },
    {
      "cell_type": "code",
      "source": [
        "# Ejemplo 1: Función lambda simple\n",
        "suma = lambda a, b: a + b\n",
        "resultado = suma(2, 3)\n",
        "print(resultado)  # Output: 5\n",
        "\n",
        "# Ejemplo 2: Uso de lambda con map()\n",
        "numeros = [1, 2, 3, 4, 5]\n",
        "duplicados = list(map(lambda x: x * 2, numeros))\n",
        "print(duplicados)  # Output: [2, 4, 6, 8, 10]\n",
        "\n",
        "# Ejemplo 3: Uso de lambda con filter()\n",
        "numeros = [1, 2, 3, 4, 5]\n",
        "pares = list(filter(lambda x: x % 2 == 0, numeros))\n",
        "print(pares)  # Output: [2, 4]"
      ],
      "metadata": {
        "colab": {
          "base_uri": "https://localhost:8080/"
        },
        "id": "ACftnD3u3xXp",
        "outputId": "c32007c8-c98b-41dc-94b8-92a68423d30b"
      },
      "execution_count": 1,
      "outputs": [
        {
          "output_type": "stream",
          "name": "stdout",
          "text": [
            "5\n",
            "[2, 4, 6, 8, 10]\n",
            "[2, 4]\n"
          ]
        }
      ]
    },
    {
      "cell_type": "markdown",
      "source": [
        "En el primer ejemplo, se define una función lambda llamada suma que toma dos argumentos a y b y devuelve su suma. Luego, se llama a la función lambda pasando los argumentos 2 y 3, y se almacena el resultado en la variable resultado."
      ],
      "metadata": {
        "id": "k1lywwfT34jR"
      }
    },
    {
      "cell_type": "markdown",
      "source": [
        "En el segundo ejemplo, se utiliza una lambda junto con la función map() para duplicar cada elemento de la lista numeros. La función lambda multiplica cada elemento por 2, y map() aplica esta operación a cada elemento de la lista."
      ],
      "metadata": {
        "id": "Eu06eqtt36cw"
      }
    },
    {
      "cell_type": "markdown",
      "source": [
        "En el tercer ejemplo, se utiliza una lambda junto con la función filter() para filtrar los números pares de la lista numeros. La función lambda verifica si un número es divisible por 2 y devuelve True si lo es."
      ],
      "metadata": {
        "id": "-cm9m-zP3_gI"
      }
    },
    {
      "cell_type": "markdown",
      "source": [
        "Las funciones lambda son útiles cuando se necesita definir rápidamente una función pequeña y sencilla sin tener que escribir una función completa. Se utilizan comúnmente en combinación con otras funciones para operar sobre secuencias de manera más eficiente y concisa."
      ],
      "metadata": {
        "id": "knVbVri44IcZ"
      }
    }
  ]
}