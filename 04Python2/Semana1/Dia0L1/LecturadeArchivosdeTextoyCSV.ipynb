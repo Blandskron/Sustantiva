{
  "nbformat": 4,
  "nbformat_minor": 0,
  "metadata": {
    "colab": {
      "provenance": []
    },
    "kernelspec": {
      "name": "python3",
      "display_name": "Python 3"
    },
    "language_info": {
      "name": "python"
    }
  },
  "cells": [
    {
      "cell_type": "markdown",
      "source": [
        "#Lecturade Archivos de Texto y CSV"
      ],
      "metadata": {
        "id": "UiUGLDPeAIZJ"
      }
    },
    {
      "cell_type": "markdown",
      "source": [
        "La lectura de archivos de texto en Python es una tarea común en el procesamiento de datos y la manipulación de archivos. Python proporciona varias formas de leer archivos de texto, lo que nos permite acceder y utilizar la información contenida en ellos. Aquí tienes una descripción detallada de cómo leer archivos de texto en Python:"
      ],
      "metadata": {
        "id": "RXEOQVNLANNY"
      }
    },
    {
      "cell_type": "markdown",
      "source": [
        "Abrir un archivo: Para leer un archivo de texto, primero debemos abrirlo en modo lectura utilizando la función open(). El modo de apertura debe establecerse como “r” o “rt” para archivos de texto."
      ],
      "metadata": {
        "id": "uvUm-tXmAPVg"
      }
    },
    {
      "cell_type": "code",
      "execution_count": null,
      "metadata": {
        "id": "QLJqEi5qADoZ"
      },
      "outputs": [],
      "source": [
        "file = open(\"archivo.txt\", \"r\")"
      ]
    },
    {
      "cell_type": "markdown",
      "source": [
        "Leer todo el contenido: Una vez que hemos abierto el archivo, podemos leer todo su contenido utilizando el método read(). Este método devuelve una cadena que contiene todo el contenido del archivo."
      ],
      "metadata": {
        "id": "RN86hXlhAbl4"
      }
    },
    {
      "cell_type": "code",
      "source": [
        "content = file.read()\n",
        "print(content)"
      ],
      "metadata": {
        "id": "6sNqjTizAhi5"
      },
      "execution_count": null,
      "outputs": []
    },
    {
      "cell_type": "markdown",
      "source": [
        "Leer línea por línea: Si deseamos leer el contenido del archivo línea por línea, podemos utilizar el método readline(). Este método lee una línea a la vez y mueve el indicador de posición del archivo a la siguiente línea."
      ],
      "metadata": {
        "id": "8wjT_NlcAkZQ"
      }
    },
    {
      "cell_type": "code",
      "source": [
        "line = file.readline()\n",
        "while line:\n",
        "    print(line)\n",
        "    line = file.readline()"
      ],
      "metadata": {
        "id": "AYoLe5hSAqM4"
      },
      "execution_count": null,
      "outputs": []
    },
    {
      "cell_type": "markdown",
      "source": [
        "Leer todas las líneas: Si queremos leer todas las líneas del archivo y almacenarlas en una lista, podemos utilizar el método readlines(). Este método devuelve una lista donde cada elemento es una línea del archivo."
      ],
      "metadata": {
        "id": "fRQwMZ-lAx_h"
      }
    },
    {
      "cell_type": "code",
      "source": [
        "lines = file.readlines()\n",
        "for line in lines:\n",
        "    print(line)"
      ],
      "metadata": {
        "id": "fmQdzT7ZA1Kw"
      },
      "execution_count": null,
      "outputs": []
    },
    {
      "cell_type": "markdown",
      "source": [
        "Cerrar el archivo: Después de leer el archivo, es importante cerrarlo utilizando el método close(). Esto libera los recursos asociados al archivo y garantiza que no se produzcan conflictos de acceso en futuras operaciones."
      ],
      "metadata": {
        "id": "lruhPb8GA6Po"
      }
    },
    {
      "cell_type": "code",
      "source": [
        "file.close()"
      ],
      "metadata": {
        "id": "V9Hr8t1SA8Qg"
      },
      "execution_count": null,
      "outputs": []
    },
    {
      "cell_type": "markdown",
      "source": [
        "Es importante tener en cuenta que la apertura y el cierre del archivo son operaciones necesarias para asegurar una manipulación adecuada de los archivos y evitar problemas de acceso o pérdida de datos."
      ],
      "metadata": {
        "id": "t1VHhRYBA-yJ"
      }
    },
    {
      "cell_type": "markdown",
      "source": [
        "Además, es una buena práctica utilizar bloques try-finally o with al leer archivos de texto. Estos bloques garantizan que el archivo se cierre correctamente, incluso si se produce una excepción durante el proceso de lectura."
      ],
      "metadata": {
        "id": "S-lYwpABPIBa"
      }
    },
    {
      "cell_type": "code",
      "source": [
        "try:\n",
        "    file = open(\"archivo.txt\", \"r\")\n",
        "    # Realizar operaciones de lectura\n",
        "finally:\n",
        "    file.close()"
      ],
      "metadata": {
        "id": "Uqtr1-mTPPNU"
      },
      "execution_count": null,
      "outputs": []
    },
    {
      "cell_type": "markdown",
      "source": [
        "O utilizando el bloque with:"
      ],
      "metadata": {
        "id": "kjM6PB0_PX7y"
      }
    },
    {
      "cell_type": "code",
      "source": [
        "with open(\"archivo.txt\", \"r\") as file:\n",
        "    # Realizar operaciones de lectura"
      ],
      "metadata": {
        "id": "xe4Mh8c5PaFz"
      },
      "execution_count": null,
      "outputs": []
    },
    {
      "cell_type": "markdown",
      "source": [
        "#Leer CSV"
      ],
      "metadata": {
        "id": "5P7SbiMgPdID"
      }
    },
    {
      "cell_type": "markdown",
      "source": [
        "Además de leer archivos de texto en Python, también es común necesitar leer archivos CSV (Comma-Separated Values). Los archivos CSV contienen datos estructurados separados por comas, lo que los convierte en una forma popular de almacenar y compartir conjuntos de datos. Aquí te dejamos la forma de cómo leer archivos CSV en Python:"
      ],
      "metadata": {
        "id": "5lct5kZ1PfJk"
      }
    },
    {
      "cell_type": "markdown",
      "source": [
        "Importar el módulo csv: Antes de leer archivos CSV, debemos importar el módulo csv, que proporciona funciones y clases específicas para trabajar con este tipo de archivos."
      ],
      "metadata": {
        "id": "YZ8gwDA3PhGr"
      }
    },
    {
      "cell_type": "code",
      "source": [
        "import csv"
      ],
      "metadata": {
        "id": "J7bV4i8GPspb"
      },
      "execution_count": null,
      "outputs": []
    },
    {
      "cell_type": "markdown",
      "source": [
        "Abrir el archivo CSV: Al igual que con los archivos de texto, debemos abrir el archivo CSV en modo lectura utilizando la función open(). Es importante especificar el modo de apertura como “r” o “rt” para archivos de texto."
      ],
      "metadata": {
        "id": "a85SzLLcPw8D"
      }
    },
    {
      "cell_type": "code",
      "source": [
        "with open('archivo.csv', 'r') as file:\n",
        "    # Realizar operaciones de lectura del archivo CSV"
      ],
      "metadata": {
        "id": "Nt6BdVJQP1hK"
      },
      "execution_count": null,
      "outputs": []
    },
    {
      "cell_type": "markdown",
      "source": [
        "Crear un objeto lector CSV: Para leer los datos del archivo CSV, necesitamos crear un objeto lector CSV utilizando la función reader() del módulo csv. Este objeto nos permitirá acceder a los datos fila por fila."
      ],
      "metadata": {
        "id": "FxjlIQW8QCKS"
      }
    },
    {
      "cell_type": "code",
      "source": [
        "with open('archivo.csv', 'r') as file:\n",
        "    csv_reader = csv.reader(file)\n",
        "    # Realizar operaciones de lectura del archivo CSV"
      ],
      "metadata": {
        "id": "WpYFlqBoQDQ7"
      },
      "execution_count": null,
      "outputs": []
    },
    {
      "cell_type": "markdown",
      "source": [
        "Leer filas del archivo CSV: Utilizando el objeto lector CSV, podemos leer las filas del archivo CSV una a una utilizando un bucle for. Cada fila se representa como una lista de valores correspondientes a cada columna del archivo CSV."
      ],
      "metadata": {
        "id": "m6dv7fOrQFwK"
      }
    },
    {
      "cell_type": "code",
      "source": [
        "with open('archivo.csv', 'r') as file:\n",
        "    csv_reader = csv.reader(file)\n",
        "    for row in csv_reader:\n",
        "        # Acceder a los valores de cada columna en la fila\n",
        "        print(row)"
      ],
      "metadata": {
        "id": "9lfeaQp0QMfj"
      },
      "execution_count": null,
      "outputs": []
    },
    {
      "cell_type": "markdown",
      "source": [
        "Leer datos en diccionarios: Si el archivo CSV tiene una fila de encabezado que contiene los nombres de las columnas, podemos leer los datos en forma de diccionarios utilizando un objeto lector CSV con el método DictReader(). Esto nos permite acceder a los valores utilizando los nombres de las columnas como claves."
      ],
      "metadata": {
        "id": "I71-e6bAQQK6"
      }
    },
    {
      "cell_type": "code",
      "source": [
        "with open('archivo.csv', 'r') as file:\n",
        "    csv_reader = csv.DictReader(file)\n",
        "    for row in csv_reader:\n",
        "        # Acceder a los valores utilizando los nombres de las columnas\n",
        "        print(row['columna1'], row['columna2'])"
      ],
      "metadata": {
        "id": "fYUxS0LVQUXL"
      },
      "execution_count": null,
      "outputs": []
    },
    {
      "cell_type": "markdown",
      "source": [
        "Es importante tener en cuenta que los archivos CSV pueden tener diferentes delimitadores, como comas, punto y coma o tabulaciones. Si el archivo CSV utiliza un delimitador distinto de la coma, podemos especificarlo al crear el objeto lector CSV utilizando el parámetro delimiter."
      ],
      "metadata": {
        "id": "0RH0-lMwWVnF"
      }
    }
  ]
}