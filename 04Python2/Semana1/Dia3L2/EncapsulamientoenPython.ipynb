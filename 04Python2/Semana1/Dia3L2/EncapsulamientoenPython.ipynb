{
  "nbformat": 4,
  "nbformat_minor": 0,
  "metadata": {
    "colab": {
      "provenance": []
    },
    "kernelspec": {
      "name": "python3",
      "display_name": "Python 3"
    },
    "language_info": {
      "name": "python"
    }
  },
  "cells": [
    {
      "cell_type": "markdown",
      "source": [
        "#Encapsulamiento en Python"
      ],
      "metadata": {
        "id": "Le7LnoqzRbIr"
      }
    },
    {
      "cell_type": "markdown",
      "source": [
        "La encapsulación es uno de los principios fundamentales de la programación orientada a objetos, y se refiere a la idea de que los datos y métodos de un objeto deben estar protegidos y no deben ser accesibles directamente desde fuera del objeto. En Python, la encapsulación se logra utilizando convenciones de nomenclatura y, en el caso de las propiedades, mediante el uso de decoradores como @property."
      ],
      "metadata": {
        "id": "wHLkdKCBRe0z"
      }
    },
    {
      "cell_type": "markdown",
      "source": [
        "A continuación, se presenta una explicación detallada sobre la encapsulación en Python:"
      ],
      "metadata": {
        "id": "W3NF41_sRhaT"
      }
    },
    {
      "cell_type": "markdown",
      "source": [
        "Convenciones de Nomenclatura: En Python, se utilizan convenciones de nomenclatura para indicar el nivel de accesibilidad de los atributos y métodos de una clase. La convención más común es utilizar un guion bajo (_) al comienzo de un nombre de atributo o método para indicar que es un atributo o método privado, es decir, que no debería ser accedido directamente desde fuera de la clase. Aunque no hay restricciones técnicas para acceder a estos atributos o métodos, se considera una buena práctica no hacerlo. Por ejemplo:"
      ],
      "metadata": {
        "id": "ybsjTTOwRrmL"
      }
    },
    {
      "cell_type": "code",
      "execution_count": null,
      "metadata": {
        "id": "2iZx-X8yRXVn"
      },
      "outputs": [],
      "source": [
        "class MiClase:\n",
        "    def __init__(self):\n",
        "        self._atributo_privado = 10\n",
        "\n",
        "    def _metodo_privado(self):\n",
        "        pass"
      ]
    },
    {
      "cell_type": "markdown",
      "source": [
        "Decorador @property: En Python, el decorador @property se utiliza para crear un método getter para acceder a un atributo privado como si fuera una propiedad pública. El método getter se denomina como la propiedad que se desea acceder y se define utilizando el decorador @property. Por ejemplo:"
      ],
      "metadata": {
        "id": "Mn1b5vgjRxFs"
      }
    },
    {
      "cell_type": "code",
      "source": [
        "class MiClase:\n",
        "    def __init__(self):\n",
        "        self._atributo_privado = 10\n",
        "\n",
        "    @property\n",
        "    def atributo_publico(self):\n",
        "        return self._atributo_privado"
      ],
      "metadata": {
        "id": "Wj2MVaJ5R9Hb"
      },
      "execution_count": null,
      "outputs": []
    },
    {
      "cell_type": "markdown",
      "source": [
        "En este ejemplo, el atributo _atributo_privado es un atributo privado, pero se puede acceder a él desde fuera de la clase utilizando el método getter atributo_publico. Por ejemplo:"
      ],
      "metadata": {
        "id": "9--aJEIBSIyi"
      }
    },
    {
      "cell_type": "code",
      "source": [
        "objeto = MiClase()\n",
        "print(objeto.atributo_publico)  # Output: 10"
      ],
      "metadata": {
        "id": "-6Me0kcdSKca"
      },
      "execution_count": null,
      "outputs": []
    },
    {
      "cell_type": "markdown",
      "source": [
        "Setter utilizando el decorador @atributo_publico.setter: En Python, también se puede utilizar el decorador @atributo_publico.setter para crear un método setter que permita modificar un atributo privado a través de una sintaxis similar a la asignación de una propiedad. El método setter se denomina como la propiedad que se desea modificar y se define utilizando el decorador @atributo_publico.setter. Por ejemplo:"
      ],
      "metadata": {
        "id": "bKojrtdRSSUe"
      }
    },
    {
      "cell_type": "code",
      "source": [
        "class MiClase:\n",
        "    def __init__(self):\n",
        "        self._atributo_privado = 10\n",
        "\n",
        "    @property\n",
        "    def atributo_publico(self):\n",
        "        return self._atributo_privado\n",
        "\n",
        "    @atributo_publico.setter\n",
        "    def atributo_publico(self, nuevo_valor):\n",
        "        self._atributo_privado = nuevo_valor"
      ],
      "metadata": {
        "id": "6HjtWNeGSRzz"
      },
      "execution_count": null,
      "outputs": []
    },
    {
      "cell_type": "markdown",
      "source": [
        "En este ejemplo, el método setter atributo_publico permite modificar el atributo _atributo_privado utilizando una sintaxis similar a la asignación de una propiedad. Por ejemplo:"
      ],
      "metadata": {
        "id": "lj2Ff9IJSXyC"
      }
    },
    {
      "cell_type": "code",
      "source": [
        "objeto = MiClase()\n",
        "objeto.atributo_publico = 20\n",
        "print(objeto.atributo_publico)  # Output: 20"
      ],
      "metadata": {
        "id": "S81Hy-BaSk2D"
      },
      "execution_count": null,
      "outputs": []
    },
    {
      "cell_type": "markdown",
      "source": [
        "Métodos y atributos privados: Además de utilizar la convención de nomenclatura con el guion bajo (_), se puede hacer uso de métodos y atributos privados en Python. Aunque técnicamente no hay restricciones de acceso, se considera una convención que los métodos y atributos que comienzan con dos guiones bajos (__) sean tratados como privados y no sean accedidos directamente desde fuera de la clase. Sin embargo, Python utiliza una técnica llamada name mangling para cambiar el nombre de estos atributos y métodos privados a nivel interno. Por ejemplo:"
      ],
      "metadata": {
        "id": "up0STzufS0Iz"
      }
    },
    {
      "cell_type": "code",
      "source": [
        "class MiClase:\n",
        "    def __init__(self):\n",
        "        self.__atributo_privado = 10\n",
        "\n",
        "    def __metodo_privado(self):\n",
        "        pass"
      ],
      "metadata": {
        "id": "3EjCyoc6S3tj"
      },
      "execution_count": null,
      "outputs": []
    },
    {
      "cell_type": "markdown",
      "source": [
        "En este ejemplo, el atributo __atributo_privado y el método __metodo_privado son privados, pero Python los renombra internamente utilizando el nombre de la clase que los contiene para evitar conflictos con clases derivadas. Por ejemplo, el atributo __atributo_privado se renombraría a _MiClase__atributo_privado internamente."
      ],
      "metadata": {
        "id": "2Lo6jWSmTHNC"
      }
    }
  ]
}