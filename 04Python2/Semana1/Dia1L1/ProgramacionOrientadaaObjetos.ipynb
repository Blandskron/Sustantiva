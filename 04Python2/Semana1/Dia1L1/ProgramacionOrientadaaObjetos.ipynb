{
  "nbformat": 4,
  "nbformat_minor": 0,
  "metadata": {
    "colab": {
      "provenance": []
    },
    "kernelspec": {
      "name": "python3",
      "display_name": "Python 3"
    },
    "language_info": {
      "name": "python"
    }
  },
  "cells": [
    {
      "cell_type": "markdown",
      "source": [
        "#Programacion Orientada a Objetos"
      ],
      "metadata": {
        "id": "rHKg8Dv-MsZV"
      }
    },
    {
      "cell_type": "markdown",
      "source": [
        "La programación orientada a objetos (POO) en Python, se encuentra totalmente soportada y se utiliza ampliamente en el desarrollo de aplicaciones. Aquí te contamos a detalle más acerca de este paradigma:"
      ],
      "metadata": {
        "id": "_PPd0mQ3MwmM"
      }
    },
    {
      "cell_type": "markdown",
      "source": [
        "Clases y Objetos: En la POO, una clase es una plantilla o modelo que define las propiedades y comportamientos de un objeto. Un objeto es una instancia de una clase, lo que significa que se crea a partir de la clase y tiene sus propias características y comportamientos. Para definir una clase en Python, se utiliza la palabra clave class, seguida del nombre de la clase:"
      ],
      "metadata": {
        "id": "MrLEJineMym8"
      }
    },
    {
      "cell_type": "code",
      "execution_count": null,
      "metadata": {
        "id": "WsIcncVHMmw1"
      },
      "outputs": [],
      "source": [
        "class MiClase:\n",
        "    # Definición de propiedades y métodos de la clase"
      ]
    },
    {
      "cell_type": "markdown",
      "source": [
        "Para crear un objeto a partir de una clase, se utiliza la siguiente sintaxis:"
      ],
      "metadata": {
        "id": "80xRcPvdM6D8"
      }
    },
    {
      "cell_type": "code",
      "source": [
        "objeto = MiClase()"
      ],
      "metadata": {
        "id": "NOwzOYyHNHuU"
      },
      "execution_count": null,
      "outputs": []
    },
    {
      "cell_type": "markdown",
      "source": [
        "Atributos: Los atributos son variables que se asocian a los objetos y almacenan información específica de cada instancia de la clase. Pueden ser variables de instancia, que son propias de cada objeto, o variables de clase, que son compartidas por todas las instancias de la clase. Los atributos se definen dentro de la clase y se acceden utilizando la sintaxis objeto.atributo:"
      ],
      "metadata": {
        "id": "hRj0oxScNMVz"
      }
    },
    {
      "cell_type": "code",
      "source": [
        "class MiClase:\n",
        "    variable_de_clase = \"Compartida por todos los objetos\"\n",
        "\n",
        "    def __init__(self):\n",
        "        self.variable_de_instancia = \"Propia de cada objeto\"\n",
        "\n",
        "objeto = MiClase()\n",
        "print(objeto.variable_de_instancia) # Output: \"Propia de cada objeto\"\n",
        "print(objeto.variable_de_clase) # Output: \"Compartida por todos los objetos\""
      ],
      "metadata": {
        "colab": {
          "base_uri": "https://localhost:8080/"
        },
        "id": "ErbNBzGBNO1D",
        "outputId": "9e51a164-4ea1-4f60-f486-df26541f1645"
      },
      "execution_count": 1,
      "outputs": [
        {
          "output_type": "stream",
          "name": "stdout",
          "text": [
            "Propia de cada objeto\n",
            "Compartida por todos los objetos\n"
          ]
        }
      ]
    },
    {
      "cell_type": "markdown",
      "source": [
        "Métodos: Los métodos son funciones definidas dentro de una clase y se utilizan para realizar operaciones relacionadas con los objetos de la clase. Los métodos pueden acceder y modificar los atributos de un objeto. El primer parámetro de un método siempre es self, que hace referencia al objeto en sí mismo. A través de self, se puede acceder a los atributos y otros métodos de la clase:"
      ],
      "metadata": {
        "id": "3veyXFfDNkub"
      }
    },
    {
      "cell_type": "code",
      "source": [
        "class MiClase:\n",
        "    def mi_metodo(self):\n",
        "        print(\"Hola desde el método\")\n",
        "\n",
        "objeto = MiClase()\n",
        "objeto.mi_metodo() # Output: \"Hola desde el método\""
      ],
      "metadata": {
        "colab": {
          "base_uri": "https://localhost:8080/"
        },
        "id": "40CgBwjmNmtr",
        "outputId": "6b969c7d-032c-4384-fd48-2468cce04460"
      },
      "execution_count": 2,
      "outputs": [
        {
          "output_type": "stream",
          "name": "stdout",
          "text": [
            "Hola desde el método\n"
          ]
        }
      ]
    },
    {
      "cell_type": "markdown",
      "source": [
        "Constructor: El constructor es un método especial que se ejecuta automáticamente al crear un objeto a partir de una clase. En Python, el constructor se define utilizando el método __init__() y se utiliza para inicializar los atributos de la clase. Los parámetros que recibe el constructor son aquellos que se deben pasar al crear un objeto:"
      ],
      "metadata": {
        "id": "ooGRQRp0N-z7"
      }
    },
    {
      "cell_type": "code",
      "source": [
        "class MiClase:\n",
        "    def __init__(self, parametro):\n",
        "        self.atributo = parametro\n",
        "\n",
        "objeto = MiClase(\"Valor del atributo\")\n",
        "print(objeto.atributo) # Output: \"Valor del atributo\""
      ],
      "metadata": {
        "colab": {
          "base_uri": "https://localhost:8080/"
        },
        "id": "XNBwJajTOBMD",
        "outputId": "841b2fef-b1a8-4038-8a78-bd1c4007070c"
      },
      "execution_count": 3,
      "outputs": [
        {
          "output_type": "stream",
          "name": "stdout",
          "text": [
            "Valor del atributo\n"
          ]
        }
      ]
    },
    {
      "cell_type": "markdown",
      "source": [
        "Herencia: La herencia es un concepto clave en la POO que permite crear nuevas clases basadas en clases existentes. La clase original se conoce como clase base o superclase, y la nueva clase se llama clase derivada o subclase. La subclase hereda los atributos y métodos de la superclase y puede agregar nuevos atributos o métodos, o modificar los existentes. En Python, se utiliza la palabra clave class seguida del nombre de la subclase y entre paréntesis el nombre de la superclase:"
      ],
      "metadata": {
        "id": "8WX7AwDXOL3c"
      }
    },
    {
      "cell_type": "code",
      "source": [
        "class ClaseBase:\n",
        "    # Definición de la clase base\n",
        "\n",
        "class SubClase(ClaseBase):\n",
        "    # Definición de la subclase"
      ],
      "metadata": {
        "id": "-FCcZEu8OV89"
      },
      "execution_count": null,
      "outputs": []
    },
    {
      "cell_type": "markdown",
      "source": [
        "Polimorfismo: El polimorfismo es la capacidad de objetos de diferentes clases de responder a un mismo mensaje de diferentes formas. En Python, el polimorfismo se logra a través de la implementación de métodos con el mismo nombre en diferentes clases. Cada clase puede tener su propia implementación del método, pero se llama al método adecuado según el tipo de objeto con el que se esté trabajando."
      ],
      "metadata": {
        "id": "hTSfydTiOkpz"
      }
    },
    {
      "cell_type": "code",
      "source": [
        "class Animal:\n",
        "    def sonido(self):\n",
        "        pass\n",
        "\n",
        "class Perro(Animal):\n",
        "    def sonido(self):\n",
        "        print(\"Guau!\")\n",
        "\n",
        "class Gato(Animal):\n",
        "    def sonido(self):\n",
        "        print(\"Miau!\")\n",
        "\n",
        "def hacer_sonar(animal):\n",
        "    animal.sonido()\n",
        "\n",
        "perro = Perro()\n",
        "gato = Gato()\n",
        "\n",
        "hacer_sonar(perro) # Output: \"Guau!\"\n",
        "hacer_sonar(gato) # Output: \"Miau!\""
      ],
      "metadata": {
        "colab": {
          "base_uri": "https://localhost:8080/"
        },
        "id": "uH_Q5mZzOnB7",
        "outputId": "7f9e645b-a140-450c-8062-9aa22c756693"
      },
      "execution_count": 4,
      "outputs": [
        {
          "output_type": "stream",
          "name": "stdout",
          "text": [
            "Guau!\n",
            "Miau!\n"
          ]
        }
      ]
    },
    {
      "cell_type": "markdown",
      "source": [
        "La programación orientada a objetos en Python se basa en la creación de clases y objetos, donde las clases son plantillas que definen atributos y métodos, y los objetos son instancias de esas clases."
      ],
      "metadata": {
        "id": "C1U8CgCdO7Hj"
      }
    }
  ]
}