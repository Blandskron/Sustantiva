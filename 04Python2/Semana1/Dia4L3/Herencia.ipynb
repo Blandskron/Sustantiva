{
  "nbformat": 4,
  "nbformat_minor": 0,
  "metadata": {
    "colab": {
      "provenance": []
    },
    "kernelspec": {
      "name": "python3",
      "display_name": "Python 3"
    },
    "language_info": {
      "name": "python"
    }
  },
  "cells": [
    {
      "cell_type": "markdown",
      "source": [
        "#Herencia en Python"
      ],
      "metadata": {
        "id": "Jw960WIMTp7M"
      }
    },
    {
      "cell_type": "markdown",
      "source": [
        "La herencia en Python es un concepto fundamental de la programación orientada a objetos que nos permite crear nuevas clases a partir de clases existentes, heredando todas sus propiedades y métodos. Esto nos permite reutilizar el código existente y crear jerarquías de clases que comparten comportamiento común."
      ],
      "metadata": {
        "id": "sgUR-0-xTsrq"
      }
    },
    {
      "cell_type": "markdown",
      "source": [
        "A continuación se muestra un ejemplo simple de una clase Animal que define una propiedad especie y un método hacerSonido():"
      ],
      "metadata": {
        "id": "35u_nZ9FTuka"
      }
    },
    {
      "cell_type": "code",
      "execution_count": 1,
      "metadata": {
        "id": "nY4blEbcTnP_"
      },
      "outputs": [],
      "source": [
        "class Animal:\n",
        "    def __init__(self, especie):\n",
        "        self.especie = especie\n",
        "\n",
        "    def hacerSonido(self):\n",
        "        print('Este animal hace un sonido')"
      ]
    },
    {
      "cell_type": "markdown",
      "source": [
        "Ahora podemos crear una clase derivada Perro que hereda de la clase Animal y añade una propiedad raza y un método ladrar():"
      ],
      "metadata": {
        "id": "rhviUa80T76K"
      }
    },
    {
      "cell_type": "code",
      "source": [
        "class Perro(Animal):\n",
        "    def __init__(self, especie, raza):\n",
        "        super().__init__(especie)\n",
        "        self.raza = raza\n",
        "\n",
        "    def ladrar(self):\n",
        "        print('El perro está ladrando')"
      ],
      "metadata": {
        "id": "wF12p52nT-mC"
      },
      "execution_count": 2,
      "outputs": []
    },
    {
      "cell_type": "markdown",
      "source": [
        "En este ejemplo, la clase Perro hereda de la clase Animal mediante la declaración class Perro(Animal). El método __init__() de Perro llama al método __init__() de Animal utilizando la función super().__init__() para inicializar la propiedad especie. Además, Perro añade una propiedad raza y un método ladrar()."
      ],
      "metadata": {
        "id": "TIfohL-xUCKr"
      }
    },
    {
      "cell_type": "markdown",
      "source": [
        "Ahora podemos crear un objeto de la clase Perro y llamar a sus métodos y propiedades:"
      ],
      "metadata": {
        "id": "1xgKI0eyUIry"
      }
    },
    {
      "cell_type": "code",
      "source": [
        "miPerro = Perro('Canino', 'Labrador')\n",
        "print(miPerro.especie)  # Canino\n",
        "miPerro.hacerSonido()  # Este animal hace un sonido\n",
        "miPerro.ladrar()  # El perro está ladrando"
      ],
      "metadata": {
        "id": "fD9_Ej92UKVT"
      },
      "execution_count": null,
      "outputs": []
    },
    {
      "cell_type": "markdown",
      "source": [
        "Como podemos ver, miPerro hereda la propiedad especie y el método hacerSonido() de la clase Animal, y también tiene su propia propiedad raza y método ladrar()."
      ],
      "metadata": {
        "id": "Nfd9rcv2UTiK"
      }
    },
    {
      "cell_type": "markdown",
      "source": [
        "La herencia nos permite reutilizar el código existente y crear jerarquías de clases que comparten comportamiento común. También nos permite crear clases más específicas a partir de clases más generales, lo que nos permite crear código más modular y escalable."
      ],
      "metadata": {
        "id": "kA7uHeTOUgaD"
      }
    }
  ]
}