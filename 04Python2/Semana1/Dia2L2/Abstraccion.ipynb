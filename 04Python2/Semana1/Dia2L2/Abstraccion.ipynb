{
  "nbformat": 4,
  "nbformat_minor": 0,
  "metadata": {
    "colab": {
      "provenance": []
    },
    "kernelspec": {
      "name": "python3",
      "display_name": "Python 3"
    },
    "language_info": {
      "name": "python"
    }
  },
  "cells": [
    {
      "cell_type": "markdown",
      "source": [
        "#Abstraccion en Python"
      ],
      "metadata": {
        "id": "3kMBd226Pd5c"
      }
    },
    {
      "cell_type": "markdown",
      "source": [
        "La abstracción es un concepto fundamental en la programación orientada a objetos que permite representar objetos y sus características de manera simplificada, ocultando los detalles internos de su implementación. En Python, la abstracción se logra mediante el uso de clases, métodos y herencia. A continuación, se presenta una explicación detallada sobre la abstracción en Python:"
      ],
      "metadata": {
        "id": "BhC_t73KPht2"
      }
    },
    {
      "cell_type": "markdown",
      "source": [
        "Clases y Objetos: En la abstracción, una clase es una plantilla que define las propiedades y comportamientos de un objeto. Un objeto, por otro lado, es una instancia de una clase. La clase define una interfaz clara y simplificada para interactuar con los objetos, ocultando los detalles internos de cómo se implementa esa funcionalidad. Para definir una clase en Python, se utiliza la palabra clave class, seguida del nombre de la clase:"
      ],
      "metadata": {
        "id": "crFKnKcDPjxj"
      }
    },
    {
      "cell_type": "code",
      "execution_count": null,
      "metadata": {
        "id": "3hnmFk4hPai7"
      },
      "outputs": [],
      "source": [
        "class MiClase:\n",
        "    # Definición de propiedades y métodos de la clase"
      ]
    },
    {
      "cell_type": "markdown",
      "source": [
        "Para crear un objeto a partir de una clase, se utiliza la siguiente sintaxis:"
      ],
      "metadata": {
        "id": "ECHp52pTP0Ij"
      }
    },
    {
      "cell_type": "code",
      "source": [
        "objeto = MiClase()"
      ],
      "metadata": {
        "id": "X1WeUg9VQJyU"
      },
      "execution_count": null,
      "outputs": []
    },
    {
      "cell_type": "markdown",
      "source": [
        "Métodos: Los métodos son funciones definidas dentro de una clase y representan el comportamiento de los objetos. Los métodos permiten interactuar con los objetos y realizar operaciones específicas. Pueden recibir parámetros y acceder a las propiedades del objeto a través del parámetro self. Los métodos ayudan a definir la interfaz de la clase, ofreciendo una forma simplificada de interactuar con los objetos sin necesidad de conocer los detalles internos. Por ejemplo:"
      ],
      "metadata": {
        "id": "4Mb8rrWGQL5L"
      }
    },
    {
      "cell_type": "code",
      "source": [
        "class MiClase:\n",
        "    def metodo(self, parametro):\n",
        "        # Código del método\n",
        "        pass"
      ],
      "metadata": {
        "id": "JcqSACMxQN_r"
      },
      "execution_count": null,
      "outputs": []
    },
    {
      "cell_type": "markdown",
      "source": [
        "Herencia: La herencia es un mecanismo que permite crear nuevas clases basadas en clases existentes. Una clase derivada o subclase hereda las propiedades y métodos de una clase base o superclase, lo que facilita la reutilización de código y permite definir nuevas funcionalidades adicionales. En Python, se utiliza la palabra clave class seguida del nombre de la subclase y entre paréntesis el nombre de la superclase:"
      ],
      "metadata": {
        "id": "F229CZJmQaAy"
      }
    },
    {
      "cell_type": "code",
      "source": [
        "class ClaseBase:\n",
        "    # Definición de la clase base\n",
        "\n",
        "class SubClase(ClaseBase):\n",
        "    # Definición de la subclase"
      ],
      "metadata": {
        "id": "HxbggihjQbxb"
      },
      "execution_count": null,
      "outputs": []
    },
    {
      "cell_type": "markdown",
      "source": [
        "La subclase puede agregar nuevos métodos o atributos, o modificar los existentes de la clase base. Esto permite extender la funcionalidad y crear una abstracción más específica. Por ejemplo:"
      ],
      "metadata": {
        "id": "FaAlISk1QowL"
      }
    },
    {
      "cell_type": "code",
      "source": [
        "class ClaseBase:\n",
        "    def metodo_base(self):\n",
        "        # Código del método base\n",
        "        pass\n",
        "\n",
        "class SubClase(ClaseBase):\n",
        "    def metodo_subclase(self):\n",
        "        # Código del método de la subclase\n",
        "        pass"
      ],
      "metadata": {
        "id": "lO0KDAp8QrHD"
      },
      "execution_count": null,
      "outputs": []
    },
    {
      "cell_type": "markdown",
      "source": [
        "Sobreescritura de Métodos: La sobreescritura de métodos es una técnica utilizada en la abstracción que permite a una subclase redefinir un método heredado de la superclase. Al sobre escribir un método, la subclase puede modificar o ampliar el comportamiento del método heredado. Esto permite adaptar la funcionalidad a las necesidades específicas de la subclase. Por ejemplo:"
      ],
      "metadata": {
        "id": "coixgNh4Qvyj"
      }
    },
    {
      "cell_type": "code",
      "source": [
        "class ClaseBase:\n",
        "    def metodo(self):\n",
        "        # Código del método base\n",
        "        pass\n",
        "\n",
        "class SubClase(ClaseBase):\n",
        "    def metodo(self):\n",
        "        # Código del método modificado\n",
        "        pass"
      ],
      "metadata": {
        "id": "xT-TOnlRQ09c"
      },
      "execution_count": null,
      "outputs": []
    },
    {
      "cell_type": "markdown",
      "source": [
        "Cuando se llama al método metodo() en un objeto de la subclase, se ejecuta la versión del método definida en la subclase en lugar de la versión heredada de la superclase."
      ],
      "metadata": {
        "id": "aXo9rJ4eQ-GT"
      }
    }
  ]
}