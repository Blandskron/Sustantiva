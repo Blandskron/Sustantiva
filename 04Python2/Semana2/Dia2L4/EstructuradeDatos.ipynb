{
  "nbformat": 4,
  "nbformat_minor": 0,
  "metadata": {
    "colab": {
      "provenance": []
    },
    "kernelspec": {
      "name": "python3",
      "display_name": "Python 3"
    },
    "language_info": {
      "name": "python"
    }
  },
  "cells": [
    {
      "cell_type": "markdown",
      "source": [
        "# **Estructuras de datos en Python**\n"
      ],
      "metadata": {
        "id": "wjtrvPzDsTgt"
      }
    },
    {
      "cell_type": "markdown",
      "source": [
        "En el ámbito de la programación, las estructuras de datos desempeñan un papel fundamental. Estas proporcionan un medio eficiente y accesible para organizar y almacenar datos. Existen diversos tipos de estructuras de datos, cada una con características y funcionalidades específicas, que nos permiten abordar diferentes escenarios y optimizar el rendimiento de nuestros programas."
      ],
      "metadata": {
        "id": "FZcdCbcPsYKb"
      }
    },
    {
      "cell_type": "markdown",
      "source": [
        "En Python, contamos con una amplia variedad de estructuras de datos nativas y también podemos implementar estructuras personalizadas según nuestras necesidades. Algunas de las estructuras de datos más comunes y poderosas en Python incluyen listas, tuplas, conjuntos, diccionarios, pilas, colas, árboles y grafos."
      ],
      "metadata": {
        "id": "qeq1W9r6sb86"
      }
    },
    {
      "cell_type": "markdown",
      "source": [
        "Aquí te detallaremos todas estas y su funcionamiento (puede que más de una las hayas ocupado en ejercicios anteriores)."
      ],
      "metadata": {
        "id": "6ZJZXtoWsmkK"
      }
    },
    {
      "cell_type": "markdown",
      "source": [
        "**Estructuras de datos nativas**"
      ],
      "metadata": {
        "id": "DMNdtdxqsu8D"
      }
    },
    {
      "cell_type": "markdown",
      "source": [
        "**Listas:**\n",
        "Una lista es una secuencia ordenada y mutable de elementos. Puede contener elementos de diferentes tipos de datos y permite la modificación de los elementos individuales. Las listas se definen utilizando corchetes [  ] y los elementos se separan por comas."
      ],
      "metadata": {
        "id": "Nbs9LYVAsz_L"
      }
    },
    {
      "cell_type": "code",
      "source": [
        "lista = [1, 2, 3, \"Hola\", True]"
      ],
      "metadata": {
        "id": "PZLQal2ftAnU"
      },
      "execution_count": null,
      "outputs": []
    },
    {
      "cell_type": "markdown",
      "source": [
        "**Tuplas:**\n",
        "Las tuplas son similares a las listas, pero a diferencia de ellas, son inmutables, lo que significa que no se pueden modificar una vez creadas. Las tuplas se definen utilizando paréntesis (  ) y los elementos se separan por comas."
      ],
      "metadata": {
        "id": "NUpirTQUs2IT"
      }
    },
    {
      "cell_type": "code",
      "source": [
        "tupla = (1, 2, 3, \"Hola\", True)"
      ],
      "metadata": {
        "id": "FbJ3uoU4tFWT"
      },
      "execution_count": null,
      "outputs": []
    },
    {
      "cell_type": "markdown",
      "source": [
        "**Conjuntos:**\n",
        "Un conjunto es una colección no ordenada y mutable de elementos únicos. No permite duplicados y se utiliza principalmente para realizar operaciones de conjunto, como intersección, unión y diferencia. Los conjuntos se definen utilizando llaves {  } o la función set(  )."
      ],
      "metadata": {
        "id": "X6clvwXetKJT"
      }
    },
    {
      "cell_type": "code",
      "source": [
        "conjunto = {1, 2, 3, 4, 5}"
      ],
      "metadata": {
        "id": "8jAfYJkxtNLz"
      },
      "execution_count": null,
      "outputs": []
    },
    {
      "cell_type": "markdown",
      "source": [
        "**Diccionarios:**\n",
        "Los diccionarios son estructuras de datos que almacenan pares clave-valor. Cada elemento del diccionario se compone de una clave y su respectivo valor asociado. Los diccionarios son útiles para acceder a los elementos mediante una clave en lugar de un índice numérico. Se definen utilizando llaves {  } y los pares clave-valor se separan por comas."
      ],
      "metadata": {
        "id": "mhs0Rfk5tQ9C"
      }
    },
    {
      "cell_type": "code",
      "source": [
        "diccionario = {\"nombre\": \"Juan\", \"edad\": 25, \"ciudad\": \"México\"}"
      ],
      "metadata": {
        "id": "cPXUxkkYtaJK"
      },
      "execution_count": null,
      "outputs": []
    },
    {
      "cell_type": "markdown",
      "source": [
        "**Estructuras de datos que pueden ser implementadas**"
      ],
      "metadata": {
        "id": "17J1GAeatZnK"
      }
    },
    {
      "cell_type": "markdown",
      "source": [
        "**Pilas:**\n",
        "Una pila es una estructura de datos lineal que sigue la regla LIFO (Last In, First Out), lo que significa que el último elemento agregado es el primero en ser retirado. Las pilas se utilizan en situaciones en las que es necesario llevar un seguimiento de elementos y realizar operaciones como agregar y quitar elementos en el extremo superior de la pila."
      ],
      "metadata": {
        "id": "3PaYDpfqtlpL"
      }
    },
    {
      "cell_type": "code",
      "source": [
        "class Pila:\n",
        "    def __init__(self):\n",
        "        # Constructor de la clase Pila\n",
        "        # Inicializa una lista vacía para almacenar los elementos de la pila\n",
        "        self.items = []\n",
        "\n",
        "    def esta_vacia(self):\n",
        "        # Método para verificar si la pila está vacía\n",
        "        # Retorna True si la lista de elementos está vacía, False de lo contrario\n",
        "        return self.items == []\n",
        "\n",
        "    def apilar(self, item):\n",
        "        # Método para agregar un elemento a la parte superior de la pila\n",
        "        # Recibe el elemento a ser apilado como argumento\n",
        "        self.items.append(item)\n",
        "\n",
        "    def desapilar(self):\n",
        "        # Método para eliminar y devolver el elemento en la parte superior de la pila\n",
        "        if not self.esta_vacia():\n",
        "            # Verifica si la pila no está vacía\n",
        "            # Utiliza el método pop() de la lista para eliminar y devolver el último elemento\n",
        "            return self.items.pop()\n",
        "        else:\n",
        "            # En caso de que la pila esté vacía, devuelve un mensaje indicando que la pila está vacía\n",
        "            return \"La pila está vacía\"\n",
        "\n",
        "    def ver_tope(self):\n",
        "        # Método para devolver el elemento en la parte superior de la pila sin eliminarlo\n",
        "        if not self.esta_vacia():\n",
        "            # Verifica si la pila no está vacía\n",
        "            # Utiliza el índice -1 para acceder al último elemento de la lista (la parte superior de la pila)\n",
        "            return self.items[-1]\n",
        "        else:\n",
        "            # En caso de que la pila esté vacía, devuelve un mensaje indicando que la pila está vacía\n",
        "            return \"La pila está vacía\"\n",
        "\n",
        "# Ejemplo de uso de la clase Pila\n",
        "mi_pila = Pila()  # Creamos una instancia de la clase Pila\n",
        "\n",
        "# Apilamos elementos en la pila\n",
        "mi_pila.apilar(1)\n",
        "mi_pila.apilar(2)\n",
        "mi_pila.apilar(3)\n",
        "\n",
        "# Imprimimos el elemento en la parte superior de la pila (tope)\n",
        "print(\"Tope de la pila:\", mi_pila.ver_tope())  # Imprime 3\n",
        "\n",
        "# Desapilamos un elemento de la pila\n",
        "mi_pila.desapilar()\n",
        "\n",
        "# Imprimimos el elemento en la parte superior de la pila después de desapilar\n",
        "print(\"Tope de la pila después de desapilar:\", mi_pila.ver_tope())  # Imprime 2\n",
        "\n"
      ],
      "metadata": {
        "colab": {
          "base_uri": "https://localhost:8080/"
        },
        "id": "QQPG6tbat-kU",
        "outputId": "b2640364-4b1a-49f8-fa81-023f6121724e"
      },
      "execution_count": 2,
      "outputs": [
        {
          "output_type": "stream",
          "name": "stdout",
          "text": [
            "Tope de la pila: 3\n",
            "Tope de la pila después de desapilar: 2\n"
          ]
        }
      ]
    },
    {
      "cell_type": "markdown",
      "source": [
        "**Colas:**\n",
        "Una cola es similar a una pila, pero sigue la regla FIFO (First In, First Out), lo que significa que el primer elemento agregado es el primero en ser retirado. Las colas se utilizan para modelar situaciones en las que es necesario procesar elementos en el mismo orden en que se agregaron, como en la gestión de tareas."
      ],
      "metadata": {
        "id": "dT5hudletoo8"
      }
    },
    {
      "cell_type": "code",
      "source": [
        "class Cola:\n",
        "    def __init__(self):\n",
        "        # Constructor de la clase Cola\n",
        "        # Inicializa una lista vacía para almacenar los elementos de la cola\n",
        "        self.items = []\n",
        "\n",
        "    def esta_vacia(self):\n",
        "        # Método para verificar si la cola está vacía\n",
        "        # Retorna True si la lista de elementos está vacía, False de lo contrario\n",
        "        return self.items == []\n",
        "\n",
        "    def encolar(self, item):\n",
        "        # Método para agregar un elemento al final de la cola\n",
        "        # Recibe el elemento a ser encolado como argumento\n",
        "        self.items.append(item)\n",
        "\n",
        "    def desencolar(self):\n",
        "        # Método para eliminar y devolver el primer elemento de la cola\n",
        "        if not self.esta_vacia():\n",
        "            # Verifica si la cola no está vacía\n",
        "            # Utiliza el método pop() de la lista para eliminar y devolver el primer elemento\n",
        "            return self.items.pop(0)\n",
        "        else:\n",
        "            # En caso de que la cola esté vacía, devuelve un mensaje indicando que la cola está vacía\n",
        "            return \"La cola está vacía\"\n",
        "\n",
        "    def ver_primero(self):\n",
        "        # Método para devolver el primer elemento de la cola sin eliminarlo\n",
        "        if not self.esta_vacia():\n",
        "            # Verifica si la cola no está vacía\n",
        "            # Retorna el primer elemento de la lista (el elemento que está en la posición 0)\n",
        "            return self.items[0]\n",
        "        else:\n",
        "            # En caso de que la cola esté vacía, devuelve un mensaje indicando que la cola está vacía\n",
        "            return \"La cola está vacía\"\n",
        "\n",
        "# Ejemplo de uso de la clase Cola\n",
        "mi_cola = Cola()  # Creamos una instancia de la clase Cola\n",
        "\n",
        "# Encolamos elementos en la cola\n",
        "mi_cola.encolar(1)\n",
        "mi_cola.encolar(2)\n",
        "mi_cola.encolar(3)\n",
        "\n",
        "# Imprimimos el primer elemento de la cola\n",
        "print(\"Primer elemento de la cola:\", mi_cola.ver_primero())  # Imprime 1\n",
        "\n",
        "# Desencolamos un elemento de la cola\n",
        "mi_cola.desencolar()\n",
        "\n",
        "# Imprimimos el primer elemento de la cola después de desencolar\n",
        "print(\"Primer elemento de la cola después de desencolar:\", mi_cola.ver_primero())  # Imprime 2\n"
      ],
      "metadata": {
        "colab": {
          "base_uri": "https://localhost:8080/"
        },
        "id": "7to6Ewzkub4_",
        "outputId": "40936f62-f510-4a55-cffe-ae4dd18c53fa"
      },
      "execution_count": 3,
      "outputs": [
        {
          "output_type": "stream",
          "name": "stdout",
          "text": [
            "Primer elemento de la cola: 1\n",
            "Primer elemento de la cola después de desencolar: 2\n"
          ]
        }
      ]
    },
    {
      "cell_type": "markdown",
      "source": [
        "**Árboles:**\n",
        "Un árbol es una estructura de datos no lineal compuesta por nodos conectados mediante enlaces llamados bordes o aristas. Cada nodo puede tener cero o más hijos, y se define un nodo especial llamado raíz que es el punto de partida del árbol. Los árboles se utilizan para representar estructuras jerárquicas y se aplican en problemas como la organización de archivos, la representación de árboles genealógicos y la optimización de algoritmos de búsqueda."
      ],
      "metadata": {
        "id": "cK9xCrouuXDL"
      }
    },
    {
      "cell_type": "code",
      "source": [
        "class Nodo:\n",
        "    def __init__(self, valor):\n",
        "        # Constructor de la clase Nodo\n",
        "        # Cada nodo tiene un valor y una lista de hijos inicialmente vacía\n",
        "        self.valor = valor\n",
        "        self.hijos = []\n",
        "\n",
        "    def agregar_hijo(self, hijo):\n",
        "        # Método para agregar un hijo al nodo actual\n",
        "        self.hijos.append(hijo)\n",
        "\n",
        "\n",
        "# Ejemplo de árbol\n",
        "# Creamos los nodos\n",
        "raiz = Nodo(\"A\")  # Creamos la raíz del árbol con el valor \"A\"\n",
        "nodo_b = Nodo(\"B\")  # Creamos un nodo con el valor \"B\"\n",
        "nodo_c = Nodo(\"C\")  # Creamos un nodo con el valor \"C\"\n",
        "nodo_d = Nodo(\"D\")  # Creamos un nodo con el valor \"D\"\n",
        "nodo_e = Nodo(\"E\")  # Creamos un nodo con el valor \"E\"\n",
        "\n",
        "# Construimos las relaciones entre los nodos\n",
        "raiz.agregar_hijo(nodo_b)  # Agregamos el nodo B como hijo de la raíz\n",
        "raiz.agregar_hijo(nodo_c)  # Agregamos el nodo C como hijo de la raíz\n",
        "nodo_b.agregar_hijo(nodo_d)  # Agregamos el nodo D como hijo del nodo B\n",
        "nodo_b.agregar_hijo(nodo_e)  # Agregamos el nodo E como hijo del nodo B\n",
        "\n",
        "# Mostramos la estructura del árbol\n",
        "print(\"Raíz:\", raiz.valor)  # Imprimimos el valor de la raíz del árbol\n",
        "print(\"Hijos de la raíz:\")  # Imprimimos los hijos de la raíz\n",
        "for hijo in raiz.hijos:  # Iteramos sobre los hijos de la raíz\n",
        "    print(\"-\", hijo.valor)  # Imprimimos el valor del hijo\n",
        "    if hijo.hijos:  # Verificamos si el hijo tiene hijos\n",
        "        print(\"  Hijos de\", hijo.valor + \":\")  # Imprimimos los hijos de los hijos\n",
        "        for nieto in hijo.hijos:  # Iteramos sobre los hijos de los hijos\n",
        "            print(\"  -\", nieto.valor)  # Imprimimos el valor del hijo del hijo\n"
      ],
      "metadata": {
        "colab": {
          "base_uri": "https://localhost:8080/"
        },
        "id": "mIntbPZNup2t",
        "outputId": "928aa6b5-d3e4-4616-da9b-6de7c2789245"
      },
      "execution_count": 4,
      "outputs": [
        {
          "output_type": "stream",
          "name": "stdout",
          "text": [
            "Raíz: A\n",
            "Hijos de la raíz:\n",
            "- B\n",
            "  Hijos de B:\n",
            "  - D\n",
            "  - E\n",
            "- C\n"
          ]
        }
      ]
    },
    {
      "cell_type": "markdown",
      "source": [
        "**Grafos:**\n",
        "Un grafo es una estructura de datos que consta de un conjunto de nodos (también llamados vértices) y un conjunto de conexiones entre ellos (también llamados aristas). Los grafos se utilizan para representar relaciones complejas entre entidades y se aplican en problemas como la navegación de mapas, el análisis de redes sociales y la optimización de rutas."
      ],
      "metadata": {
        "id": "2r4SCxyavFHY"
      }
    },
    {
      "cell_type": "code",
      "source": [
        "class Grafo:\n",
        "    def __init__(self):\n",
        "        # Creamos un diccionario para almacenar los vértices y sus respectivas listas de adyacencia\n",
        "        self.vertices = {}\n",
        "\n",
        "    def agregar_vertice(self, v):\n",
        "        # Agregamos un vértice al grafo con una lista vacía como lista de adyacencia\n",
        "        if v not in self.vertices:\n",
        "            self.vertices[v] = []\n",
        "\n",
        "    def agregar_arista(self, u, v):\n",
        "        # Agregamos una arista entre los vértices u y v (grafo no dirigido)\n",
        "        # Agregamos v a la lista de adyacencia de u y viceversa\n",
        "        if u in self.vertices and v in self.vertices:\n",
        "            self.vertices[u].append(v)\n",
        "            self.vertices[v].append(u)\n",
        "\n",
        "    def imprimir_grafo(self):\n",
        "        # Imprimimos el grafo y sus aristas\n",
        "        for vertice in self.vertices:\n",
        "            print(vertice, \"->\", \" -> \".join(map(str, self.vertices[vertice])))\n",
        "\n",
        "\n",
        "# Ejemplo de uso del grafo\n",
        "mi_grafo = Grafo()\n",
        "\n",
        "# Agregamos vértices al grafo\n",
        "mi_grafo.agregar_vertice('A')\n",
        "mi_grafo.agregar_vertice('B')\n",
        "mi_grafo.agregar_vertice('C')\n",
        "mi_grafo.agregar_vertice('D')\n",
        "mi_grafo.agregar_vertice('E')\n",
        "\n",
        "# Agregamos aristas al grafo\n",
        "mi_grafo.agregar_arista('A', 'B')\n",
        "mi_grafo.agregar_arista('A', 'C')\n",
        "mi_grafo.agregar_arista('B', 'D')\n",
        "mi_grafo.agregar_arista('C', 'D')\n",
        "mi_grafo.agregar_arista('D', 'E')\n",
        "\n",
        "# Imprimimos el grafo\n",
        "print(\"Grafo:\")\n",
        "mi_grafo.imprimir_grafo()\n"
      ],
      "metadata": {
        "colab": {
          "base_uri": "https://localhost:8080/"
        },
        "id": "1hCp8wjlvNyk",
        "outputId": "b2b2ed42-50df-4ef0-f910-0a0db3aa21c5"
      },
      "execution_count": 5,
      "outputs": [
        {
          "output_type": "stream",
          "name": "stdout",
          "text": [
            "Grafo:\n",
            "A -> B -> C\n",
            "B -> A -> D\n",
            "C -> A -> D\n",
            "D -> B -> C -> E\n",
            "E -> D\n"
          ]
        }
      ]
    },
    {
      "cell_type": "markdown",
      "source": [
        "**En resumen**\n",
        "En Python, contamos con una amplia variedad de estructuras de datos nativas y también tenemos la flexibilidad de implementar estructuras personalizadas según nuestras necesidades específicas. Al comprender y utilizar las estructuras de datos adecuadas en nuestras aplicaciones, podemos optimizar el rendimiento, mejorar la legibilidad del código y resolver problemas de manera más eficiente."
      ],
      "metadata": {
        "id": "UJpgEgZpvHPP"
      }
    },
    {
      "cell_type": "markdown",
      "source": [
        "Recuerda que la elección de la estructura de datos adecuada depende del contexto y los requisitos de tu proyecto. Es importante tener en cuenta la eficiencia en cuanto al tiempo y al espacio, así como las operaciones que se realizarán con mayor frecuencia sobre los datos."
      ],
      "metadata": {
        "id": "2c5KJDcSvT6D"
      }
    },
    {
      "cell_type": "markdown",
      "source": [
        "Al dominar las estructuras de datos en Python, podrás abordar de manera efectiva una amplia gama de problemas y desarrollar soluciones robustas y escalables."
      ],
      "metadata": {
        "id": "fVyei4Pyvb3k"
      }
    }
  ]
}