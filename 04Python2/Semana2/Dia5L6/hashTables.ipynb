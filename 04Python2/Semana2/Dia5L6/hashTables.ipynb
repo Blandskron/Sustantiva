{
  "nbformat": 4,
  "nbformat_minor": 0,
  "metadata": {
    "colab": {
      "provenance": []
    },
    "kernelspec": {
      "name": "python3",
      "display_name": "Python 3"
    },
    "language_info": {
      "name": "python"
    }
  },
  "cells": [
    {
      "cell_type": "markdown",
      "source": [
        "# **Hash tables en Python**"
      ],
      "metadata": {
        "id": "uE_zZYrZwBtV"
      }
    },
    {
      "cell_type": "markdown",
      "source": [
        "Las hash tables, también conocidas como tablas hash o diccionarios, son estructuras de datos eficientes y versátiles que nos permiten almacenar y recuperar datos utilizando una función hash."
      ],
      "metadata": {
        "id": "6_aqPkpjwJPL"
      }
    },
    {
      "cell_type": "markdown",
      "source": [
        "La idea principal detrás de las hash tables es utilizar una función hash para calcular el índice donde se almacenará cada par clave-valor en un arreglo de tamaño fijo. La función hash toma la clave y produce un valor numérico único que se utiliza para determinar la ubicación en la tabla. Esto permite un acceso rápido a los valores, ya que no es necesario buscar a través de todos los elementos como en una lista o una matriz."
      ],
      "metadata": {
        "id": "Euhc7_kywLHj"
      }
    },
    {
      "cell_type": "markdown",
      "source": [
        "**Complejidad algorítmica**"
      ],
      "metadata": {
        "id": "IkWG6vJgwPLb"
      }
    },
    {
      "cell_type": "markdown",
      "source": [
        "Si medimos la complejidad de los métodos de la hash table con Big o notation, podremos notar que es de lo más eficiente. Debido a que siempre se mantiene constante."
      ],
      "metadata": {
        "id": "pQxgHTNywa48"
      }
    },
    {
      "cell_type": "markdown",
      "source": [
        "**Operación\tComplejidad Algorítmica**\n",
        "\n",
        "Inserción\tO(1)\n",
        "\n",
        "Búsqueda\tO(1)\n",
        "\n",
        "Eliminación\tO(1)"
      ],
      "metadata": {
        "id": "trpdUfv3wcwK"
      }
    },
    {
      "cell_type": "markdown",
      "source": [
        "En una hash table bien implementada con una función hash eficiente, todas estas operaciones tienen una complejidad constante (O(1)). Esto significa que el tiempo de ejecución no depende del tamaño de la hash table, lo cual es una característica clave de las hash tables y las hace altamente eficientes para manejar grandes volúmenes de datos."
      ],
      "metadata": {
        "id": "PKdSQtzAwoqi"
      }
    },
    {
      "cell_type": "markdown",
      "source": [
        "**Implementación básica de una hash table**"
      ],
      "metadata": {
        "id": "qJL35p_Gws4K"
      }
    },
    {
      "cell_type": "markdown",
      "source": [
        "En python basta con usar un simple diccionario como hash table o crear tu propia implementación como verás a continuación"
      ],
      "metadata": {
        "id": "Qmo779uBw1Bq"
      }
    },
    {
      "cell_type": "code",
      "source": [
        "class HashTable:\n",
        "    def __init__(self, size):\n",
        "        self.size = size\n",
        "        self.buckets = [[] for _ in range(size)]\n",
        "\n",
        "    def hash(self, key):\n",
        "        # La función hash toma una clave y devuelve un índice calculado\n",
        "        # utilizando una función hash.\n",
        "        return hash(key) % self.size\n",
        "\n",
        "    def insert(self, key, value):\n",
        "        # El método insert toma una clave y un valor,\n",
        "\t\t\t\t# y los almacena en la hash table.\n",
        "        index = self.hash(key)\n",
        "        self.buckets[index].append((key, value))\n",
        "\n",
        "    def get(self, key):\n",
        "        # El método get toma una clave\n",
        "\t\t\t\t# y devuelve el valor correspondiente almacenado en la hash table.\n",
        "        index = self.hash(key)\n",
        "        for k, v in self.buckets[index]:\n",
        "            if k == key:\n",
        "                return v\n",
        "        return None\n",
        "\n",
        "    def remove(self, key):\n",
        "        # El método remove toma una clave\n",
        "\t\t\t\t#  y elimina el par clave-valor correspondiente de la hash table.\n",
        "        index = self.hash(key)\n",
        "        for i, (k, v) in enumerate(self.buckets[index]):\n",
        "            if k == key:\n",
        "                del self.buckets[index][i]\n",
        "                return\n",
        "\n",
        "    def retrieve_all(self):\n",
        "        # El método retrieve_all devuelve todos\n",
        "\t\t\t\t# los valores almacenados en la hash table.\n",
        "        all_values = []\n",
        "        for bucket in self.buckets:\n",
        "            for key, value in bucket:\n",
        "                all_values.append(value)\n",
        "        return all_values"
      ],
      "metadata": {
        "id": "7gXOQ25uw3QP"
      },
      "execution_count": 1,
      "outputs": []
    },
    {
      "cell_type": "markdown",
      "source": [
        "Esta implementación utiliza una lista de listas (self.buckets) para representar los buckets de la hash table. Cada bucket es una lista que almacena los pares clave-valor correspondientes. La función hash se implementa utilizando la función hash() incorporada de Python, y se utiliza el operador módulo (%) para asegurar que el índice calculado esté dentro del rango válido de buckets."
      ],
      "metadata": {
        "id": "GOREEbIJxAjE"
      }
    },
    {
      "cell_type": "markdown",
      "source": [
        "Los métodos insert, get, remove y retrieve_all proporcionan la funcionalidad básica para manipular la hash table. Puedes utilizar estos métodos para insertar pares clave-valor, obtener valores por clave, eliminar pares y obtener todos los valores almacenados."
      ],
      "metadata": {
        "id": "YMLtKLgnxBl7"
      }
    },
    {
      "cell_type": "markdown",
      "source": [
        "Al comprender y utilizar las hash tables de manera efectiva, podemos optimizar el rendimiento y resolver problemas de manera eficiente en una amplia gama de aplicaciones."
      ],
      "metadata": {
        "id": "j369PDsmxJuc"
      }
    }
  ]
}