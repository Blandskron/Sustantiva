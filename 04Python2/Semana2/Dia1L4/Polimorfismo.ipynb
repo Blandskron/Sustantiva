{
  "nbformat": 4,
  "nbformat_minor": 0,
  "metadata": {
    "colab": {
      "provenance": []
    },
    "kernelspec": {
      "name": "python3",
      "display_name": "Python 3"
    },
    "language_info": {
      "name": "python"
    }
  },
  "cells": [
    {
      "cell_type": "markdown",
      "source": [
        "# **Polimorfismo en Python**"
      ],
      "metadata": {
        "id": "8_p9yI0kG3qC"
      }
    },
    {
      "cell_type": "markdown",
      "source": [
        "El polimorfismo es un concepto fundamental en la programación orientada a objetos, y Python es un lenguaje que soporta este concepto de manera nativa. En términos simples, el polimorfismo permite que una sola interfaz pueda ser implementada por múltiples clases, permitiendo que diferentes objetos respondan de diferentes maneras a la misma llamada."
      ],
      "metadata": {
        "id": "YkYTsXlSG6x5"
      }
    },
    {
      "cell_type": "markdown",
      "source": [
        "En Python, el polimorfismo se logra a través de la herencia de clases y la sobrescritura de métodos. Por ejemplo, si tenemos una clase Animal con un método hablar(), podemos crear subclases como Perro y Gato, y sobrescribir el método hablar() para que cada subclase tenga su propia implementación. De esta manera, podemos llamar al método hablar() en un objeto de tipo Animal y obtener diferentes resultados dependiendo de la subclase."
      ],
      "metadata": {
        "id": "_yOUQSaAHCEp"
      }
    },
    {
      "cell_type": "code",
      "execution_count": null,
      "metadata": {
        "id": "UXJhWIakG0p0"
      },
      "outputs": [],
      "source": [
        "# La clase Animal que define un método hablar()\n",
        "class Animal:\n",
        "    def hablar(self):\n",
        "        print('Sonidos de animal')\n",
        "\n",
        "# Perro que hereda de la clase Animal y sobrescribe el método hablar()\n",
        "# con una implementación específica\n",
        "class Perro(Animal):\n",
        "    def hablar(self):\n",
        "        print('Guau guau!')\n",
        "\n",
        "# Gato que hereda de la clase Animal y sobrescribe el método hablar()\n",
        "# con otra implementación\n",
        "class Gato(Animal):\n",
        "    def hablar(self):\n",
        "        print('Miau miau!')\n",
        "\n",
        "# Ahora podemos crear objetos de las tres clases\n",
        "# y llamar al método hablar(), que proporcionará\n",
        "# una salida diferente para cada uno de ellos\n",
        "\n",
        "animal = Animal()\n",
        "perro = Perro()\n",
        "gato = Gato()\n",
        "\n",
        "animal.hablar()  # Sonidos de animal\n",
        "perro.hablar()  # Guau guau!\n",
        "gato.hablar()   # Miau miau!\n"
      ]
    },
    {
      "cell_type": "markdown",
      "source": [
        "El polimorfismo en Python es útil porque nos permite escribir código más modular y genérico, ya que podemos diseñar nuestras clases para que implementen una interfaz común, pero con comportamientos diferentes. Esto nos permite reutilizar código y aumentar la flexibilidad de nuestro programa."
      ],
      "metadata": {
        "id": "fbo5B6XWHZWx"
      }
    },
    {
      "cell_type": "markdown",
      "source": [
        "Además, el polimorfismo también es una técnica importante para la abstracción de datos, ya que nos permite ocultar detalles de implementación detrás de una interfaz común. Por ejemplo, si tenemos una clase Figura que tiene un método calcular_area(), podemos crear subclases como Rectángulo y Círculo que implementen el método de manera diferente, pero que todavía se comporten como una Figura. Esto nos permite abstraer la complejidad de la implementación y trabajar con objetos de manera más abstracta y genérica."
      ],
      "metadata": {
        "id": "1fFL9vHkHash"
      }
    }
  ]
}