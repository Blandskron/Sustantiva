{
  "nbformat": 4,
  "nbformat_minor": 0,
  "metadata": {
    "colab": {
      "provenance": []
    },
    "kernelspec": {
      "name": "python3",
      "display_name": "Python 3"
    },
    "language_info": {
      "name": "python"
    }
  },
  "cells": [
    {
      "cell_type": "markdown",
      "source": [
        "# **Stacks en Python**"
      ],
      "metadata": {
        "id": "Ge8WHptPFDfA"
      }
    },
    {
      "cell_type": "markdown",
      "source": [
        "Un stack (o pila) es una estructura de datos lineal que sigue el principio “último en entrar, primero en salir” (Last In, First Out, LIFO). Esto significa que el último elemento agregado al stack será el primero en ser eliminado. En Python, podemos implementar un stack utilizando listas."
      ],
      "metadata": {
        "id": "beO8eDRvFGXg"
      }
    },
    {
      "cell_type": "markdown",
      "source": [
        "**Complejidad Algorítmica**"
      ],
      "metadata": {
        "id": "Opc3GMV6FISw"
      }
    },
    {
      "cell_type": "markdown",
      "source": [
        "La complejidad de los métodos de un stack en Python depende de la implementación utilizada. Si se utiliza una lista, la complejidad es la siguiente:"
      ],
      "metadata": {
        "id": "1HX0yfK5FQRY"
      }
    },
    {
      "cell_type": "markdown",
      "source": [
        "**Algoritmo\tNotación Big O**\n",
        "\n",
        "Agregar un elemento (push)\tO(1)\n",
        "\n",
        "Eliminar un elemento (pop)\tO(1)\n",
        "\n",
        "Acceder al último elemento\tO(1)\n",
        "\n",
        "Acceder a un elemento en una posición específica\tO(1)"
      ],
      "metadata": {
        "id": "L2PVfWRlFSIp"
      }
    },
    {
      "cell_type": "markdown",
      "source": [
        "En general, utilizar listas para implementar un stack en Python es una opción eficiente, ya que ofrece un buen rendimiento para todas las operaciones."
      ],
      "metadata": {
        "id": "TOW6u4FfFaff"
      }
    },
    {
      "cell_type": "markdown",
      "source": [
        "**Construyamos un Stack en Python**"
      ],
      "metadata": {
        "id": "MGLtrp52Fe1v"
      }
    },
    {
      "cell_type": "markdown",
      "source": [
        "A continuación, implementaremos un stack en Python utilizando una clase y aprovechando la estructura de lista nativa de Python."
      ],
      "metadata": {
        "id": "LTs4KY7PFjyg"
      }
    },
    {
      "cell_type": "code",
      "execution_count": null,
      "metadata": {
        "id": "44lUFjKKFBi9"
      },
      "outputs": [],
      "source": [
        "class Node:\n",
        "    def __init__(self, value):\n",
        "        self.value = value\n",
        "        self.next = None\n",
        "\n",
        "class Stack:\n",
        "    def __init__(self):\n",
        "        self.top = None\n",
        "        self.bottom = None\n",
        "        self.length = 0\n",
        "\n",
        "    def push(self, value):\n",
        "        new_node = Node(value)\n",
        "        if self.length == 0:\n",
        "            self.top = new_node\n",
        "            self.bottom = new_node\n",
        "        else:\n",
        "            new_node.next = self.top\n",
        "            self.top = new_node\n",
        "        self.length += 1\n",
        "\n",
        "    def pop(self):\n",
        "        if not self.top:\n",
        "            return None\n",
        "        if self.top == self.bottom:\n",
        "            self.bottom = None\n",
        "        popped_node = self.top\n",
        "        self.top = self.top.next\n",
        "        self.length -= 1\n",
        "        return popped_node.value\n",
        "\n",
        "    def peek(self):\n",
        "        return self.top.value if self.top else None\n",
        "\n",
        "    def is_empty(self):\n",
        "        return self.length == 0"
      ]
    },
    {
      "cell_type": "markdown",
      "source": [
        "En esta implementación, hemos creado la clase Node que representa un nodo en el stack, y la clase Stack que implementa el stack en sí."
      ],
      "metadata": {
        "id": "Balk_hYBFo0H"
      }
    },
    {
      "cell_type": "markdown",
      "source": [
        "La clase Node tiene un constructor que inicializa el nodo con un valor y establece next como None."
      ],
      "metadata": {
        "id": "JPTzhXMxFsVZ"
      }
    },
    {
      "cell_type": "markdown",
      "source": [
        "La clase Stack tiene un constructor que inicializa el stack con top, bottom y length establecidos como None, None y 0, respectivamente."
      ],
      "metadata": {
        "id": "WUyLagh6FxKo"
      }
    },
    {
      "cell_type": "markdown",
      "source": [
        "Los métodos implementados en la clase Stack son los siguientes:"
      ],
      "metadata": {
        "id": "-9rNx503F1vY"
      }
    },
    {
      "cell_type": "markdown",
      "source": [
        "\n",
        "\n",
        "*   **push:** Agrega un nuevo nodo en la parte superior del stack. Si el stack está vacío, asigna el nuevo nodo tanto a top como a bottom. En caso contrario, hace que new_node.next apunte al nodo actual en la parte superior del stack, actualiza top para que apunte al nuevo nodo y aumenta length en 1.\n",
        "*   **pop:** Elimina y devuelve el valor del nodo en la parte superior del stack. Si el stack está vacío, devuelve None. Si top y bottom son iguales, se establece bottom en None. Guarda el nodo en la parte superior en la variable popped_node, actualiza top para que apunte al siguiente nodo en el stack, disminuye length en 1 y devuelve el valor de popped_node.\n",
        "*   **peek:** Devuelve el valor del nodo en la parte superior del stack sin eliminarlo. Si el stack está vacío, devuelve None.\n",
        "*   **is_empty:** Verifica si el stack está vacío comprobando si length es igual a 0."
      ],
      "metadata": {
        "id": "N7nLFMCuF6oH"
      }
    },
    {
      "cell_type": "markdown",
      "source": [
        "**Oportunidades donde puedes usar un Stack**"
      ],
      "metadata": {
        "id": "NWz8csE7Ga7X"
      }
    },
    {
      "cell_type": "markdown",
      "source": [
        "El stack es una estructura de datos muy versátil que puede utilizarse en diversas situaciones. Algunas oportunidades donde es conveniente utilizar un stack en Python incluyen:"
      ],
      "metadata": {
        "id": "YMTBUcRIGhfI"
      }
    },
    {
      "cell_type": "markdown",
      "source": [
        "\n",
        "\n",
        "*   **Evaluación de expresiones matemáticas:** Los stacks son útiles para evaluar expresiones matemáticas en notación postfija (o notación polaca inversa), donde los operadores siguen a sus operandos.\n",
        "*   **Reversión de cadenas:** Puedes utilizar un stack para invertir el orden de los caracteres en una cadena.\n",
        "*   **Validación de sintaxis:** Los stacks pueden ayudar a validar la sintaxis de expresiones, como verificar el equilibrio de paréntesis, corchetes y llaves.\n",
        "*   Implementación de algoritmos como el recorrido en profundidad (DFS) de un grafo o la búsqueda en profundidad de un árbol.\n",
        "\n"
      ],
      "metadata": {
        "id": "5gHRn2iYGjhv"
      }
    },
    {
      "cell_type": "markdown",
      "source": [
        "Es importante tener en cuenta las características del stack y elegir la estructura de datos adecuada según los requisitos específicos del problema."
      ],
      "metadata": {
        "id": "L8eAFqA5G-wQ"
      }
    },
    {
      "cell_type": "markdown",
      "source": [
        "En resumen, hemos aprendido cómo implementar un stack en Python utilizando listas y una clase. También hemos explorado las oportunidades en las que un stack puede ser útil y la complejidad algorítmica de los métodos implementados.\n"
      ],
      "metadata": {
        "id": "sWKpG5Z1IRhm"
      }
    }
  ]
}