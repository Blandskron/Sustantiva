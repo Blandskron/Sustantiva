{
 "cells": [
  {
   "cell_type": "markdown",
   "id": "9ace3b36",
   "metadata": {},
   "source": [
    "## Sets"
   ]
  },
  {
   "cell_type": "code",
   "execution_count": null,
   "id": "1bb9b937",
   "metadata": {},
   "outputs": [],
   "source": [
    "# Ejemplo de operaciones básicas con conjuntos (sets)\n",
    "\n",
    "# Definición de dos conjuntos\n",
    "set1 = {1, 2, 3, 4, 5}\n",
    "set2 = {4, 5, 6, 7, 8}\n",
    "\n",
    "# Unión de conjuntos\n",
    "union = set1.union(set2)\n",
    "print(\"Unión de conjuntos:\", union)\n",
    "\n",
    "# Intersección de conjuntos\n",
    "interseccion = set1.intersection(set2)\n",
    "print(\"Intersección de conjuntos:\", interseccion)\n",
    "\n",
    "# Diferencia de conjuntos\n",
    "diferencia = set1.difference(set2)\n",
    "print(\"Diferencia de conjuntos (set1 - set2):\", diferencia)\n",
    "\n",
    "# Agregar un elemento al conjunto\n",
    "set1.add(6)\n",
    "print(\"Conjunto set1 después de agregar un elemento:\", set1)\n"
   ]
  },
  {
   "cell_type": "markdown",
   "id": "f39e6aee",
   "metadata": {},
   "source": [
    "## Tuples"
   ]
  },
  {
   "cell_type": "code",
   "execution_count": null,
   "id": "2841cbc2",
   "metadata": {},
   "outputs": [],
   "source": [
    "# Ejemplo de operaciones básicas con tuplas\n",
    "\n",
    "# Definición de una tupla\n",
    "mi_tupla = (1, 2, 3, 4, 5)\n",
    "\n",
    "# Acceso a elementos individuales de la tupla\n",
    "print(\"Primer elemento de la tupla:\", mi_tupla[0])\n",
    "print(\"Último elemento de la tupla:\", mi_tupla[-1])\n",
    "\n",
    "# Longitud de la tupla\n",
    "print(\"Longitud de la tupla:\", len(mi_tupla))\n",
    "\n",
    "# Concatenación de tuplas\n",
    "tupla_concatenada = mi_tupla + (6, 7, 8)\n",
    "print(\"Tupla concatenada:\", tupla_concatenada)\n",
    "\n",
    "# Repetición de una tupla\n",
    "tupla_repetida = mi_tupla * 2\n",
    "print(\"Tupla repetida:\", tupla_repetida)\n"
   ]
  }
 ],
 "metadata": {
  "kernelspec": {
   "display_name": "Python 3 (ipykernel)",
   "language": "python",
   "name": "python3"
  },
  "language_info": {
   "codemirror_mode": {
    "name": "ipython",
    "version": 3
   },
   "file_extension": ".py",
   "mimetype": "text/x-python",
   "name": "python",
   "nbconvert_exporter": "python",
   "pygments_lexer": "ipython3",
   "version": "3.10.2"
  }
 },
 "nbformat": 4,
 "nbformat_minor": 5
}
