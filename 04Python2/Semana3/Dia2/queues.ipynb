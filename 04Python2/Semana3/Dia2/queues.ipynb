{
  "nbformat": 4,
  "nbformat_minor": 0,
  "metadata": {
    "colab": {
      "provenance": []
    },
    "kernelspec": {
      "name": "python3",
      "display_name": "Python 3"
    },
    "language_info": {
      "name": "python"
    }
  },
  "cells": [
    {
      "cell_type": "markdown",
      "source": [
        "# **Queues en Python**"
      ],
      "metadata": {
        "id": "CTKcPd-gI8zg"
      }
    },
    {
      "cell_type": "markdown",
      "source": [
        "**¿Qué es un Queue?**"
      ],
      "metadata": {
        "id": "phvkWmGsI_0_"
      }
    },
    {
      "cell_type": "markdown",
      "source": [
        "Un Queue (cola) es una estructura de datos lineal que sigue la regla de “primero en entrar, primero en salir” (FIFO). En otras palabras, el primer elemento que se inserta en la cola es el primero en ser eliminado. Funciona como una fila de elementos en la que nuevos elementos se agregan al final y se eliminan del frente. Las colas son útiles en situaciones donde es importante mantener el orden de llegada de los elementos."
      ],
      "metadata": {
        "id": "scQ7Da0AJBun"
      }
    },
    {
      "cell_type": "markdown",
      "source": [
        "**Complejidad algorítmica**"
      ],
      "metadata": {
        "id": "p6mBvUK1JDg_"
      }
    },
    {
      "cell_type": "markdown",
      "source": [
        "Los métodos en una cola tienen una complejidad algorítmica constante, lo que significa que la eficiencia no depende del tamaño de la cola. Veamos la complejidad de los principales métodos:"
      ],
      "metadata": {
        "id": "3Ep3coT-JMuH"
      }
    },
    {
      "cell_type": "markdown",
      "source": [
        "**Algoritmo\tBig O Notation**\n",
        "\n",
        "Acceder a elementos\tO(n)\n",
        "\n",
        "Insertar\tO(1)\n",
        "\n",
        "Eliminar\tO(1)\n",
        "\n",
        "Verificar si está vacía\tO(1)\n",
        "\n",
        "Verificar la cantidad\tO(1)"
      ],
      "metadata": {
        "id": "sqXnGcIlJOin"
      }
    },
    {
      "cell_type": "markdown",
      "source": [
        "Como se puede observar, las operaciones de acceso, inserción y eliminación son todas O(1), lo que hace que los queues sean altamente eficientes."
      ],
      "metadata": {
        "id": "XUAiIApkJVMH"
      }
    },
    {
      "cell_type": "markdown",
      "source": [
        "**Oportunidades donde puedes usar un Queue**"
      ],
      "metadata": {
        "id": "K4rhU-M4JXff"
      }
    },
    {
      "cell_type": "markdown",
      "source": [
        "Hay diversas situaciones en las que es conveniente utilizar un Queue:"
      ],
      "metadata": {
        "id": "z5-MA9FqJdnf"
      }
    },
    {
      "cell_type": "markdown",
      "source": [
        "\n",
        "\n",
        "1.   Procesamiento en el mismo orden de llegada: Cuando necesitas procesar datos en el mismo orden en que fueron recibidos, como mensajes de correo electrónico, solicitudes de clientes, tareas en un sistema de planificación, etc.\n",
        "2.   Registro de eventos: Para mantener un registro de los últimos elementos agregados o modificados, como los registros de transacciones de un sistema de base de datos.\n",
        "3.   Recorrido en amplitud (BFS): En algoritmos de búsqueda en árboles o grafos, como el recorrido en amplitud (BFS), donde se deben explorar los nodos en orden de proximidad desde un nodo inicial.\n",
        "\n"
      ],
      "metadata": {
        "id": "pgy6E41WJfpX"
      }
    },
    {
      "cell_type": "markdown",
      "source": [
        "Situaciones en las que NO es muy conveniente usarlos"
      ],
      "metadata": {
        "id": "QR9trZNFJ5Go"
      }
    },
    {
      "cell_type": "markdown",
      "source": [
        "Aunque los queues son eficientes para ciertos casos, hay situaciones donde no son la mejor opción:"
      ],
      "metadata": {
        "id": "ZACYjwlNJ6-Y"
      }
    },
    {
      "cell_type": "markdown",
      "source": [
        "\n",
        "\n",
        "1.   Acceso aleatorio: Si necesitas acceso aleatorio a los elementos (por índice), es más eficiente utilizar estructuras como arrays o listas enlazadas.\n",
        "2.   Búsqueda de elementos específicos: Si necesitas buscar elementos específicos dentro de la cola, también sería más eficiente usar una estructura de datos como un hash table (diccionario) para obtener una búsqueda más rápida.\n",
        "\n"
      ],
      "metadata": {
        "id": "nMW8qkuEJ9gP"
      }
    },
    {
      "cell_type": "markdown",
      "source": [
        "**Construyamos un Queue**"
      ],
      "metadata": {
        "id": "F0b2g5i9KI9-"
      }
    },
    {
      "cell_type": "markdown",
      "source": [
        "A continuación, mostraremos una implementación de una cola en Python utilizando la clase Node para representar los nodos del queue y la clase Queue para definir la estructura de la cola:"
      ],
      "metadata": {
        "id": "hRGKFS6BKKe-"
      }
    },
    {
      "cell_type": "code",
      "execution_count": null,
      "metadata": {
        "id": "2EWnU8JDI6xp"
      },
      "outputs": [],
      "source": [
        "class Node:\n",
        "    def __init__(self, value):\n",
        "        self.value = value\n",
        "        self.next = None\n",
        "\n",
        "class Queue:\n",
        "    def __init__(self):\n",
        "        self.first = None\n",
        "        self.last = None\n",
        "        self.length = 0\n",
        "\n",
        "    def enqueue(self, value):\n",
        "        new_node = Node(value)\n",
        "        if self.length == 0:\n",
        "            self.first = new_node\n",
        "            self.last = new_node\n",
        "        else:\n",
        "            self.last.next = new_node\n",
        "            self.last = new_node\n",
        "        self.length += 1\n",
        "\n",
        "    def dequeue(self):\n",
        "        if self.length == 0:\n",
        "            raise IndexError(\"La queue está vacía\")\n",
        "        removed_node = self.first\n",
        "        if self.first == self.last:\n",
        "            self.last = None\n",
        "        self.first = self.first.next\n",
        "        self.length -= 1\n",
        "        return removed_node.value\n",
        "\n",
        "    def is_empty(self):\n",
        "        return self.length == 0\n",
        "\n",
        "    def size(self):\n",
        "        return self.length"
      ]
    },
    {
      "cell_type": "markdown",
      "source": [
        "En esta implementación, la clase Node representa un nodo de la cola, con un constructor que inicializa el valor del nodo y establece next como None."
      ],
      "metadata": {
        "id": "UHPzThBLKPKn"
      }
    },
    {
      "cell_type": "markdown",
      "source": [
        "La clase Queue representa la cola y tiene un constructor que inicializa los punteros first y last como None y la longitud length en 0."
      ],
      "metadata": {
        "id": "EVs_TPUDKRSG"
      }
    },
    {
      "cell_type": "markdown",
      "source": [
        "Los métodos implementados en la clase Queue son los siguientes:"
      ],
      "metadata": {
        "id": "dPKJTRAZKV1v"
      }
    },
    {
      "cell_type": "markdown",
      "source": [
        "\n",
        "\n",
        "*   **enqueue:** Agrega un nuevo nodo al final de la cola. Si la cola está vacía, tanto first como last apuntan al nuevo nodo. En caso contrario, se establece last.next para que apunte al nuevo nodo y se actualiza last para que apunte al nuevo nodo.\n",
        "*   **dequeue:** Elimina y devuelve el valor del nodo en el frente de la cola. Si la cola está vacía, se lanza una excepción IndexError. Si first y last son iguales, se establece last en None. Se actualiza first para que apunte al siguiente nodo en la cola, se disminuye length en 1 y se devuelve el valor del nodo removido.\n",
        "*   **is_empty:** Verifica si la cola está vacía comprobando si length es igual a 0.\n",
        "*   **size:** Devuelve la cantidad de nodos en la cola, que es el valor de length.\n",
        "\n"
      ],
      "metadata": {
        "id": "w6re7m3PKZDv"
      }
    },
    {
      "cell_type": "markdown",
      "source": [
        "Esta implementación nos permite crear y utilizar una cola eficiente en Python, respetando el principio de “primero en entrar, primero en salir”."
      ],
      "metadata": {
        "id": "nv5KjVR_K2io"
      }
    }
  ]
}