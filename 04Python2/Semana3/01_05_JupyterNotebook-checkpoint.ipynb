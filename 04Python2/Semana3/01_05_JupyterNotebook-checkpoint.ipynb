{
 "cells": [
  {
   "cell_type": "markdown",
   "id": "62ce1d82",
   "metadata": {},
   "source": [
    "# Title\n",
    "## Smaller Title"
   ]
  },
  {
   "cell_type": "markdown",
   "id": "12d15452",
   "metadata": {},
   "source": [
    "\\begin{equation}\n",
    "e^x=\\sum_{i=0}^\\infty \\frac{1}{i!}x^i\n",
    "\\end{equation}"
   ]
  },
  {
   "cell_type": "code",
   "execution_count": 2,
   "id": "ab0b33ee",
   "metadata": {},
   "outputs": [
    {
     "name": "stdout",
     "output_type": "stream",
     "text": [
      "Doing some data science!\n"
     ]
    }
   ],
   "source": [
    "print('Doing some data science!')"
   ]
  },
  {
   "cell_type": "code",
   "execution_count": null,
   "id": "70df0832",
   "metadata": {},
   "outputs": [],
   "source": []
  },
  {
   "cell_type": "code",
   "execution_count": null,
   "id": "23519052",
   "metadata": {},
   "outputs": [],
   "source": []
  }
 ],
 "metadata": {
  "kernelspec": {
   "display_name": "Python 3 (ipykernel)",
   "language": "python",
   "name": "python3"
  },
  "language_info": {
   "codemirror_mode": {
    "name": "ipython",
    "version": 3
   },
   "file_extension": ".py",
   "mimetype": "text/x-python",
   "name": "python",
   "nbconvert_exporter": "python",
   "pygments_lexer": "ipython3",
   "version": "3.10.4"
  }
 },
 "nbformat": 4,
 "nbformat_minor": 5
}
