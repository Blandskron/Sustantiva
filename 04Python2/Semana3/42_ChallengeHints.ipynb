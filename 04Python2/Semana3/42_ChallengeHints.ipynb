{
 "cells": [
  {
   "cell_type": "markdown",
   "id": "5dd93e49",
   "metadata": {},
   "source": [
    "## Message Exceptions\n",
    "\n",
    "The SaveMessages class now has limited memory and should only be able to hold a maximum of 10 messages at once.\n",
    "\n",
    "This challenge has three parts, outlined in comments below. \n",
    "\n",
    "**\\# 1. Finish creating the TooManyMessagesException class**\n",
    "\n",
    "Fill in the TooManyMessagesException class. Add a custom message!\n",
    "\n",
    "**\\# 2. Raise a TooManyMessagesException exception here**\n",
    "\n",
    "Make sure that the SaveMessages class doesn't get over-full and raises an Exception if the max_messages limit is reached.\n",
    "\n",
    "**\\# 3. Catch a TooManyMessagesException and print the messages**\n",
    "\n",
    "Modify this code so that, if an exception is raised when the message is sent, the messages are printed out (emptying the message list) and the message is re-sent. Make sure to print out any remaining messages at the end!\n"
   ]
  },
  {
   "cell_type": "markdown",
   "id": "ca178254",
   "metadata": {},
   "source": [
    "### Challenge Hints!\n",
    "\n",
    "**Hint 1:** Remember to make your TooManyMessagesException extend the Exception class"
   ]
  },
  {
   "cell_type": "code",
   "execution_count": 4,
   "id": "be048e96",
   "metadata": {},
   "outputs": [],
   "source": [
    "class TooManyMessagesException(Exception):\n",
    "    pass"
   ]
  },
  {
   "cell_type": "markdown",
   "id": "2fe67396",
   "metadata": {},
   "source": [
    "**Hint 2:** You can call the initialization function in the parent class using \"super\":\n",
    "\n"
   ]
  },
  {
   "cell_type": "code",
   "execution_count": null,
   "id": "67a1a237",
   "metadata": {},
   "outputs": [],
   "source": [
    "super().__init__(\"Some string argument, like a message or something\")"
   ]
  },
  {
   "cell_type": "markdown",
   "id": "b7354930",
   "metadata": {},
   "source": [
    "**Hint 3:** Use a try / except to send messages and re-send messages on failure:"
   ]
  },
  {
   "cell_type": "code",
   "execution_count": null,
   "id": "9b8169e2",
   "metadata": {},
   "outputs": [],
   "source": [
    "message = 'This is another message'\n",
    "try:\n",
    "    sender.send(message)\n",
    "except:\n",
    "    listener.printMessages()\n",
    "    sender.send(message)"
   ]
  },
  {
   "cell_type": "code",
   "execution_count": 7,
   "id": "4261d50d",
   "metadata": {},
   "outputs": [],
   "source": [
    "from datetime import datetime\n",
    "\n",
    "def getCurrentTime():\n",
    "    return datetime.now().strftime(\"%m-%d-%Y %H:%M:%S\")\n",
    "\n",
    "\n",
    "class Messenger:\n",
    "    def __init__(self, listeners=[]):\n",
    "        self.listeners = listeners\n",
    "    \n",
    "    def send(self, message):\n",
    "        for listener in self.listeners:\n",
    "            listener.receive(message)\n",
    "\n",
    "    def receive(self, message):\n",
    "        pass\n",
    "\n",
    "# 1. Finish creating the TooManyMessagesException class\n",
    "class TooManyMessagesException:\n",
    "    pass\n",
    "\n",
    "class SaveMessages(Messenger):\n",
    "    def __init__(self, listeners=[]):\n",
    "        super().__init__(listeners)\n",
    "        self.messages = []\n",
    "        self.max_messages = 10\n",
    "        \n",
    "    def receive(self, message):\n",
    "        if len(self.messages) >= self.max_messages:\n",
    "            # Raise a TooManyMessagesException exception here\n",
    "            pass\n",
    "        self.messages.append({'message': message, 'time': getCurrentTime()})\n",
    "        \n",
    "    def printMessages(self):\n",
    "        for m in self.messages:\n",
    "            print(f'Message: \"{m[\"message\"]}\" Time: {m[\"time\"]}')\n",
    "        self.messages = []\n",
    "\n"
   ]
  },
  {
   "cell_type": "code",
   "execution_count": 8,
   "id": "aa1f84f0",
   "metadata": {},
   "outputs": [],
   "source": [
    "listener = SaveMessages()\n",
    "sender = Messenger([listener])"
   ]
  },
  {
   "cell_type": "code",
   "execution_count": 9,
   "id": "e80893e9",
   "metadata": {},
   "outputs": [],
   "source": [
    "# 3. Catch a TooManyMessagesException and print the messages \n",
    "for i in range(0, 20):\n",
    "    sender.send(f'This is message {i}')"
   ]
  },
  {
   "cell_type": "code",
   "execution_count": null,
   "id": "7649ff01",
   "metadata": {},
   "outputs": [],
   "source": []
  }
 ],
 "metadata": {
  "kernelspec": {
   "display_name": "Python 3 (ipykernel)",
   "language": "python",
   "name": "python3"
  },
  "language_info": {
   "codemirror_mode": {
    "name": "ipython",
    "version": 3
   },
   "file_extension": ".py",
   "mimetype": "text/x-python",
   "name": "python",
   "nbconvert_exporter": "python",
   "pygments_lexer": "ipython3",
   "version": "3.9.13"
  }
 },
 "nbformat": 4,
 "nbformat_minor": 5
}
