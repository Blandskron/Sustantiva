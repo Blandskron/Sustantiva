{
 "cells": [
  {
   "cell_type": "markdown",
   "id": "b0b4ced9",
   "metadata": {},
   "source": [
    "## Booleans"
   ]
  },
  {
   "cell_type": "markdown",
   "id": "f6941665",
   "metadata": {},
   "source": [
    "### Casting Booleans"
   ]
  },
  {
   "cell_type": "code",
   "execution_count": null,
   "id": "3f3d0b08",
   "metadata": {},
   "outputs": [],
   "source": [
    "# Código para casting de booleanos\n",
    "\n",
    "# Casting de otros tipos de datos a booleanos\n",
    "valor1 = \"Hola\"\n",
    "valor2 = 0\n",
    "valor3 = [1, 2, 3]\n",
    "valor4 = None\n",
    "\n",
    "# Realizar el casting a booleano\n",
    "booleano1 = bool(valor1)\n",
    "booleano2 = bool(valor2)\n",
    "booleano3 = bool(valor3)\n",
    "booleano4 = bool(valor4)\n",
    "\n",
    "# Mostrar los resultados\n",
    "print(\"El booleano de\", valor1, \"es:\", booleano1)\n",
    "print(\"El booleano de\", valor2, \"es:\", booleano2)\n",
    "print(\"El booleano de\", valor3, \"es:\", booleano3)\n",
    "print(\"El booleano de\", valor4, \"es:\", booleano4)\n"
   ]
  },
  {
   "cell_type": "markdown",
   "id": "c512f867",
   "metadata": {},
   "source": [
    "### Boolean Logic"
   ]
  },
  {
   "cell_type": "code",
   "execution_count": null,
   "id": "22ea3349",
   "metadata": {},
   "outputs": [],
   "source": [
    "# Código para operaciones lógicas con booleanos\n",
    "\n",
    "# Definir dos variables booleanas\n",
    "booleano1 = True\n",
    "booleano2 = False\n",
    "\n",
    "# Operaciones lógicas\n",
    "resultado_and = booleano1 and booleano2\n",
    "resultado_or = booleano1 or booleano2\n",
    "resultado_not1 = not booleano1\n",
    "resultado_not2 = not booleano2\n",
    "\n",
    "# Mostrar resultados\n",
    "print(\"El resultado de la operación AND es:\", resultado_and)\n",
    "print(\"El resultado de la operación OR es:\", resultado_or)\n",
    "print(\"El resultado de la operación NOT para booleano1 es:\", resultado_not1)\n",
    "print(\"El resultado de la operación NOT para booleano2 es:\", resultado_not2)\n"
   ]
  }
 ],
 "metadata": {
  "kernelspec": {
   "display_name": "Python 3 (ipykernel)",
   "language": "python",
   "name": "python3"
  },
  "language_info": {
   "codemirror_mode": {
    "name": "ipython",
    "version": 3
   },
   "file_extension": ".py",
   "mimetype": "text/x-python",
   "name": "python",
   "nbconvert_exporter": "python",
   "pygments_lexer": "ipython3",
   "version": "3.10.2"
  }
 },
 "nbformat": 4,
 "nbformat_minor": 5
}
