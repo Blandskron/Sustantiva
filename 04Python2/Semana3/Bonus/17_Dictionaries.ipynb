{
 "cells": [
  {
   "cell_type": "markdown",
   "id": "4c1e4f06",
   "metadata": {},
   "source": [
    "## Dictionaries"
   ]
  },
  {
   "cell_type": "code",
   "execution_count": null,
   "id": "e1f38d37",
   "metadata": {},
   "outputs": [],
   "source": [
    "# Ejemplo de operaciones básicas con diccionarios estándar\n",
    "\n",
    "# Definición de un diccionario\n",
    "mi_diccionario = {'a': 1, 'b': 2, 'c': 3}\n",
    "\n",
    "# Acceso a elementos individuales del diccionario\n",
    "print(\"Valor asociado a la clave 'a':\", mi_diccionario['a'])\n",
    "\n",
    "# Agregar un nuevo elemento al diccionario\n",
    "mi_diccionario['d'] = 4\n",
    "print(\"Diccionario después de agregar un elemento:\", mi_diccionario)\n",
    "\n",
    "# Eliminar un elemento del diccionario\n",
    "del mi_diccionario['b']\n",
    "print(\"Diccionario después de eliminar un elemento:\", mi_diccionario)\n",
    "\n",
    "# Verificar la existencia de una clave en el diccionario\n",
    "clave = 'e'\n",
    "if clave in mi_diccionario:\n",
    "    print(f\"La clave '{clave}' existe en el diccionario.\")\n",
    "else:\n",
    "    print(f\"La clave '{clave}' no existe en el diccionario.\")\n"
   ]
  },
  {
   "cell_type": "markdown",
   "id": "534c6faa",
   "metadata": {},
   "source": [
    "### The Default Dict"
   ]
  },
  {
   "cell_type": "code",
   "execution_count": null,
   "id": "ddec03b3",
   "metadata": {},
   "outputs": [],
   "source": [
    "from collections import defaultdict\n",
    "\n",
    "# Ejemplo de operaciones básicas con defaultdict\n",
    "\n",
    "# Definición de un defaultdict\n",
    "mi_defaultdict = defaultdict(int)\n",
    "\n",
    "# Incrementar el valor asociado a una clave\n",
    "mi_defaultdict['a'] += 1\n",
    "mi_defaultdict['b'] += 2\n",
    "mi_defaultdict['c'] += 3\n",
    "\n",
    "print(\"Diccionario defaultdict después de incrementar valores:\", mi_defaultdict)\n",
    "\n",
    "# Acceso a una clave que no existe\n",
    "print(\"Valor asociado a la clave 'd' (default):\", mi_defaultdict['d'])\n",
    "\n",
    "print(\"Diccionario defaultdict después de acceder a una clave que no existe:\", mi_defaultdict)\n"
   ]
  }
 ],
 "metadata": {
  "kernelspec": {
   "display_name": "Python 3 (ipykernel)",
   "language": "python",
   "name": "python3"
  },
  "language_info": {
   "codemirror_mode": {
    "name": "ipython",
    "version": 3
   },
   "file_extension": ".py",
   "mimetype": "text/x-python",
   "name": "python",
   "nbconvert_exporter": "python",
   "pygments_lexer": "ipython3",
   "version": "3.10.2"
  }
 },
 "nbformat": 4,
 "nbformat_minor": 5
}
