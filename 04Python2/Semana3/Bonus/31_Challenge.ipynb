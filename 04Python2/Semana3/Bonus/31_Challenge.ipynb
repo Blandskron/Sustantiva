{
 "cells": [
  {
   "cell_type": "markdown",
   "id": "6aa3058e",
   "metadata": {},
   "source": [
    "## Declaring a \"Winner\"\n",
    "\n",
    "Write a function that returns the first item in a list sorted according to some rule. The rule should be a function that takes in an item and returns a numeric value\n",
    "\n",
    "Create a few rules and pass them into the function"
   ]
  },
  {
   "cell_type": "code",
   "execution_count": 6,
   "id": "01d1f0d6",
   "metadata": {},
   "outputs": [],
   "source": [
    "def inspectFunction(func):\n",
    "    pass\n",
    "    output = func()\n",
    "    print(locals())\n",
    "\n",
    "def myFunction():\n",
    "    a = 2\n",
    "    b = 3\n",
    "    \n",
    "    "
   ]
  },
  {
   "cell_type": "code",
   "execution_count": 7,
   "id": "e01c5bfc",
   "metadata": {},
   "outputs": [
    {
     "name": "stdout",
     "output_type": "stream",
     "text": [
      "{'func': <function myFunction at 0x1083bcca0>, 'output': None}\n"
     ]
    }
   ],
   "source": [
    "inspectFunction(myFunction)"
   ]
  },
  {
   "cell_type": "code",
   "execution_count": null,
   "id": "d4e1723a",
   "metadata": {},
   "outputs": [],
   "source": []
  }
 ],
 "metadata": {
  "kernelspec": {
   "display_name": "Python 3 (ipykernel)",
   "language": "python",
   "name": "python3"
  },
  "language_info": {
   "codemirror_mode": {
    "name": "ipython",
    "version": 3
   },
   "file_extension": ".py",
   "mimetype": "text/x-python",
   "name": "python",
   "nbconvert_exporter": "python",
   "pygments_lexer": "ipython3",
   "version": "3.9.13"
  }
 },
 "nbformat": 4,
 "nbformat_minor": 5
}
