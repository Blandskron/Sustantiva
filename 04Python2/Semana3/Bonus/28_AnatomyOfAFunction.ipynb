{
 "cells": [
  {
   "cell_type": "markdown",
   "id": "f4faef5f",
   "metadata": {},
   "source": [
    "## Functions"
   ]
  },
  {
   "cell_type": "code",
   "execution_count": 1,
   "id": "5df05257",
   "metadata": {},
   "outputs": [
    {
     "name": "stdout",
     "output_type": "stream",
     "text": [
      "Foo\n"
     ]
    }
   ],
   "source": [
    "# Definición de una función que suma dos números\n",
    "def suma(a, b):\n",
    "    return a + b\n",
    "\n",
    "# Llamada a la función suma\n",
    "resultado = suma(5, 3)\n",
    "print(\"La suma es:\", resultado)\n"
   ]
  },
  {
   "cell_type": "markdown",
   "id": "4ab92c6d",
   "metadata": {},
   "source": [
    "### Named Parameters"
   ]
  },
  {
   "cell_type": "code",
   "execution_count": 2,
   "id": "4ebd385a",
   "metadata": {},
   "outputs": [
    {
     "data": {
      "text/plain": [
       "'__main__'"
      ]
     },
     "execution_count": 2,
     "metadata": {},
     "output_type": "execute_result"
    }
   ],
   "source": [
    "# Definición de una función que imprime información del usuario\n",
    "def imprimir_informacion(nombre, edad, ciudad):\n",
    "    print(\"Nombre:\", nombre)\n",
    "    print(\"Edad:\", edad)\n",
    "    print(\"Ciudad:\", ciudad)\n",
    "\n",
    "# Llamada a la función con parámetros con nombre\n",
    "imprimir_informacion(nombre=\"Juan\", edad=30, ciudad=\"Madrid\")\n"
   ]
  }
 ],
 "metadata": {
  "kernelspec": {
   "display_name": "Python 3 (ipykernel)",
   "language": "python",
   "name": "python3"
  },
  "language_info": {
   "codemirror_mode": {
    "name": "ipython",
    "version": 3
   },
   "file_extension": ".py",
   "mimetype": "text/x-python",
   "name": "python",
   "nbconvert_exporter": "python",
   "pygments_lexer": "ipython3",
   "version": "3.10.2"
  }
 },
 "nbformat": 4,
 "nbformat_minor": 5
}
