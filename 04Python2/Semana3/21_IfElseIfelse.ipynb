{
 "cells": [
  {
   "cell_type": "markdown",
   "id": "eb3572f3",
   "metadata": {},
   "source": [
    "## If statements with \"FizzBuzz\""
   ]
  },
  {
   "cell_type": "code",
   "execution_count": null,
   "id": "9816da2b",
   "metadata": {},
   "outputs": [],
   "source": [
    "# 1, 2, Fizz, 4, Buzz, Fizz, 7, 8, Fizz, 9, Buzz, 11, Fizz, 13 14, FizzBuzz\n",
    "# FizzBuzz con if-elif-else\n",
    "for num in range(1, 21):\n",
    "    if num % 3 == 0 and num % 5 == 0:\n",
    "        print(\"FizzBuzz\")\n",
    "    elif num % 3 == 0:\n",
    "        print(\"Fizz\")\n",
    "    elif num % 5 == 0:\n",
    "        print(\"Buzz\")\n",
    "    else:\n",
    "        print(num)\n",
    "\n",
    "\n"
   ]
  },
  {
   "cell_type": "markdown",
   "id": "e935bb69",
   "metadata": {},
   "source": [
    "### Else statements"
   ]
  },
  {
   "cell_type": "code",
   "execution_count": null,
   "id": "f6d0a515",
   "metadata": {},
   "outputs": [],
   "source": [
    "# Declaración con else\n",
    "x = 5\n",
    "if x > 10:\n",
    "    print(\"x es mayor que 10\")\n",
    "else:\n",
    "    print(\"x no es mayor que 10\")\n"
   ]
  },
  {
   "cell_type": "markdown",
   "id": "b196aa6c",
   "metadata": {},
   "source": [
    "### Elif statements"
   ]
  },
  {
   "cell_type": "code",
   "execution_count": null,
   "id": "39fa2269",
   "metadata": {},
   "outputs": [],
   "source": [
    "# Declaración con elif\n",
    "x = 5\n",
    "if x > 10:\n",
    "    print(\"x es mayor que 10\")\n",
    "elif x < 10:\n",
    "    print(\"x es menor que 10\")\n",
    "else:\n",
    "    print(\"x es igual a 10\")\n"
   ]
  },
  {
   "cell_type": "markdown",
   "id": "bfb49426",
   "metadata": {},
   "source": [
    "### Single Line if statements"
   ]
  },
  {
   "cell_type": "code",
   "execution_count": null,
   "id": "c5c4b674",
   "metadata": {},
   "outputs": [],
   "source": [
    "# Declaración con if en una sola línea\n",
    "x = 5\n",
    "mensaje = \"x es mayor que 10\" if x > 10 else \"x no es mayor que 10\"\n",
    "print(mensaje)\n"
   ]
  }
 ],
 "metadata": {
  "kernelspec": {
   "display_name": "Python 3 (ipykernel)",
   "language": "python",
   "name": "python3"
  },
  "language_info": {
   "codemirror_mode": {
    "name": "ipython",
    "version": 3
   },
   "file_extension": ".py",
   "mimetype": "text/x-python",
   "name": "python",
   "nbconvert_exporter": "python",
   "pygments_lexer": "ipython3",
   "version": "3.10.2"
  }
 },
 "nbformat": 4,
 "nbformat_minor": 5
}
