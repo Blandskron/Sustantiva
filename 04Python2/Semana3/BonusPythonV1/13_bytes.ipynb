{
 "cells": [
  {
   "cell_type": "markdown",
   "id": "45ea1fc6",
   "metadata": {},
   "source": [
    "### Bytes"
   ]
  },
  {
   "cell_type": "code",
   "execution_count": null,
   "id": "66da8b7f",
   "metadata": {},
   "outputs": [],
   "source": [
    "# Creación de bytes\n",
    "# Puedes crear bytes usando un objeto de bytes o una lista de enteros que representan los valores de byte.\n",
    "\n",
    "# Usando un objeto de bytes\n",
    "bytes_objeto = bytes([65, 66, 67, 68, 69])  # Esto representa \"ABCDE\" en ASCII\n",
    "print(\"Bytes usando objeto de bytes:\", bytes_objeto)\n",
    "\n",
    "# Usando una cadena de bytes (prefijo 'b')\n",
    "bytes_cadena = b\"Hello, World!\"  # Crea una secuencia de bytes\n",
    "print(\"Bytes usando cadena de bytes:\", bytes_cadena)\n",
    "\n",
    "# También puedes crear bytes a partir de una cadena Unicode usando codificación\n",
    "bytes_codificados = \"¡Hola!\".encode('utf-8')  # Codifica la cadena Unicode a bytes usando UTF-8\n",
    "print(\"Bytes codificados:\", bytes_codificados)\n"
   ]
  }
 ],
 "metadata": {
  "kernelspec": {
   "display_name": "Python 3 (ipykernel)",
   "language": "python",
   "name": "python3"
  },
  "language_info": {
   "codemirror_mode": {
    "name": "ipython",
    "version": 3
   },
   "file_extension": ".py",
   "mimetype": "text/x-python",
   "name": "python",
   "nbconvert_exporter": "python",
   "pygments_lexer": "ipython3",
   "version": "3.10.2"
  }
 },
 "nbformat": 4,
 "nbformat_minor": 5
}
