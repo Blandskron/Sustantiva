{
 "cells": [
  {
   "cell_type": "code",
   "execution_count": null,
   "id": "fe22704f",
   "metadata": {},
   "outputs": [],
   "source": [
    "# Código que permite al usuario ingresar números enteros o decimales\n",
    "\n",
    "# Función para validar la entrada como entero o decimal\n",
    "def obtener_numero():\n",
    "    while True:\n",
    "        try:\n",
    "            num = input(\"Ingrese un número entero o decimal: \")\n",
    "            num = int(num) if '.' not in num else float(num)\n",
    "            return num\n",
    "        except ValueError:\n",
    "            print(\"Entrada inválida. Intente nuevamente.\")\n",
    "\n",
    "# Solicitar al usuario dos números\n",
    "print(\"Por favor ingrese dos números:\")\n",
    "numero1 = obtener_numero()\n",
    "numero2 = obtener_numero()\n",
    "\n",
    "# Realizar operaciones\n",
    "suma = numero1 + numero2\n",
    "resta = numero1 - numero2\n",
    "multiplicacion = numero1 * numero2\n",
    "division = numero1 / numero2\n",
    "\n",
    "# Mostrar resultados\n",
    "print(\"La suma de\", numero1, \"y\", numero2, \"es igual a:\", suma)\n",
    "print(\"La resta de\", numero1, \"y\", numero2, \"es igual a:\", resta)\n",
    "print(\"El producto de\", numero1, \"y\", numero2, \"es igual a:\", multiplicacion)\n",
    "print(\"La división de\", numero1, \"entre\", numero2, \"es igual a:\", division)\n"
   ]
  },
  {
   "cell_type": "markdown",
   "id": "db1f0a8f",
   "metadata": {},
   "source": [
    "## Integers"
   ]
  },
  {
   "cell_type": "code",
   "execution_count": null,
   "id": "cd9f4ef4",
   "metadata": {},
   "outputs": [],
   "source": [
    "# Código para operaciones con números enteros\n",
    "\n",
    "# Suma de dos números enteros\n",
    "num1 = 10\n",
    "num2 = 5\n",
    "suma = num1 + num2\n",
    "print(\"La suma de\", num1, \"y\", num2, \"es igual a:\", suma)\n",
    "\n",
    "# Resta de dos números enteros\n",
    "resta = num1 - num2\n",
    "print(\"La resta de\", num1, \"y\", num2, \"es igual a:\", resta)\n",
    "\n",
    "# Multiplicación de dos números enteros\n",
    "multiplicacion = num1 * num2\n",
    "print(\"El producto de\", num1, \"y\", num2, \"es igual a:\", multiplicacion)\n",
    "\n",
    "# División de dos números enteros\n",
    "division = num1 / num2\n",
    "print(\"La división de\", num1, \"entre\", num2, \"es igual a:\", division)\n"
   ]
  },
  {
   "cell_type": "markdown",
   "id": "c2930a6e",
   "metadata": {},
   "source": [
    "## Decimals"
   ]
  },
  {
   "cell_type": "code",
   "execution_count": null,
   "id": "a08341aa",
   "metadata": {},
   "outputs": [],
   "source": [
    "# Código para operaciones con números decimales\n",
    "\n",
    "from decimal import Decimal\n",
    "\n",
    "# Suma de dos números decimales\n",
    "num1 = Decimal('10.5')\n",
    "num2 = Decimal('3.2')\n",
    "suma = num1 + num2\n",
    "print(\"La suma de\", num1, \"y\", num2, \"es igual a:\", suma)\n",
    "\n",
    "# Resta de dos números decimales\n",
    "resta = num1 - num2\n",
    "print(\"La resta de\", num1, \"y\", num2, \"es igual a:\", resta)\n",
    "\n",
    "# Multiplicación de dos números decimales\n",
    "multiplicacion = num1 * num2\n",
    "print(\"El producto de\", num1, \"y\", num2, \"es igual a:\", multiplicacion)\n",
    "\n",
    "# División de dos números decimales\n",
    "division = num1 / num2\n",
    "print(\"La división de\", num1, \"entre\", num2, \"es igual a:\", division)\n"
   ]
  }
 ],
 "metadata": {
  "kernelspec": {
   "display_name": "Python 3 (ipykernel)",
   "language": "python",
   "name": "python3"
  },
  "language_info": {
   "codemirror_mode": {
    "name": "ipython",
    "version": 3
   },
   "file_extension": ".py",
   "mimetype": "text/x-python",
   "name": "python",
   "nbconvert_exporter": "python",
   "pygments_lexer": "ipython3",
   "version": "3.10.2"
  }
 },
 "nbformat": 4,
 "nbformat_minor": 5
}
