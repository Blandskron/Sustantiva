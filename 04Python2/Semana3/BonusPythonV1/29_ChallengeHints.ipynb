{
 "cells": [
  {
   "cell_type": "markdown",
   "id": "6aa3058e",
   "metadata": {},
   "source": [
    "## Can You Hear Me Now?\n",
    "\n",
    "Create a function \"getWithRetry\" that calls a function until it receives response that is not None, and then returns that response. If it continues to get no response, it should give up after a certain number of tries (to be decided by you) \n",
    "\n",
    "After filling out the \"getWithRetry\" function, run all of the cells in this notebook in order to test the following scenarios:\n",
    "- All services are up\n",
    "- All services are down\n",
    "- All services are down and making a request takes 0.2 seconds to execute\n",
    "\n",
    "What is the ideal number of retries before giving up? How do you know whether the service is down or you're just unlucky?"
   ]
  },
  {
   "cell_type": "code",
   "execution_count": 72,
   "id": "52439a5a",
   "metadata": {},
   "outputs": [],
   "source": [
    "import random\n",
    "import time"
   ]
  },
  {
   "cell_type": "code",
   "execution_count": 73,
   "id": "01d1f0d6",
   "metadata": {},
   "outputs": [],
   "source": [
    "servicesAreUp = True\n",
    "\n",
    "def getData50():\n",
    "    if servicesAreUp and random.random() < 0.5:\n",
    "        return 'You got the data! That only happens 50% of the time!'\n",
    "\n",
    "def getData25():\n",
    "    if servicesAreUp and random.random() < 0.25:\n",
    "        return 'You got the data! That only happens 25% of the time!'    \n",
    "\n",
    "def getData10():\n",
    "    if servicesAreUp and random.random() < 0.1:\n",
    "        return 'You got the data! That only happens 10% of the time!'"
   ]
  },
  {
   "cell_type": "code",
   "execution_count": 62,
   "id": "0994b5f1",
   "metadata": {},
   "outputs": [],
   "source": [
    "# Your code here!\n",
    "def getWithRetry(dataFunc):\n",
    "    pass"
   ]
  },
  {
   "cell_type": "code",
   "execution_count": 63,
   "id": "84eb11cb",
   "metadata": {},
   "outputs": [],
   "source": [
    "# Should return 'You got the data! That only happens 50% of the time!'\n",
    "getWithRetry(getData50)"
   ]
  },
  {
   "cell_type": "code",
   "execution_count": 64,
   "id": "fd803ca8",
   "metadata": {},
   "outputs": [],
   "source": [
    "# Should return 'You got the data! That only happens 25% of the time!'\n",
    "getWithRetry(getData25)"
   ]
  },
  {
   "cell_type": "code",
   "execution_count": 65,
   "id": "5732135e",
   "metadata": {},
   "outputs": [],
   "source": [
    "# Should return 'You got the data! That only happens 10% of the time!'\n",
    "getWithRetry(getData10)"
   ]
  },
  {
   "cell_type": "code",
   "execution_count": 66,
   "id": "c8ee2bd0",
   "metadata": {},
   "outputs": [],
   "source": [
    "servicesAreUp = False"
   ]
  },
  {
   "cell_type": "code",
   "execution_count": 67,
   "id": "961a60ea",
   "metadata": {},
   "outputs": [],
   "source": [
    "# Returns None\n",
    "getWithRetry(getData50)"
   ]
  },
  {
   "cell_type": "code",
   "execution_count": 68,
   "id": "b009f04c",
   "metadata": {},
   "outputs": [],
   "source": [
    "# Returns None\n",
    "getWithRetry(getData25)"
   ]
  },
  {
   "cell_type": "code",
   "execution_count": 69,
   "id": "a4b67294",
   "metadata": {},
   "outputs": [],
   "source": [
    "# Returns None\n",
    "getWithRetry(getData10)"
   ]
  },
  {
   "cell_type": "code",
   "execution_count": 75,
   "id": "2ac6e378",
   "metadata": {},
   "outputs": [],
   "source": [
    "def getData50():\n",
    "    time.sleep(.1)\n",
    "    if servicesAreUp and random.random() < 0.5:\n",
    "        return 'You got the data! That only happens 50% of the time!'\n",
    "\n",
    "def getData25():\n",
    "    time.sleep(.1)\n",
    "    if servicesAreUp and random.random() < 0.25:\n",
    "        return 'You got the data! That only happens 25% of the time!'    \n",
    "\n",
    "def getData10():\n",
    "    time.sleep(.1)\n",
    "    if servicesAreUp and random.random() < 0.1:\n",
    "        return 'You got the data! That only happens 10% of the time!'"
   ]
  },
  {
   "cell_type": "code",
   "execution_count": 71,
   "id": "3f96192e",
   "metadata": {},
   "outputs": [],
   "source": [
    "# Returns None\n",
    "getWithRetry(getData50)\n",
    "getWithRetry(getData25)\n",
    "getWithRetry(getData10)"
   ]
  },
  {
   "cell_type": "code",
   "execution_count": null,
   "id": "993f2d05",
   "metadata": {},
   "outputs": [],
   "source": []
  }
 ],
 "metadata": {
  "kernelspec": {
   "display_name": "Python 3 (ipykernel)",
   "language": "python",
   "name": "python3"
  },
  "language_info": {
   "codemirror_mode": {
    "name": "ipython",
    "version": 3
   },
   "file_extension": ".py",
   "mimetype": "text/x-python",
   "name": "python",
   "nbconvert_exporter": "python",
   "pygments_lexer": "ipython3",
   "version": "3.9.13"
  }
 },
 "nbformat": 4,
 "nbformat_minor": 5
}
