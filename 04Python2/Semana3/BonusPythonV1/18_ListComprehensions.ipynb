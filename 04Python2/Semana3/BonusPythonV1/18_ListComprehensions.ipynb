{
 "cells": [
  {
   "cell_type": "code",
   "execution_count": null,
   "id": "e5e2d532",
   "metadata": {},
   "outputs": [],
   "source": [
    "# List comprehension para calcular los cuadrados de los números del 1 al 10\n",
    "cuadrados = [x ** 2 for x in range(1, 11)]\n",
    "\n",
    "# Imprimir la lista de cuadrados\n",
    "print(\"Lista de cuadrados:\", cuadrados)\n"
   ]
  }
 ],
 "metadata": {
  "kernelspec": {
   "display_name": "Python 3 (ipykernel)",
   "language": "python",
   "name": "python3"
  },
  "language_info": {
   "codemirror_mode": {
    "name": "ipython",
    "version": 3
   },
   "file_extension": ".py",
   "mimetype": "text/x-python",
   "name": "python",
   "nbconvert_exporter": "python",
   "pygments_lexer": "ipython3",
   "version": "3.10.2"
  }
 },
 "nbformat": 4,
 "nbformat_minor": 5
}
