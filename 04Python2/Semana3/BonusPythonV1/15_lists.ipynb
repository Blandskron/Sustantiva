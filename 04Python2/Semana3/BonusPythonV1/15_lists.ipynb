{
 "cells": [
  {
   "cell_type": "markdown",
   "id": "911e1284",
   "metadata": {},
   "source": [
    "## Lists"
   ]
  },
  {
   "cell_type": "markdown",
   "id": "0f1cafc2",
   "metadata": {},
   "source": [
    "### List Slicing"
   ]
  },
  {
   "cell_type": "code",
   "execution_count": null,
   "id": "3cba56d9",
   "metadata": {},
   "outputs": [],
   "source": [
    "# Ejemplo de slicing en una lista\n",
    "\n",
    "# Definición de una lista\n",
    "mi_lista = [1, 2, 3, 4, 5, 6, 7, 8, 9, 10]\n",
    "\n",
    "# Obtener una porción de la lista utilizando slicing\n",
    "sub_lista = mi_lista[2:7]  # Obtener los elementos desde el índice 2 hasta el índice 6 (exclusivo)\n",
    "print(\"Sublista obtenida mediante slicing:\", sub_lista)\n",
    "\n",
    "# Modificar elementos en la sublista\n",
    "sub_lista[1] = 99\n",
    "print(\"Sublista después de modificar un elemento:\", sub_lista)\n",
    "\n",
    "# La lista original no se modifica\n",
    "print(\"Lista original:\", mi_lista)\n"
   ]
  },
  {
   "cell_type": "markdown",
   "id": "ab8fb837",
   "metadata": {},
   "source": [
    "### Modifying Lists"
   ]
  },
  {
   "cell_type": "code",
   "execution_count": null,
   "id": "ebc6255d",
   "metadata": {},
   "outputs": [],
   "source": [
    "# Ejemplo de modificación directa de elementos en una lista\n",
    "\n",
    "# Definición de una lista\n",
    "mi_lista = [10, 20, 30, 40, 50]\n",
    "\n",
    "# Modificar un elemento específico en la lista\n",
    "mi_lista[2] = 300\n",
    "\n",
    "# Mostrar la lista modificada\n",
    "print(\"Lista después de modificar un elemento:\", mi_lista)\n"
   ]
  }
 ],
 "metadata": {
  "kernelspec": {
   "display_name": "Python 3 (ipykernel)",
   "language": "python",
   "name": "python3"
  },
  "language_info": {
   "codemirror_mode": {
    "name": "ipython",
    "version": 3
   },
   "file_extension": ".py",
   "mimetype": "text/x-python",
   "name": "python",
   "nbconvert_exporter": "python",
   "pygments_lexer": "ipython3",
   "version": "3.10.2"
  }
 },
 "nbformat": 4,
 "nbformat_minor": 5
}
