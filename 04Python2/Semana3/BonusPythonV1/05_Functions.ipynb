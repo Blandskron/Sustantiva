{
 "cells": [
  {
   "cell_type": "code",
   "execution_count": null,
   "id": "dd1cfd33",
   "metadata": {},
   "outputs": [],
   "source": [
    "def suma(a, b):\n",
    "    \"\"\"\n",
    "    Esta función toma dos números y devuelve su suma.\n",
    "    \n",
    "    :param a: El primer número.\n",
    "    :type a: int, float\n",
    "    :param b: El segundo número.\n",
    "    :type b: int, float\n",
    "    :return: La suma de a y b.\n",
    "    :rtype: int, float\n",
    "    \"\"\"\n",
    "    resultado = a + b\n",
    "    return resultado\n",
    "\n",
    "# Ejemplo de uso de la función\n",
    "num1 = 5\n",
    "num2 = 3\n",
    "print(\"La suma de\", num1, \"y\", num2, \"es:\", suma(num1, num2))\n"
   ]
  },
  {
   "cell_type": "code",
   "execution_count": null,
   "id": "587f5960",
   "metadata": {},
   "outputs": [],
   "source": [
    "def calcular_area_triangulo(base, altura):\n",
    "    \"\"\"\n",
    "    Esta función calcula el área de un triángulo dada su base y altura.\n",
    "\n",
    "    :param base: La longitud de la base del triángulo.\n",
    "    :type base: int, float\n",
    "    :param altura: La altura del triángulo.\n",
    "    :type altura: int, float\n",
    "    :return: El área del triángulo.\n",
    "    :rtype: float\n",
    "    \"\"\"\n",
    "    area = (base * altura) / 2\n",
    "    return area\n",
    "\n",
    "# Ejemplo de uso de la función\n",
    "base_triangulo = 5\n",
    "altura_triangulo = 8\n",
    "print(\"El área del triángulo es:\", calcular_area_triangulo(base_triangulo, altura_triangulo))\n"
   ]
  },
  {
   "cell_type": "code",
   "execution_count": null,
   "id": "54be2db5",
   "metadata": {},
   "outputs": [],
   "source": [
    "def es_par_o_impar(numero):\n",
    "    \"\"\"\n",
    "    Esta función determina si un número dado es par o impar.\n",
    "\n",
    "    :param numero: El número a verificar.\n",
    "    :type numero: int\n",
    "    :return: 'Par' si el número es par, 'Impar' si el número es impar.\n",
    "    :rtype: str\n",
    "    \"\"\"\n",
    "    if numero % 2 == 0:\n",
    "        return 'Par'\n",
    "    else:\n",
    "        return 'Impar'\n",
    "\n",
    "# Ejemplo de uso de la función\n",
    "numero_evaluar = 17\n",
    "print(\"El número\", numero_evaluar, \"es:\", es_par_o_impar(numero_evaluar))\n"
   ]
  }
 ],
 "metadata": {
  "kernelspec": {
   "display_name": "Python 3 (ipykernel)",
   "language": "python",
   "name": "python3"
  },
  "language_info": {
   "codemirror_mode": {
    "name": "ipython",
    "version": 3
   },
   "file_extension": ".py",
   "mimetype": "text/x-python",
   "name": "python",
   "nbconvert_exporter": "python",
   "pygments_lexer": "ipython3",
   "version": "3.10.2"
  }
 },
 "nbformat": 4,
 "nbformat_minor": 5
}
