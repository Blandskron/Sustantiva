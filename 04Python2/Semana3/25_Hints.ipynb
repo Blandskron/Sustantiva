{
 "cells": [
  {
   "cell_type": "markdown",
   "id": "3d331168",
   "metadata": {},
   "source": [
    "## Faster Prime Finding\n",
    "\n",
    "Write a function that returns a list of all primes up to a given number.\n",
    "\n",
    "For each number, in order to determine if it is prime, take the following steps:\n",
    "1. Find the square root of the number\n",
    "2. Find all the primes up to that square root\n",
    "3. Test to see if any of those primes are divisors \n",
    "\n",
    "If a number has no prime divisors, it is prime!\n"
   ]
  },
  {
   "cell_type": "markdown",
   "id": "c722d7d2",
   "metadata": {},
   "source": [
    "### Challenge Hints!"
   ]
  },
  {
   "cell_type": "markdown",
   "id": "447e6304",
   "metadata": {},
   "source": [
    "**Hint 1:** The function should collect a list of prime numbers as goes. This is the list that it adds \"new primes\" to as well as the list it uses to check for factors.\n"
   ]
  },
  {
   "cell_type": "markdown",
   "id": "45c5dc7b",
   "metadata": {},
   "source": [
    "**Hint 2:** Try modifying the previously-written code:"
   ]
  },
  {
   "cell_type": "code",
   "execution_count": 1,
   "id": "747a1ebf",
   "metadata": {},
   "outputs": [
    {
     "name": "stdout",
     "output_type": "stream",
     "text": [
      "2 is prime!\n",
      "3 is prime!\n",
      "5 is prime!\n",
      "7 is prime!\n",
      "11 is prime!\n",
      "13 is prime!\n",
      "17 is prime!\n",
      "19 is prime!\n",
      "23 is prime!\n",
      "29 is prime!\n",
      "31 is prime!\n",
      "37 is prime!\n",
      "41 is prime!\n",
      "43 is prime!\n",
      "47 is prime!\n",
      "53 is prime!\n",
      "59 is prime!\n",
      "61 is prime!\n",
      "67 is prime!\n",
      "71 is prime!\n",
      "73 is prime!\n",
      "79 is prime!\n",
      "83 is prime!\n",
      "89 is prime!\n",
      "97 is prime!\n"
     ]
    }
   ],
   "source": [
    "for number in range(2, 100):\n",
    "    for factor in range(2, int(number ** 0.5) + 1):\n",
    "        if number % factor == 0:\n",
    "            break\n",
    "    else:\n",
    "        print(f'{number} is prime!')"
   ]
  },
  {
   "cell_type": "code",
   "execution_count": null,
   "id": "b27bfac4",
   "metadata": {},
   "outputs": [],
   "source": []
  },
  {
   "cell_type": "code",
   "execution_count": 1,
   "id": "5fc8b019",
   "metadata": {},
   "outputs": [],
   "source": [
    "def allPrimesUpTo(num):\n",
    "    pass"
   ]
  },
  {
   "cell_type": "code",
   "execution_count": 2,
   "id": "76e6a11b",
   "metadata": {},
   "outputs": [],
   "source": [
    "allPrimesUpTo(100)"
   ]
  },
  {
   "cell_type": "code",
   "execution_count": 3,
   "id": "0084237b",
   "metadata": {},
   "outputs": [],
   "source": [
    "allPrimesUpTo(1000)"
   ]
  },
  {
   "cell_type": "code",
   "execution_count": null,
   "id": "9c863053",
   "metadata": {},
   "outputs": [],
   "source": []
  }
 ],
 "metadata": {
  "kernelspec": {
   "display_name": "Python 3 (ipykernel)",
   "language": "python",
   "name": "python3"
  },
  "language_info": {
   "codemirror_mode": {
    "name": "ipython",
    "version": 3
   },
   "file_extension": ".py",
   "mimetype": "text/x-python",
   "name": "python",
   "nbconvert_exporter": "python",
   "pygments_lexer": "ipython3",
   "version": "3.9.13"
  }
 },
 "nbformat": 4,
 "nbformat_minor": 5
}
